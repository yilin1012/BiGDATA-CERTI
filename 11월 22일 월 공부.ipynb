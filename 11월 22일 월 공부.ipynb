{
 "cells": [
  {
   "cell_type": "markdown",
   "id": "2affe4f1",
   "metadata": {},
   "source": [
    "# 11월 22일 월 공부"
   ]
  },
  {
   "cell_type": "markdown",
   "id": "50838c47",
   "metadata": {},
   "source": [
    "## 보스턴 주택 가격 데이터로 데이터 정제 실전 과제 수행\n",
    "\n",
    "### 파일 : house_raw.csv"
   ]
  },
  {
   "cell_type": "markdown",
   "id": "77a60bef",
   "metadata": {},
   "source": [
    "#### 1. 데이터 불러오기 및 탐색"
   ]
  },
  {
   "cell_type": "code",
   "execution_count": 1,
   "id": "ba228b76",
   "metadata": {},
   "outputs": [
    {
     "data": {
      "text/html": [
       "<div>\n",
       "<style scoped>\n",
       "    .dataframe tbody tr th:only-of-type {\n",
       "        vertical-align: middle;\n",
       "    }\n",
       "\n",
       "    .dataframe tbody tr th {\n",
       "        vertical-align: top;\n",
       "    }\n",
       "\n",
       "    .dataframe thead th {\n",
       "        text-align: right;\n",
       "    }\n",
       "</style>\n",
       "<table border=\"1\" class=\"dataframe\">\n",
       "  <thead>\n",
       "    <tr style=\"text-align: right;\">\n",
       "      <th></th>\n",
       "      <th>housing_age</th>\n",
       "      <th>income</th>\n",
       "      <th>bedrooms</th>\n",
       "      <th>households</th>\n",
       "      <th>rooms</th>\n",
       "      <th>house_value</th>\n",
       "    </tr>\n",
       "  </thead>\n",
       "  <tbody>\n",
       "    <tr>\n",
       "      <th>0</th>\n",
       "      <td>23</td>\n",
       "      <td>6.7770</td>\n",
       "      <td>0.141112</td>\n",
       "      <td>2.442244</td>\n",
       "      <td>8.103960</td>\n",
       "      <td>500000</td>\n",
       "    </tr>\n",
       "    <tr>\n",
       "      <th>1</th>\n",
       "      <td>49</td>\n",
       "      <td>6.0199</td>\n",
       "      <td>0.160984</td>\n",
       "      <td>2.726688</td>\n",
       "      <td>5.752412</td>\n",
       "      <td>500000</td>\n",
       "    </tr>\n",
       "    <tr>\n",
       "      <th>2</th>\n",
       "      <td>35</td>\n",
       "      <td>5.1155</td>\n",
       "      <td>0.249061</td>\n",
       "      <td>1.902676</td>\n",
       "      <td>3.888078</td>\n",
       "      <td>500000</td>\n",
       "    </tr>\n",
       "    <tr>\n",
       "      <th>3</th>\n",
       "      <td>32</td>\n",
       "      <td>4.7109</td>\n",
       "      <td>0.231383</td>\n",
       "      <td>1.913669</td>\n",
       "      <td>4.508393</td>\n",
       "      <td>500000</td>\n",
       "    </tr>\n",
       "    <tr>\n",
       "      <th>4</th>\n",
       "      <td>21</td>\n",
       "      <td>4.5625</td>\n",
       "      <td>0.255583</td>\n",
       "      <td>3.092664</td>\n",
       "      <td>4.667954</td>\n",
       "      <td>500000</td>\n",
       "    </tr>\n",
       "  </tbody>\n",
       "</table>\n",
       "</div>"
      ],
      "text/plain": [
       "   housing_age  income  bedrooms  households     rooms  house_value\n",
       "0           23  6.7770  0.141112    2.442244  8.103960       500000\n",
       "1           49  6.0199  0.160984    2.726688  5.752412       500000\n",
       "2           35  5.1155  0.249061    1.902676  3.888078       500000\n",
       "3           32  4.7109  0.231383    1.913669  4.508393       500000\n",
       "4           21  4.5625  0.255583    3.092664  4.667954       500000"
      ]
     },
     "execution_count": 1,
     "metadata": {},
     "output_type": "execute_result"
    }
   ],
   "source": [
    "# 데이터 불러오기 및 탐색\n",
    "import pandas as pd\n",
    "data = pd.read_csv('/Users/yerim/Desktop/빅데이터분석기사/BigData_data_최종본(1022)/house_raw.csv')\n",
    "data.head()"
   ]
  },
  {
   "cell_type": "code",
   "execution_count": 4,
   "id": "c7e2aef8",
   "metadata": {},
   "outputs": [
    {
     "name": "stdout",
     "output_type": "stream",
     "text": [
      "<class 'pandas.core.frame.DataFrame'>\n",
      "RangeIndex: 17914 entries, 0 to 17913\n",
      "Data columns (total 6 columns):\n",
      " #   Column       Non-Null Count  Dtype  \n",
      "---  ------       --------------  -----  \n",
      " 0   housing_age  17914 non-null  int64  \n",
      " 1   income       17914 non-null  float64\n",
      " 2   bedrooms     17914 non-null  float64\n",
      " 3   households   17914 non-null  float64\n",
      " 4   rooms        17914 non-null  float64\n",
      " 5   house_value  17914 non-null  int64  \n",
      "dtypes: float64(4), int64(2)\n",
      "memory usage: 839.8 KB\n"
     ]
    }
   ],
   "source": [
    "data.info()"
   ]
  },
  {
   "cell_type": "code",
   "execution_count": 5,
   "id": "b20f71ba",
   "metadata": {},
   "outputs": [
    {
     "data": {
      "text/plain": [
       "137500    109\n",
       "162500    102\n",
       "112500     88\n",
       "187500     84\n",
       "225000     74\n",
       "         ... \n",
       "225300      1\n",
       "422700      1\n",
       "330300      1\n",
       "405500      1\n",
       "40400       1\n",
       "Name: house_value, Length: 3719, dtype: int64"
      ]
     },
     "execution_count": 5,
     "metadata": {},
     "output_type": "execute_result"
    }
   ],
   "source": [
    "data['house_value'].value_counts()"
   ]
  },
  {
   "cell_type": "code",
   "execution_count": 8,
   "id": "ed05944b",
   "metadata": {},
   "outputs": [
    {
     "data": {
      "text/plain": [
       "36    814\n",
       "35    779\n",
       "16    724\n",
       "17    655\n",
       "34    641\n",
       "26    587\n",
       "33    580\n",
       "32    530\n",
       "18    523\n",
       "25    519\n",
       "37    492\n",
       "15    478\n",
       "19    471\n",
       "27    455\n",
       "30    449\n",
       "24    446\n",
       "28    438\n",
       "20    435\n",
       "29    433\n",
       "31    422\n",
       "23    418\n",
       "21    411\n",
       "14    380\n",
       "38    369\n",
       "22    353\n",
       "39    348\n",
       "42    344\n",
       "44    337\n",
       "43    335\n",
       "13    286\n",
       "40    281\n",
       "41    276\n",
       "45    266\n",
       "10    245\n",
       "46    234\n",
       "11    224\n",
       "12    217\n",
       "5     198\n",
       "9     188\n",
       "47    187\n",
       "8     178\n",
       "48    165\n",
       "4     144\n",
       "7     139\n",
       "6     136\n",
       "49    125\n",
       "50    122\n",
       "3      46\n",
       "2      44\n",
       "51     43\n",
       "1       4\n",
       "Name: housing_age, dtype: int64"
      ]
     },
     "execution_count": 8,
     "metadata": {},
     "output_type": "execute_result"
    }
   ],
   "source": [
    "data['housing_age'].value_counts()"
   ]
  },
  {
   "cell_type": "code",
   "execution_count": 3,
   "id": "2a15a529",
   "metadata": {},
   "outputs": [
    {
     "data": {
      "text/html": [
       "<div>\n",
       "<style scoped>\n",
       "    .dataframe tbody tr th:only-of-type {\n",
       "        vertical-align: middle;\n",
       "    }\n",
       "\n",
       "    .dataframe tbody tr th {\n",
       "        vertical-align: top;\n",
       "    }\n",
       "\n",
       "    .dataframe thead th {\n",
       "        text-align: right;\n",
       "    }\n",
       "</style>\n",
       "<table border=\"1\" class=\"dataframe\">\n",
       "  <thead>\n",
       "    <tr style=\"text-align: right;\">\n",
       "      <th></th>\n",
       "      <th>housing_age</th>\n",
       "      <th>income</th>\n",
       "      <th>bedrooms</th>\n",
       "      <th>households</th>\n",
       "      <th>rooms</th>\n",
       "      <th>house_value</th>\n",
       "    </tr>\n",
       "  </thead>\n",
       "  <tbody>\n",
       "    <tr>\n",
       "      <th>count</th>\n",
       "      <td>17914.000000</td>\n",
       "      <td>17914.000000</td>\n",
       "      <td>17914.000000</td>\n",
       "      <td>17914.000000</td>\n",
       "      <td>17914.000000</td>\n",
       "      <td>17914.000000</td>\n",
       "    </tr>\n",
       "    <tr>\n",
       "      <th>mean</th>\n",
       "      <td>27.307022</td>\n",
       "      <td>3.664086</td>\n",
       "      <td>0.214309</td>\n",
       "      <td>3.007667</td>\n",
       "      <td>5.370672</td>\n",
       "      <td>188692.620130</td>\n",
       "    </tr>\n",
       "    <tr>\n",
       "      <th>std</th>\n",
       "      <td>11.297204</td>\n",
       "      <td>1.526694</td>\n",
       "      <td>0.055251</td>\n",
       "      <td>4.579534</td>\n",
       "      <td>2.332776</td>\n",
       "      <td>95318.621139</td>\n",
       "    </tr>\n",
       "    <tr>\n",
       "      <th>min</th>\n",
       "      <td>1.000000</td>\n",
       "      <td>0.499900</td>\n",
       "      <td>0.100000</td>\n",
       "      <td>0.692308</td>\n",
       "      <td>0.846154</td>\n",
       "      <td>14999.000000</td>\n",
       "    </tr>\n",
       "    <tr>\n",
       "      <th>25%</th>\n",
       "      <td>18.000000</td>\n",
       "      <td>2.526125</td>\n",
       "      <td>0.177544</td>\n",
       "      <td>2.467031</td>\n",
       "      <td>4.426115</td>\n",
       "      <td>114325.000000</td>\n",
       "    </tr>\n",
       "    <tr>\n",
       "      <th>50%</th>\n",
       "      <td>28.000000</td>\n",
       "      <td>3.447800</td>\n",
       "      <td>0.204256</td>\n",
       "      <td>2.853499</td>\n",
       "      <td>5.199222</td>\n",
       "      <td>170800.000000</td>\n",
       "    </tr>\n",
       "    <tr>\n",
       "      <th>75%</th>\n",
       "      <td>36.000000</td>\n",
       "      <td>4.583300</td>\n",
       "      <td>0.240476</td>\n",
       "      <td>3.318866</td>\n",
       "      <td>5.970848</td>\n",
       "      <td>242100.000000</td>\n",
       "    </tr>\n",
       "    <tr>\n",
       "      <th>max</th>\n",
       "      <td>51.000000</td>\n",
       "      <td>9.905500</td>\n",
       "      <td>1.000000</td>\n",
       "      <td>599.714286</td>\n",
       "      <td>132.533333</td>\n",
       "      <td>500000.000000</td>\n",
       "    </tr>\n",
       "  </tbody>\n",
       "</table>\n",
       "</div>"
      ],
      "text/plain": [
       "        housing_age        income      bedrooms    households         rooms  \\\n",
       "count  17914.000000  17914.000000  17914.000000  17914.000000  17914.000000   \n",
       "mean      27.307022      3.664086      0.214309      3.007667      5.370672   \n",
       "std       11.297204      1.526694      0.055251      4.579534      2.332776   \n",
       "min        1.000000      0.499900      0.100000      0.692308      0.846154   \n",
       "25%       18.000000      2.526125      0.177544      2.467031      4.426115   \n",
       "50%       28.000000      3.447800      0.204256      2.853499      5.199222   \n",
       "75%       36.000000      4.583300      0.240476      3.318866      5.970848   \n",
       "max       51.000000      9.905500      1.000000    599.714286    132.533333   \n",
       "\n",
       "         house_value  \n",
       "count   17914.000000  \n",
       "mean   188692.620130  \n",
       "std     95318.621139  \n",
       "min     14999.000000  \n",
       "25%    114325.000000  \n",
       "50%    170800.000000  \n",
       "75%    242100.000000  \n",
       "max    500000.000000  "
      ]
     },
     "execution_count": 3,
     "metadata": {},
     "output_type": "execute_result"
    }
   ],
   "source": [
    "# 변수의 기술 통계 확인\n",
    "data.describe()"
   ]
  },
  {
   "cell_type": "markdown",
   "id": "0d990d4a",
   "metadata": {},
   "source": [
    "#### 변수의 기술 통계 요약\n",
    "\n",
    "##### housing_age : 명목형 변수 -> 주택 나이\n",
    "##### income : 이산형 변수\n",
    "##### bedrooms : 이산형 변수\n",
    "##### households : 이산형 변수\n",
    "##### rooms : 이산형 변수\n",
    "##### house_value : 명목형 변수 -> 주택 가격"
   ]
  },
  {
   "cell_type": "code",
   "execution_count": 7,
   "id": "078b8646",
   "metadata": {},
   "outputs": [
    {
     "data": {
      "text/plain": [
       "array([[<AxesSubplot:title={'center':'housing_age'}>,\n",
       "        <AxesSubplot:title={'center':'income'}>],\n",
       "       [<AxesSubplot:title={'center':'bedrooms'}>,\n",
       "        <AxesSubplot:title={'center':'households'}>],\n",
       "       [<AxesSubplot:title={'center':'rooms'}>,\n",
       "        <AxesSubplot:title={'center':'house_value'}>]], dtype=object)"
      ]
     },
     "execution_count": 7,
     "metadata": {},
     "output_type": "execute_result"
    },
    {
     "data": {
      "image/png": "[encoded data removed]",
      "text/plain": [
       "<Figure size 1440x1080 with 6 Axes>"
      ]
     },
     "metadata": {
      "needs_background": "light"
     },
     "output_type": "display_data"
    }
   ],
   "source": [
    "# 변수 별 히스토그램 확인\n",
    "data.hist(bins=50, figsize=(20,15))\n",
    "\n",
    "'''\n",
    "bedrooms , households, rooms 에 너무 큰 값 존재하는 것으로 보임.\n",
    "-> 자료들이 왼쪽에 몰려있음.\n",
    "-> 이상치 의심 필요\n",
    "'''"
   ]
  },
  {
   "cell_type": "markdown",
   "id": "5cf9ac18",
   "metadata": {},
   "source": [
    "## 6.2 선형회귀 적용(정제 전 데이터)\n",
    "\n",
    "### 본 분석의 목적은 주택가격(house_value)의 예측 -> 선형 회귀 적용"
   ]
  },
  {
   "cell_type": "code",
   "execution_count": 10,
   "id": "e9c8d5fb",
   "metadata": {},
   "outputs": [],
   "source": [
    "# 머신러닝 적용 (1) : X 와 y를 나눔 / 독립 변수와 종속 변수 구분\n",
    "\n",
    "# x 에 house_age ~ rooms 까지 (독립 변수)\n",
    "x = data[data.columns[0:5]]\n",
    "\n",
    "# y 에 house_value (종속 변수)\n",
    "y = data['house_value']"
   ]
  },
  {
   "cell_type": "code",
   "execution_count": 13,
   "id": "6fc00a93",
   "metadata": {},
   "outputs": [],
   "source": [
    "# 머신러닝 적용 (2) : 학습용 데이터(train data set)과 테스트용 데이터(test data set) 구분\n",
    "# 학습용 데이터와 테스트용 데이터를 나누기 위한 라이브러리 : sklearn의 model_selection 에서 train_test_split\n",
    "# X와 Y를 7:3의 비율로 나누어 x_train, X_test, Y_train, Y_test 에 할당\n",
    "from sklearn.model_selection import train_test_split\n",
    "\n",
    "\n",
    "# 학습용 데이터 - train \n",
    "# 테스트용 데이터 - test\n",
    "X_train, X_test, Y_train, Y_test = train_test_split(x,y,random_state=42)"
   ]
  },
  {
   "cell_type": "code",
   "execution_count": 14,
   "id": "908fbcef",
   "metadata": {},
   "outputs": [],
   "source": [
    "# 머신러닝 적용 (3) : 독립변수 정규화\n",
    "# 독립변수 정규화 :: 훈련데이터 및 테스트 데이터의 독립변수의 단위를 동일하게 만드는 과정\n",
    "# Min-Max 방법 적용 : sklearn의 전처리 묘듈의 MinMaxScaler\n",
    "\n",
    "# sklearn 라이브러리의 preprocessing 모듈에서 MinMaxScaler 임포트\n",
    "from sklearn.preprocessing import MinMaxScaler\n",
    "\n",
    "# scaler_minmax 에 MinMaxScaler() 함수 할당\n",
    "scaler_minmax=MinMaxScaler()\n",
    "\n",
    "# .fit('변수명') 사용하여 변수에 MinMaxScaler() 함수 적용\n",
    "scaler_minmax.fit(X_train)\n",
    "\n",
    "# .transform() 함수 : 특질들을 추출하는 함수로 기존에 있던 특질로부터 새로운 특질을 추출할 때 사용할 수 있다\n",
    "# X_scaled_minmax_train 은 X_train 변수에 scaler_minmax를 적용해서 얻은 새로운 변수\n",
    "X_scaled_minmax_train=scaler_minmax.transform(X_train)\n",
    "# X_scaled_minmax_test 는 X_test 변수에 scaler_minmax를 적용해서 얻은 새로운 변수\n",
    "X_scaled_minmax_test=scaler_minmax.transform(X_test)\n"
   ]
  },
  {
   "cell_type": "code",
   "execution_count": 16,
   "id": "56209d9a",
   "metadata": {},
   "outputs": [
    {
     "data": {
      "text/plain": [
       "LinearRegression()"
      ]
     },
     "execution_count": 16,
     "metadata": {},
     "output_type": "execute_result"
    }
   ],
   "source": [
    "# 머신러닝 적용 (4) : 모델 적용\n",
    "# 선형 모델 LinearRegression 적용\n",
    "# sklearn 라이브러리의 linear_model 모듈 중 LinearRegression 적용\n",
    "from sklearn.linear_model import LinearRegression\n",
    "\n",
    "# model 은 LinearRegression()\n",
    "model = LinearRegression()\n",
    "\n",
    "# model에 x,y 적용 :\n",
    "# x는 적규화된 x_train 사용 : X_scaled_minmax_train \n",
    "# y는 Y_train\n",
    "model.fit(X_scaled_minmax_train, Y_train)"
   ]
  },
  {
   "cell_type": "code",
   "execution_count": 18,
   "id": "d40e60da",
   "metadata": {},
   "outputs": [
    {
     "data": {
      "text/plain": [
       "0.5463729131516732"
      ]
     },
     "execution_count": 18,
     "metadata": {},
     "output_type": "execute_result"
    }
   ],
   "source": [
    "# 머신러닝 적용 (5) : 모델 정확도 확인 - train 데이터\n",
    "# 예측하기 : .predict()\n",
    "pred_train=model.predict(X_scaled_minmax_train)\n",
    "\n",
    "# 정확도 확인 : .score(x,y) \n",
    "model.score(X_scaled_minmax_train, Y_train)"
   ]
  },
  {
   "cell_type": "code",
   "execution_count": 20,
   "id": "fc9982b7",
   "metadata": {},
   "outputs": [
    {
     "data": {
      "text/plain": [
       "-2.8220648010161558"
      ]
     },
     "execution_count": 20,
     "metadata": {},
     "output_type": "execute_result"
    }
   ],
   "source": [
    "# 머신러닝 적용 (6) : 모델 정확도 확인 - test 데이터\n",
    "# 예측하기 : .predict()\n",
    "pred_train=model.predict(X_scaled_minmax_test)\n",
    "\n",
    "# 정확도 확인 : .score(x,y)\n",
    "model.score(X_scaled_minmax_test, Y_test)\n",
    "\n",
    "# 정확도는 0~1 사이의 값이어야 하고 음수가 나올 수 없음!! -> 만일 이 범위를 벗어난다면 이상치제거나 결측치제거를 해야함."
   ]
  },
  {
   "cell_type": "markdown",
   "id": "e24fa600",
   "metadata": {},
   "source": [
    "## 6.3 데이터 정제를 위한 세부 검토"
   ]
  },
  {
   "cell_type": "markdown",
   "id": "0d30f405",
   "metadata": {},
   "source": [
    "### bedrooms 변수"
   ]
  },
  {
   "cell_type": "code",
   "execution_count": 21,
   "id": "197c3824",
   "metadata": {},
   "outputs": [
    {
     "data": {
      "text/plain": [
       "<AxesSubplot:>"
      ]
     },
     "execution_count": 21,
     "metadata": {},
     "output_type": "execute_result"
    },
    {
     "data": {
      "image/png": "[encoded data removed]",
      "text/plain": [
       "<Figure size 432x288 with 1 Axes>"
      ]
     },
     "metadata": {
      "needs_background": "light"
     },
     "output_type": "display_data"
    }
   ],
   "source": [
    "# bedrooms 변수에서는 0.6 이상의 값에 매우 큰 값이 존재함. \n",
    "\n",
    "data['bedrooms'].hist()"
   ]
  },
  {
   "cell_type": "code",
   "execution_count": 23,
   "id": "8dbfc1d1",
   "metadata": {},
   "outputs": [
    {
     "data": {
      "text/plain": [
       "<AxesSubplot:>"
      ]
     },
     "execution_count": 23,
     "metadata": {},
     "output_type": "execute_result"
    },
    {
     "data": {
      "image/png": "[encoded data removed]",
      "text/plain": [
       "<Figure size 432x288 with 1 Axes>"
      ]
     },
     "metadata": {
      "needs_background": "light"
     },
     "output_type": "display_data"
    }
   ],
   "source": [
    "# 따라서 0.6 미만의 값만 확인해보기로 함.\n",
    "# data_bedroom 이라는 변수에 data['bedrooms']가 0.6 미만인 것만 할당\n",
    "data_bedroom=data[data['bedrooms']<0.6]\n",
    "\n",
    "# data_bedrooms 의 히스토그램 확인\n",
    "data_bedroom['bedrooms'].hist()"
   ]
  },
  {
   "cell_type": "code",
   "execution_count": 25,
   "id": "9955ea84",
   "metadata": {},
   "outputs": [
    {
     "name": "stdout",
     "output_type": "stream",
     "text": [
      "1.000000    3\n",
      "0.686114    1\n",
      "0.635258    1\n",
      "0.750000    1\n",
      "0.613084    1\n",
      "0.602489    1\n",
      "0.923077    1\n",
      "0.625887    1\n",
      "0.700000    1\n",
      "0.627338    1\n",
      "0.662539    1\n",
      "0.658869    1\n",
      "Name: bedrooms, dtype: int64\n"
     ]
    },
    {
     "data": {
      "text/html": [
       "<div>\n",
       "<style scoped>\n",
       "    .dataframe tbody tr th:only-of-type {\n",
       "        vertical-align: middle;\n",
       "    }\n",
       "\n",
       "    .dataframe tbody tr th {\n",
       "        vertical-align: top;\n",
       "    }\n",
       "\n",
       "    .dataframe thead th {\n",
       "        text-align: right;\n",
       "    }\n",
       "</style>\n",
       "<table border=\"1\" class=\"dataframe\">\n",
       "  <thead>\n",
       "    <tr style=\"text-align: right;\">\n",
       "      <th></th>\n",
       "      <th>housing_age</th>\n",
       "      <th>income</th>\n",
       "      <th>bedrooms</th>\n",
       "      <th>households</th>\n",
       "      <th>rooms</th>\n",
       "      <th>house_value</th>\n",
       "    </tr>\n",
       "  </thead>\n",
       "  <tbody>\n",
       "    <tr>\n",
       "      <th>1732</th>\n",
       "      <td>43</td>\n",
       "      <td>1.3157</td>\n",
       "      <td>0.602489</td>\n",
       "      <td>2.133660</td>\n",
       "      <td>1.911826</td>\n",
       "      <td>333300</td>\n",
       "    </tr>\n",
       "    <tr>\n",
       "      <th>1911</th>\n",
       "      <td>25</td>\n",
       "      <td>1.7866</td>\n",
       "      <td>0.635258</td>\n",
       "      <td>3.566327</td>\n",
       "      <td>1.678571</td>\n",
       "      <td>325000</td>\n",
       "    </tr>\n",
       "    <tr>\n",
       "      <th>3162</th>\n",
       "      <td>26</td>\n",
       "      <td>1.4904</td>\n",
       "      <td>0.658869</td>\n",
       "      <td>3.750779</td>\n",
       "      <td>1.598131</td>\n",
       "      <td>275000</td>\n",
       "    </tr>\n",
       "    <tr>\n",
       "      <th>3165</th>\n",
       "      <td>12</td>\n",
       "      <td>1.2012</td>\n",
       "      <td>0.613084</td>\n",
       "      <td>3.271233</td>\n",
       "      <td>1.465753</td>\n",
       "      <td>275000</td>\n",
       "    </tr>\n",
       "    <tr>\n",
       "      <th>5446</th>\n",
       "      <td>24</td>\n",
       "      <td>1.8304</td>\n",
       "      <td>0.662539</td>\n",
       "      <td>3.973545</td>\n",
       "      <td>1.708995</td>\n",
       "      <td>225000</td>\n",
       "    </tr>\n",
       "    <tr>\n",
       "      <th>7674</th>\n",
       "      <td>45</td>\n",
       "      <td>1.4940</td>\n",
       "      <td>0.625887</td>\n",
       "      <td>3.673981</td>\n",
       "      <td>1.768025</td>\n",
       "      <td>187500</td>\n",
       "    </tr>\n",
       "    <tr>\n",
       "      <th>7677</th>\n",
       "      <td>20</td>\n",
       "      <td>1.0938</td>\n",
       "      <td>0.923077</td>\n",
       "      <td>1.739130</td>\n",
       "      <td>1.130435</td>\n",
       "      <td>187500</td>\n",
       "    </tr>\n",
       "    <tr>\n",
       "      <th>9658</th>\n",
       "      <td>46</td>\n",
       "      <td>2.8750</td>\n",
       "      <td>1.000000</td>\n",
       "      <td>1.846154</td>\n",
       "      <td>0.846154</td>\n",
       "      <td>162500</td>\n",
       "    </tr>\n",
       "    <tr>\n",
       "      <th>9716</th>\n",
       "      <td>16</td>\n",
       "      <td>0.5360</td>\n",
       "      <td>1.000000</td>\n",
       "      <td>18.444444</td>\n",
       "      <td>2.111111</td>\n",
       "      <td>162500</td>\n",
       "    </tr>\n",
       "    <tr>\n",
       "      <th>11810</th>\n",
       "      <td>37</td>\n",
       "      <td>2.7634</td>\n",
       "      <td>0.700000</td>\n",
       "      <td>4.524194</td>\n",
       "      <td>1.411290</td>\n",
       "      <td>137500</td>\n",
       "    </tr>\n",
       "    <tr>\n",
       "      <th>11827</th>\n",
       "      <td>4</td>\n",
       "      <td>2.3750</td>\n",
       "      <td>1.000000</td>\n",
       "      <td>3.000000</td>\n",
       "      <td>1.000000</td>\n",
       "      <td>137500</td>\n",
       "    </tr>\n",
       "    <tr>\n",
       "      <th>11863</th>\n",
       "      <td>47</td>\n",
       "      <td>1.4680</td>\n",
       "      <td>0.627338</td>\n",
       "      <td>3.458283</td>\n",
       "      <td>1.680774</td>\n",
       "      <td>137500</td>\n",
       "    </tr>\n",
       "    <tr>\n",
       "      <th>13661</th>\n",
       "      <td>25</td>\n",
       "      <td>1.3241</td>\n",
       "      <td>0.686114</td>\n",
       "      <td>3.593629</td>\n",
       "      <td>1.654440</td>\n",
       "      <td>112500</td>\n",
       "    </tr>\n",
       "    <tr>\n",
       "      <th>17908</th>\n",
       "      <td>21</td>\n",
       "      <td>0.8571</td>\n",
       "      <td>0.750000</td>\n",
       "      <td>2.370370</td>\n",
       "      <td>1.629630</td>\n",
       "      <td>25000</td>\n",
       "    </tr>\n",
       "  </tbody>\n",
       "</table>\n",
       "</div>"
      ],
      "text/plain": [
       "       housing_age  income  bedrooms  households     rooms  house_value\n",
       "1732            43  1.3157  0.602489    2.133660  1.911826       333300\n",
       "1911            25  1.7866  0.635258    3.566327  1.678571       325000\n",
       "3162            26  1.4904  0.658869    3.750779  1.598131       275000\n",
       "3165            12  1.2012  0.613084    3.271233  1.465753       275000\n",
       "5446            24  1.8304  0.662539    3.973545  1.708995       225000\n",
       "7674            45  1.4940  0.625887    3.673981  1.768025       187500\n",
       "7677            20  1.0938  0.923077    1.739130  1.130435       187500\n",
       "9658            46  2.8750  1.000000    1.846154  0.846154       162500\n",
       "9716            16  0.5360  1.000000   18.444444  2.111111       162500\n",
       "11810           37  2.7634  0.700000    4.524194  1.411290       137500\n",
       "11827            4  2.3750  1.000000    3.000000  1.000000       137500\n",
       "11863           47  1.4680  0.627338    3.458283  1.680774       137500\n",
       "13661           25  1.3241  0.686114    3.593629  1.654440       112500\n",
       "17908           21  0.8571  0.750000    2.370370  1.629630        25000"
      ]
     },
     "execution_count": 25,
     "metadata": {},
     "output_type": "execute_result"
    }
   ],
   "source": [
    "# bedrooms가 0.6 이상인 데이터가 몇 개인지 확인해보기로 함\n",
    "# data_bedroom2 에 bedrooms 가 0.6 이상인 데이터 할당\n",
    "data_bedroom2 = data[data['bedrooms']>=0.6]\n",
    "\n",
    "# data_bedroom2 확인\n",
    "print(data_bedroom2['bedrooms'].value_counts())\n",
    "data_bedroom2\n",
    "\n",
    "'''\n",
    "총 14개의 데이터 -> 삭제하자.\n",
    "'''"
   ]
  },
  {
   "cell_type": "markdown",
   "id": "19c56a7d",
   "metadata": {},
   "source": [
    "### households 변수"
   ]
  },
  {
   "cell_type": "code",
   "execution_count": 33,
   "id": "e476fa2d",
   "metadata": {},
   "outputs": [
    {
     "data": {
      "text/plain": [
       "<AxesSubplot:>"
      ]
     },
     "execution_count": 33,
     "metadata": {},
     "output_type": "execute_result"
    },
    {
     "data": {
      "image/png": "[encoded data removed]",
      "text/plain": [
       "<Figure size 432x288 with 1 Axes>"
      ]
     },
     "metadata": {
      "needs_background": "light"
     },
     "output_type": "display_data"
    }
   ],
   "source": [
    "# households 변수의 히스토그램 확인\n",
    "data['households'].hist()"
   ]
  },
  {
   "cell_type": "code",
   "execution_count": 36,
   "id": "9d489e10",
   "metadata": {},
   "outputs": [
    {
     "data": {
      "text/plain": [
       "<AxesSubplot:>"
      ]
     },
     "execution_count": 36,
     "metadata": {},
     "output_type": "execute_result"
    },
    {
     "data": {
      "image/png": "[encoded data removed]",
      "text/plain": [
       "<Figure size 432x288 with 1 Axes>"
      ]
     },
     "metadata": {
      "needs_background": "light"
     },
     "output_type": "display_data"
    }
   ],
   "source": [
    "# households 변수는 10이상의 값에서 매우 큰 값 존재함\n",
    "# 10 미만의 데이터 분포만 따로 저장\n",
    "data_households = data[data['households']<10]\n",
    "data_households['households'].hist()"
   ]
  },
  {
   "cell_type": "code",
   "execution_count": 40,
   "id": "0ad7b2df",
   "metadata": {},
   "outputs": [
    {
     "name": "stdout",
     "output_type": "stream",
     "text": [
      "22\n"
     ]
    },
    {
     "data": {
      "text/html": [
       "<div>\n",
       "<style scoped>\n",
       "    .dataframe tbody tr th:only-of-type {\n",
       "        vertical-align: middle;\n",
       "    }\n",
       "\n",
       "    .dataframe tbody tr th {\n",
       "        vertical-align: top;\n",
       "    }\n",
       "\n",
       "    .dataframe thead th {\n",
       "        text-align: right;\n",
       "    }\n",
       "</style>\n",
       "<table border=\"1\" class=\"dataframe\">\n",
       "  <thead>\n",
       "    <tr style=\"text-align: right;\">\n",
       "      <th></th>\n",
       "      <th>housing_age</th>\n",
       "      <th>income</th>\n",
       "      <th>bedrooms</th>\n",
       "      <th>households</th>\n",
       "      <th>rooms</th>\n",
       "      <th>house_value</th>\n",
       "    </tr>\n",
       "  </thead>\n",
       "  <tbody>\n",
       "    <tr>\n",
       "      <th>2420</th>\n",
       "      <td>20</td>\n",
       "      <td>1.0298</td>\n",
       "      <td>0.338658</td>\n",
       "      <td>13.693487</td>\n",
       "      <td>2.398467</td>\n",
       "      <td>300000</td>\n",
       "    </tr>\n",
       "    <tr>\n",
       "      <th>5398</th>\n",
       "      <td>33</td>\n",
       "      <td>3.8750</td>\n",
       "      <td>0.218310</td>\n",
       "      <td>12.234043</td>\n",
       "      <td>3.021277</td>\n",
       "      <td>225000</td>\n",
       "    </tr>\n",
       "    <tr>\n",
       "      <th>8003</th>\n",
       "      <td>36</td>\n",
       "      <td>4.2578</td>\n",
       "      <td>0.212528</td>\n",
       "      <td>33.952941</td>\n",
       "      <td>5.258824</td>\n",
       "      <td>183300</td>\n",
       "    </tr>\n",
       "    <tr>\n",
       "      <th>9617</th>\n",
       "      <td>26</td>\n",
       "      <td>5.7485</td>\n",
       "      <td>0.167702</td>\n",
       "      <td>51.400000</td>\n",
       "      <td>5.366667</td>\n",
       "      <td>162500</td>\n",
       "    </tr>\n",
       "    <tr>\n",
       "      <th>9625</th>\n",
       "      <td>36</td>\n",
       "      <td>4.6250</td>\n",
       "      <td>0.142857</td>\n",
       "      <td>14.000000</td>\n",
       "      <td>24.500000</td>\n",
       "      <td>162500</td>\n",
       "    </tr>\n",
       "    <tr>\n",
       "      <th>9703</th>\n",
       "      <td>8</td>\n",
       "      <td>1.6250</td>\n",
       "      <td>0.125000</td>\n",
       "      <td>63.750000</td>\n",
       "      <td>7.600000</td>\n",
       "      <td>162500</td>\n",
       "    </tr>\n",
       "    <tr>\n",
       "      <th>9713</th>\n",
       "      <td>19</td>\n",
       "      <td>0.9573</td>\n",
       "      <td>0.338843</td>\n",
       "      <td>16.048780</td>\n",
       "      <td>2.951220</td>\n",
       "      <td>162500</td>\n",
       "    </tr>\n",
       "    <tr>\n",
       "      <th>9716</th>\n",
       "      <td>16</td>\n",
       "      <td>0.5360</td>\n",
       "      <td>1.000000</td>\n",
       "      <td>18.444444</td>\n",
       "      <td>2.111111</td>\n",
       "      <td>162500</td>\n",
       "    </tr>\n",
       "    <tr>\n",
       "      <th>11397</th>\n",
       "      <td>13</td>\n",
       "      <td>3.4107</td>\n",
       "      <td>0.218182</td>\n",
       "      <td>12.843750</td>\n",
       "      <td>5.156250</td>\n",
       "      <td>142500</td>\n",
       "    </tr>\n",
       "    <tr>\n",
       "      <th>11987</th>\n",
       "      <td>41</td>\n",
       "      <td>3.5769</td>\n",
       "      <td>0.222672</td>\n",
       "      <td>18.500000</td>\n",
       "      <td>4.940000</td>\n",
       "      <td>135700</td>\n",
       "    </tr>\n",
       "    <tr>\n",
       "      <th>12290</th>\n",
       "      <td>14</td>\n",
       "      <td>2.4732</td>\n",
       "      <td>0.241758</td>\n",
       "      <td>13.594828</td>\n",
       "      <td>4.445402</td>\n",
       "      <td>131300</td>\n",
       "    </tr>\n",
       "    <tr>\n",
       "      <th>12709</th>\n",
       "      <td>41</td>\n",
       "      <td>2.2813</td>\n",
       "      <td>0.234234</td>\n",
       "      <td>12.130081</td>\n",
       "      <td>4.512195</td>\n",
       "      <td>125000</td>\n",
       "    </tr>\n",
       "    <tr>\n",
       "      <th>12794</th>\n",
       "      <td>36</td>\n",
       "      <td>2.1845</td>\n",
       "      <td>0.230769</td>\n",
       "      <td>15.812155</td>\n",
       "      <td>4.812155</td>\n",
       "      <td>123800</td>\n",
       "    </tr>\n",
       "    <tr>\n",
       "      <th>13693</th>\n",
       "      <td>22</td>\n",
       "      <td>3.5365</td>\n",
       "      <td>0.199532</td>\n",
       "      <td>12.895397</td>\n",
       "      <td>5.368201</td>\n",
       "      <td>111800</td>\n",
       "    </tr>\n",
       "    <tr>\n",
       "      <th>16828</th>\n",
       "      <td>36</td>\n",
       "      <td>5.5179</td>\n",
       "      <td>0.222222</td>\n",
       "      <td>599.714286</td>\n",
       "      <td>5.142857</td>\n",
       "      <td>67500</td>\n",
       "    </tr>\n",
       "    <tr>\n",
       "      <th>16834</th>\n",
       "      <td>26</td>\n",
       "      <td>3.5357</td>\n",
       "      <td>0.172542</td>\n",
       "      <td>10.980000</td>\n",
       "      <td>6.468000</td>\n",
       "      <td>67500</td>\n",
       "    </tr>\n",
       "    <tr>\n",
       "      <th>16839</th>\n",
       "      <td>34</td>\n",
       "      <td>3.3750</td>\n",
       "      <td>0.189189</td>\n",
       "      <td>10.153846</td>\n",
       "      <td>11.384615</td>\n",
       "      <td>67500</td>\n",
       "    </tr>\n",
       "    <tr>\n",
       "      <th>17114</th>\n",
       "      <td>22</td>\n",
       "      <td>1.9792</td>\n",
       "      <td>0.247853</td>\n",
       "      <td>12.296089</td>\n",
       "      <td>4.553073</td>\n",
       "      <td>63000</td>\n",
       "    </tr>\n",
       "    <tr>\n",
       "      <th>17610</th>\n",
       "      <td>18</td>\n",
       "      <td>1.6250</td>\n",
       "      <td>0.232708</td>\n",
       "      <td>12.098940</td>\n",
       "      <td>6.028269</td>\n",
       "      <td>53500</td>\n",
       "    </tr>\n",
       "    <tr>\n",
       "      <th>17650</th>\n",
       "      <td>8</td>\n",
       "      <td>4.0208</td>\n",
       "      <td>0.250000</td>\n",
       "      <td>19.312500</td>\n",
       "      <td>2.500000</td>\n",
       "      <td>52500</td>\n",
       "    </tr>\n",
       "    <tr>\n",
       "      <th>17799</th>\n",
       "      <td>35</td>\n",
       "      <td>1.9125</td>\n",
       "      <td>0.291667</td>\n",
       "      <td>11.634146</td>\n",
       "      <td>2.926829</td>\n",
       "      <td>47500</td>\n",
       "    </tr>\n",
       "    <tr>\n",
       "      <th>17864</th>\n",
       "      <td>16</td>\n",
       "      <td>1.6563</td>\n",
       "      <td>0.182927</td>\n",
       "      <td>16.937500</td>\n",
       "      <td>5.125000</td>\n",
       "      <td>42500</td>\n",
       "    </tr>\n",
       "  </tbody>\n",
       "</table>\n",
       "</div>"
      ],
      "text/plain": [
       "       housing_age  income  bedrooms  households      rooms  house_value\n",
       "2420            20  1.0298  0.338658   13.693487   2.398467       300000\n",
       "5398            33  3.8750  0.218310   12.234043   3.021277       225000\n",
       "8003            36  4.2578  0.212528   33.952941   5.258824       183300\n",
       "9617            26  5.7485  0.167702   51.400000   5.366667       162500\n",
       "9625            36  4.6250  0.142857   14.000000  24.500000       162500\n",
       "9703             8  1.6250  0.125000   63.750000   7.600000       162500\n",
       "9713            19  0.9573  0.338843   16.048780   2.951220       162500\n",
       "9716            16  0.5360  1.000000   18.444444   2.111111       162500\n",
       "11397           13  3.4107  0.218182   12.843750   5.156250       142500\n",
       "11987           41  3.5769  0.222672   18.500000   4.940000       135700\n",
       "12290           14  2.4732  0.241758   13.594828   4.445402       131300\n",
       "12709           41  2.2813  0.234234   12.130081   4.512195       125000\n",
       "12794           36  2.1845  0.230769   15.812155   4.812155       123800\n",
       "13693           22  3.5365  0.199532   12.895397   5.368201       111800\n",
       "16828           36  5.5179  0.222222  599.714286   5.142857        67500\n",
       "16834           26  3.5357  0.172542   10.980000   6.468000        67500\n",
       "16839           34  3.3750  0.189189   10.153846  11.384615        67500\n",
       "17114           22  1.9792  0.247853   12.296089   4.553073        63000\n",
       "17610           18  1.6250  0.232708   12.098940   6.028269        53500\n",
       "17650            8  4.0208  0.250000   19.312500   2.500000        52500\n",
       "17799           35  1.9125  0.291667   11.634146   2.926829        47500\n",
       "17864           16  1.6563  0.182927   16.937500   5.125000        42500"
      ]
     },
     "execution_count": 40,
     "metadata": {},
     "output_type": "execute_result"
    }
   ],
   "source": [
    "# households 변수가 10 이상인 데이터만 따로 보기\n",
    "data_households2 = data[data['households']>=10]\n",
    "#data_households2의 갯수\n",
    "print(data_households2.value_counts().sum())\n",
    "\n",
    "#data_households2 상세\n",
    "data_households2\n",
    "\n",
    "'''\n",
    "총 22개의 데이터가 있음 -> 제거해도 됨\n",
    "'''"
   ]
  },
  {
   "cell_type": "markdown",
   "id": "7152f6cf",
   "metadata": {},
   "source": [
    "### rooms 변수"
   ]
  },
  {
   "cell_type": "code",
   "execution_count": 41,
   "id": "47e5c3aa",
   "metadata": {},
   "outputs": [
    {
     "data": {
      "text/plain": [
       "<AxesSubplot:>"
      ]
     },
     "execution_count": 41,
     "metadata": {},
     "output_type": "execute_result"
    },
    {
     "data": {
      "image/png": "[encoded data removed]",
      "text/plain": [
       "<Figure size 432x288 with 1 Axes>"
      ]
     },
     "metadata": {
      "needs_background": "light"
     },
     "output_type": "display_data"
    }
   ],
   "source": [
    "# Rooms 변수 히스토그램 확인\n",
    "data['rooms'].hist()\n",
    "\n",
    "# rooms 변수는 20 이상에서 매우 큰 값 존재"
   ]
  },
  {
   "cell_type": "code",
   "execution_count": 42,
   "id": "ac05c7f6",
   "metadata": {},
   "outputs": [
    {
     "data": {
      "text/plain": [
       "<AxesSubplot:>"
      ]
     },
     "execution_count": 42,
     "metadata": {},
     "output_type": "execute_result"
    },
    {
     "data": {
      "image/png": "[encoded data removed]",
      "text/plain": [
       "<Figure size 432x288 with 1 Axes>"
      ]
     },
     "metadata": {
      "needs_background": "light"
     },
     "output_type": "display_data"
    }
   ],
   "source": [
    "# rooms 변수 값이 20미만인 데이터만 따로 보기\n",
    "data_rooms=data[data['rooms'] < 20]\n",
    "data_rooms['rooms'].hist()"
   ]
  },
  {
   "cell_type": "code",
   "execution_count": 43,
   "id": "cea88ac0",
   "metadata": {},
   "outputs": [
    {
     "name": "stdout",
     "output_type": "stream",
     "text": [
      "64\n"
     ]
    },
    {
     "data": {
      "text/html": [
       "<div>\n",
       "<style scoped>\n",
       "    .dataframe tbody tr th:only-of-type {\n",
       "        vertical-align: middle;\n",
       "    }\n",
       "\n",
       "    .dataframe tbody tr th {\n",
       "        vertical-align: top;\n",
       "    }\n",
       "\n",
       "    .dataframe thead th {\n",
       "        text-align: right;\n",
       "    }\n",
       "</style>\n",
       "<table border=\"1\" class=\"dataframe\">\n",
       "  <thead>\n",
       "    <tr style=\"text-align: right;\">\n",
       "      <th></th>\n",
       "      <th>housing_age</th>\n",
       "      <th>income</th>\n",
       "      <th>bedrooms</th>\n",
       "      <th>households</th>\n",
       "      <th>rooms</th>\n",
       "      <th>house_value</th>\n",
       "    </tr>\n",
       "  </thead>\n",
       "  <tbody>\n",
       "    <tr>\n",
       "      <th>324</th>\n",
       "      <td>19</td>\n",
       "      <td>4.0714</td>\n",
       "      <td>0.177958</td>\n",
       "      <td>2.333333</td>\n",
       "      <td>61.812500</td>\n",
       "      <td>437500</td>\n",
       "    </tr>\n",
       "    <tr>\n",
       "      <th>457</th>\n",
       "      <td>17</td>\n",
       "      <td>2.1719</td>\n",
       "      <td>0.172918</td>\n",
       "      <td>2.581818</td>\n",
       "      <td>28.600000</td>\n",
       "      <td>420000</td>\n",
       "    </tr>\n",
       "    <tr>\n",
       "      <th>1140</th>\n",
       "      <td>18</td>\n",
       "      <td>5.5456</td>\n",
       "      <td>0.146182</td>\n",
       "      <td>2.273585</td>\n",
       "      <td>36.075472</td>\n",
       "      <td>360000</td>\n",
       "    </tr>\n",
       "    <tr>\n",
       "      <th>2146</th>\n",
       "      <td>17</td>\n",
       "      <td>3.9722</td>\n",
       "      <td>0.172642</td>\n",
       "      <td>2.608355</td>\n",
       "      <td>20.900783</td>\n",
       "      <td>313400</td>\n",
       "    </tr>\n",
       "    <tr>\n",
       "      <th>2858</th>\n",
       "      <td>14</td>\n",
       "      <td>4.1016</td>\n",
       "      <td>0.175109</td>\n",
       "      <td>2.136364</td>\n",
       "      <td>20.939394</td>\n",
       "      <td>283300</td>\n",
       "    </tr>\n",
       "    <tr>\n",
       "      <th>...</th>\n",
       "      <td>...</td>\n",
       "      <td>...</td>\n",
       "      <td>...</td>\n",
       "      <td>...</td>\n",
       "      <td>...</td>\n",
       "      <td>...</td>\n",
       "    </tr>\n",
       "    <tr>\n",
       "      <th>16222</th>\n",
       "      <td>11</td>\n",
       "      <td>3.1250</td>\n",
       "      <td>0.235332</td>\n",
       "      <td>2.484848</td>\n",
       "      <td>47.515152</td>\n",
       "      <td>77500</td>\n",
       "    </tr>\n",
       "    <tr>\n",
       "      <th>16429</th>\n",
       "      <td>16</td>\n",
       "      <td>0.4999</td>\n",
       "      <td>0.277372</td>\n",
       "      <td>1.368421</td>\n",
       "      <td>21.631579</td>\n",
       "      <td>73500</td>\n",
       "    </tr>\n",
       "    <tr>\n",
       "      <th>16584</th>\n",
       "      <td>10</td>\n",
       "      <td>3.1250</td>\n",
       "      <td>0.250564</td>\n",
       "      <td>2.285714</td>\n",
       "      <td>21.095238</td>\n",
       "      <td>71300</td>\n",
       "    </tr>\n",
       "    <tr>\n",
       "      <th>16844</th>\n",
       "      <td>25</td>\n",
       "      <td>2.6250</td>\n",
       "      <td>0.255741</td>\n",
       "      <td>1.750000</td>\n",
       "      <td>59.875000</td>\n",
       "      <td>67500</td>\n",
       "    </tr>\n",
       "    <tr>\n",
       "      <th>16848</th>\n",
       "      <td>17</td>\n",
       "      <td>2.4028</td>\n",
       "      <td>0.305361</td>\n",
       "      <td>1.740741</td>\n",
       "      <td>31.777778</td>\n",
       "      <td>67500</td>\n",
       "    </tr>\n",
       "  </tbody>\n",
       "</table>\n",
       "<p>64 rows × 6 columns</p>\n",
       "</div>"
      ],
      "text/plain": [
       "       housing_age  income  bedrooms  households      rooms  house_value\n",
       "324             19  4.0714  0.177958    2.333333  61.812500       437500\n",
       "457             17  2.1719  0.172918    2.581818  28.600000       420000\n",
       "1140            18  5.5456  0.146182    2.273585  36.075472       360000\n",
       "2146            17  3.9722  0.172642    2.608355  20.900783       313400\n",
       "2858            14  4.1016  0.175109    2.136364  20.939394       283300\n",
       "...            ...     ...       ...         ...        ...          ...\n",
       "16222           11  3.1250  0.235332    2.484848  47.515152        77500\n",
       "16429           16  0.4999  0.277372    1.368421  21.631579        73500\n",
       "16584           10  3.1250  0.250564    2.285714  21.095238        71300\n",
       "16844           25  2.6250  0.255741    1.750000  59.875000        67500\n",
       "16848           17  2.4028  0.305361    1.740741  31.777778        67500\n",
       "\n",
       "[64 rows x 6 columns]"
      ]
     },
     "execution_count": 43,
     "metadata": {},
     "output_type": "execute_result"
    }
   ],
   "source": [
    "# rooms 변수 값이 20 이상인 데이터 확인하기\n",
    "data_rooms2 = data[data['rooms'] >=20]\n",
    "\n",
    "# data_rooms2 갯수 확인\n",
    "print(data_rooms2['rooms'].value_counts().sum())\n",
    "\n",
    "# data_rooms2 상세 \n",
    "data_rooms2\n",
    "\n",
    "'''\n",
    "총 64개 -> 전체 데이터 17914 이므로 제거해도 괜찮음\n",
    "'''"
   ]
  },
  {
   "cell_type": "markdown",
   "id": "6388917c",
   "metadata": {},
   "source": [
    "## 6.4 정제 데이터셋 생성"
   ]
  },
  {
   "cell_type": "code",
   "execution_count": 44,
   "id": "1dcfe644",
   "metadata": {},
   "outputs": [
    {
     "data": {
      "text/html": [
       "<div>\n",
       "<style scoped>\n",
       "    .dataframe tbody tr th:only-of-type {\n",
       "        vertical-align: middle;\n",
       "    }\n",
       "\n",
       "    .dataframe tbody tr th {\n",
       "        vertical-align: top;\n",
       "    }\n",
       "\n",
       "    .dataframe thead th {\n",
       "        text-align: right;\n",
       "    }\n",
       "</style>\n",
       "<table border=\"1\" class=\"dataframe\">\n",
       "  <thead>\n",
       "    <tr style=\"text-align: right;\">\n",
       "      <th></th>\n",
       "      <th>housing_age</th>\n",
       "      <th>income</th>\n",
       "      <th>bedrooms</th>\n",
       "      <th>households</th>\n",
       "      <th>rooms</th>\n",
       "      <th>house_value</th>\n",
       "    </tr>\n",
       "  </thead>\n",
       "  <tbody>\n",
       "    <tr>\n",
       "      <th>0</th>\n",
       "      <td>23</td>\n",
       "      <td>6.7770</td>\n",
       "      <td>0.141112</td>\n",
       "      <td>2.442244</td>\n",
       "      <td>8.103960</td>\n",
       "      <td>500000</td>\n",
       "    </tr>\n",
       "    <tr>\n",
       "      <th>1</th>\n",
       "      <td>49</td>\n",
       "      <td>6.0199</td>\n",
       "      <td>0.160984</td>\n",
       "      <td>2.726688</td>\n",
       "      <td>5.752412</td>\n",
       "      <td>500000</td>\n",
       "    </tr>\n",
       "    <tr>\n",
       "      <th>2</th>\n",
       "      <td>35</td>\n",
       "      <td>5.1155</td>\n",
       "      <td>0.249061</td>\n",
       "      <td>1.902676</td>\n",
       "      <td>3.888078</td>\n",
       "      <td>500000</td>\n",
       "    </tr>\n",
       "    <tr>\n",
       "      <th>3</th>\n",
       "      <td>32</td>\n",
       "      <td>4.7109</td>\n",
       "      <td>0.231383</td>\n",
       "      <td>1.913669</td>\n",
       "      <td>4.508393</td>\n",
       "      <td>500000</td>\n",
       "    </tr>\n",
       "    <tr>\n",
       "      <th>4</th>\n",
       "      <td>21</td>\n",
       "      <td>4.5625</td>\n",
       "      <td>0.255583</td>\n",
       "      <td>3.092664</td>\n",
       "      <td>4.667954</td>\n",
       "      <td>500000</td>\n",
       "    </tr>\n",
       "  </tbody>\n",
       "</table>\n",
       "</div>"
      ],
      "text/plain": [
       "   housing_age  income  bedrooms  households     rooms  house_value\n",
       "0           23  6.7770  0.141112    2.442244  8.103960       500000\n",
       "1           49  6.0199  0.160984    2.726688  5.752412       500000\n",
       "2           35  5.1155  0.249061    1.902676  3.888078       500000\n",
       "3           32  4.7109  0.231383    1.913669  4.508393       500000\n",
       "4           21  4.5625  0.255583    3.092664  4.667954       500000"
      ]
     },
     "execution_count": 44,
     "metadata": {},
     "output_type": "execute_result"
    }
   ],
   "source": [
    "# 분석자가 임으로 정상데이터셋의 기준을 bedrooms < 0.5 , households < 7 , rooms < 12 로 설정\n",
    "# 정상 데이터셋을 new_data로 저장\n",
    "new_data = data[(data['bedrooms']<0.5) & (data['households']<7) & (data['rooms']<12)]\n",
    "new_data.head()"
   ]
  },
  {
   "cell_type": "code",
   "execution_count": 45,
   "id": "4ccbe323",
   "metadata": {},
   "outputs": [
    {
     "name": "stdout",
     "output_type": "stream",
     "text": [
      "<class 'pandas.core.frame.DataFrame'>\n",
      "Int64Index: 17689 entries, 0 to 17912\n",
      "Data columns (total 6 columns):\n",
      " #   Column       Non-Null Count  Dtype  \n",
      "---  ------       --------------  -----  \n",
      " 0   housing_age  17689 non-null  int64  \n",
      " 1   income       17689 non-null  float64\n",
      " 2   bedrooms     17689 non-null  float64\n",
      " 3   households   17689 non-null  float64\n",
      " 4   rooms        17689 non-null  float64\n",
      " 5   house_value  17689 non-null  int64  \n",
      "dtypes: float64(4), int64(2)\n",
      "memory usage: 967.4 KB\n"
     ]
    }
   ],
   "source": [
    "new_data.info()"
   ]
  },
  {
   "cell_type": "code",
   "execution_count": 46,
   "id": "0060f97b",
   "metadata": {},
   "outputs": [
    {
     "data": {
      "text/html": [
       "<div>\n",
       "<style scoped>\n",
       "    .dataframe tbody tr th:only-of-type {\n",
       "        vertical-align: middle;\n",
       "    }\n",
       "\n",
       "    .dataframe tbody tr th {\n",
       "        vertical-align: top;\n",
       "    }\n",
       "\n",
       "    .dataframe thead th {\n",
       "        text-align: right;\n",
       "    }\n",
       "</style>\n",
       "<table border=\"1\" class=\"dataframe\">\n",
       "  <thead>\n",
       "    <tr style=\"text-align: right;\">\n",
       "      <th></th>\n",
       "      <th>housing_age</th>\n",
       "      <th>income</th>\n",
       "      <th>bedrooms</th>\n",
       "      <th>households</th>\n",
       "      <th>rooms</th>\n",
       "      <th>house_value</th>\n",
       "    </tr>\n",
       "  </thead>\n",
       "  <tbody>\n",
       "    <tr>\n",
       "      <th>count</th>\n",
       "      <td>17689.000000</td>\n",
       "      <td>17689.000000</td>\n",
       "      <td>17689.000000</td>\n",
       "      <td>17689.000000</td>\n",
       "      <td>17689.000000</td>\n",
       "      <td>17689.000000</td>\n",
       "    </tr>\n",
       "    <tr>\n",
       "      <th>mean</th>\n",
       "      <td>27.378823</td>\n",
       "      <td>3.671141</td>\n",
       "      <td>0.213278</td>\n",
       "      <td>2.952117</td>\n",
       "      <td>5.244001</td>\n",
       "      <td>189043.439313</td>\n",
       "    </tr>\n",
       "    <tr>\n",
       "      <th>std</th>\n",
       "      <td>11.280230</td>\n",
       "      <td>1.525937</td>\n",
       "      <td>0.051167</td>\n",
       "      <td>0.731573</td>\n",
       "      <td>1.184922</td>\n",
       "      <td>95487.122628</td>\n",
       "    </tr>\n",
       "    <tr>\n",
       "      <th>min</th>\n",
       "      <td>1.000000</td>\n",
       "      <td>0.499900</td>\n",
       "      <td>0.100000</td>\n",
       "      <td>0.750000</td>\n",
       "      <td>1.640000</td>\n",
       "      <td>14999.000000</td>\n",
       "    </tr>\n",
       "    <tr>\n",
       "      <th>25%</th>\n",
       "      <td>18.000000</td>\n",
       "      <td>2.532900</td>\n",
       "      <td>0.177464</td>\n",
       "      <td>2.470270</td>\n",
       "      <td>4.426829</td>\n",
       "      <td>114400.000000</td>\n",
       "    </tr>\n",
       "    <tr>\n",
       "      <th>50%</th>\n",
       "      <td>28.000000</td>\n",
       "      <td>3.453900</td>\n",
       "      <td>0.204104</td>\n",
       "      <td>2.854962</td>\n",
       "      <td>5.190779</td>\n",
       "      <td>171100.000000</td>\n",
       "    </tr>\n",
       "    <tr>\n",
       "      <th>75%</th>\n",
       "      <td>36.000000</td>\n",
       "      <td>4.591800</td>\n",
       "      <td>0.240157</td>\n",
       "      <td>3.316092</td>\n",
       "      <td>5.953728</td>\n",
       "      <td>242700.000000</td>\n",
       "    </tr>\n",
       "    <tr>\n",
       "      <th>max</th>\n",
       "      <td>51.000000</td>\n",
       "      <td>9.905500</td>\n",
       "      <td>0.498127</td>\n",
       "      <td>6.954023</td>\n",
       "      <td>11.901869</td>\n",
       "      <td>500000.000000</td>\n",
       "    </tr>\n",
       "  </tbody>\n",
       "</table>\n",
       "</div>"
      ],
      "text/plain": [
       "        housing_age        income      bedrooms    households         rooms  \\\n",
       "count  17689.000000  17689.000000  17689.000000  17689.000000  17689.000000   \n",
       "mean      27.378823      3.671141      0.213278      2.952117      5.244001   \n",
       "std       11.280230      1.525937      0.051167      0.731573      1.184922   \n",
       "min        1.000000      0.499900      0.100000      0.750000      1.640000   \n",
       "25%       18.000000      2.532900      0.177464      2.470270      4.426829   \n",
       "50%       28.000000      3.453900      0.204104      2.854962      5.190779   \n",
       "75%       36.000000      4.591800      0.240157      3.316092      5.953728   \n",
       "max       51.000000      9.905500      0.498127      6.954023     11.901869   \n",
       "\n",
       "         house_value  \n",
       "count   17689.000000  \n",
       "mean   189043.439313  \n",
       "std     95487.122628  \n",
       "min     14999.000000  \n",
       "25%    114400.000000  \n",
       "50%    171100.000000  \n",
       "75%    242700.000000  \n",
       "max    500000.000000  "
      ]
     },
     "execution_count": 46,
     "metadata": {},
     "output_type": "execute_result"
    }
   ],
   "source": [
    "#new_data의 기술통계확인\n",
    "new_data.describe()"
   ]
  },
  {
   "cell_type": "code",
   "execution_count": 48,
   "id": "01c5509b",
   "metadata": {},
   "outputs": [
    {
     "data": {
      "text/plain": [
       "array([[<AxesSubplot:title={'center':'housing_age'}>,\n",
       "        <AxesSubplot:title={'center':'income'}>],\n",
       "       [<AxesSubplot:title={'center':'bedrooms'}>,\n",
       "        <AxesSubplot:title={'center':'households'}>],\n",
       "       [<AxesSubplot:title={'center':'rooms'}>,\n",
       "        <AxesSubplot:title={'center':'house_value'}>]], dtype=object)"
      ]
     },
     "execution_count": 48,
     "metadata": {},
     "output_type": "execute_result"
    },
    {
     "data": {
      "image/png": "[encoded data removed]",
      "text/plain": [
       "<Figure size 1440x1080 with 6 Axes>"
      ]
     },
     "metadata": {
      "needs_background": "light"
     },
     "output_type": "display_data"
    }
   ],
   "source": [
    "# new_data의 히스토그램 확인\n",
    "new_data.hist(bins=50, figsize=(20,15))"
   ]
  },
  {
   "cell_type": "markdown",
   "id": "e05a80a7",
   "metadata": {},
   "source": [
    "## 6.5 선형회귀 적용 (정제 후 데이터)"
   ]
  },
  {
   "cell_type": "code",
   "execution_count": 51,
   "id": "936ae6f4",
   "metadata": {},
   "outputs": [],
   "source": [
    "# 머신러닝 적용 (1) : 독립변수, 종속변수 나누기\n",
    "# X는 독립변수 : housing_age ~ rooms 까지\n",
    "X=new_data[new_data.columns[0:5]]\n",
    "# Y는 종속 변수\n",
    "Y=new_data[['house_value']]"
   ]
  },
  {
   "cell_type": "code",
   "execution_count": 53,
   "id": "e41308f5",
   "metadata": {},
   "outputs": [],
   "source": [
    "# 머신러닝 적용(2) : 학습용 데이터와 테스트용 데이터 나누기\n",
    "from sklearn.model_selection import train_test_split\n",
    "\n",
    "X_train, X_test, Y_train, Y_test = train_test_split(X,Y,random_state=42)"
   ]
  },
  {
   "cell_type": "code",
   "execution_count": 57,
   "id": "99873db0",
   "metadata": {},
   "outputs": [],
   "source": [
    "# 머신러닝 적용(3) : 데이터 정규화\n",
    "# minmax 정규화\n",
    "from sklearn.preprocessing import MinMaxScaler\n",
    "\n",
    "# minmax_scaler 함수 할당\n",
    "minmax_scaler = MinMaxScaler()\n",
    "\n",
    "#.fit 사용하여 X_train을 minmaxscaler적용\n",
    "minmax_scaler.fit(X_train)\n",
    "\n",
    "# .transform 사용하여 x_train과 x_test 에 minmaxscaler 적용한 변수 생성\n",
    "X_minmax_scaled_train = minmax_scaler.transform(X_train)\n",
    "X_minmax_scaled_test = minmax_scaler.transform(X_test)"
   ]
  },
  {
   "cell_type": "code",
   "execution_count": 59,
   "id": "5a50bee1",
   "metadata": {},
   "outputs": [
    {
     "data": {
      "text/plain": [
       "LinearRegression()"
      ]
     },
     "execution_count": 59,
     "metadata": {},
     "output_type": "execute_result"
    }
   ],
   "source": [
    "# 머신러닝 적용(4) : 모델적용\n",
    "# 선형회귀모델 적용\n",
    "from sklearn.linear_model import LinearRegression\n",
    "\n",
    "model = LinearRegression()\n",
    "model.fit(X_minmax_scaled_train, Y_train)"
   ]
  },
  {
   "cell_type": "code",
   "execution_count": 61,
   "id": "fb26f7fa",
   "metadata": {},
   "outputs": [
    {
     "name": "stdout",
     "output_type": "stream",
     "text": [
      "훈련데이터 정확도: 0.5706921210926263\n"
     ]
    }
   ],
   "source": [
    "# 머신러닝 적용(5) : 점수 확인\n",
    "# train 점수 확인\n",
    "pred_train = model.predict(X_minmax_scaled_train)\n",
    "print(\"훈련데이터 정확도:\", model.score(X_minmax_scaled_train, Y_train))"
   ]
  },
  {
   "cell_type": "code",
   "execution_count": 62,
   "id": "33cad52b",
   "metadata": {},
   "outputs": [
    {
     "name": "stdout",
     "output_type": "stream",
     "text": [
      "테스트데이터 정확도: 0.5826083517811866\n"
     ]
    }
   ],
   "source": [
    "# test 점수 확인\n",
    "pred_test = model.predict(X_minmax_scaled_test)\n",
    "print(\"테스트데이터 정확도:\", model.score(X_minmax_scaled_test, Y_test))"
   ]
  },
  {
   "cell_type": "code",
   "execution_count": 63,
   "id": "63612747",
   "metadata": {},
   "outputs": [],
   "source": [
    "new_data.to_csv('/Users/yerim/Desktop/빅데이터분석기사/BigData_data_최종본(1022)/house_price.csv', index=False)"
   ]
  },
  {
   "cell_type": "markdown",
   "id": "8c70766d",
   "metadata": {},
   "source": [
    "# 2. 머신러닝 맛보기1 : 분류문제\n",
    "\n",
    "#### 데이터 : 위스콘신 대학에서 공개한 유방암 진단 데이터\n",
    "#### 목적변수 Y : 'class' - 0(정상) , 1(환자:유방암)\n",
    "#### 그 외 모든 변수 X : 독립변수"
   ]
  },
  {
   "cell_type": "markdown",
   "id": "17408b33",
   "metadata": {},
   "source": [
    "### 2.1 분석 데이터 검토\n"
   ]
  },
  {
   "cell_type": "code",
   "execution_count": 1,
   "id": "3d7161e4",
   "metadata": {},
   "outputs": [
    {
     "data": {
      "text/html": [
       "<div>\n",
       "<style scoped>\n",
       "    .dataframe tbody tr th:only-of-type {\n",
       "        vertical-align: middle;\n",
       "    }\n",
       "\n",
       "    .dataframe tbody tr th {\n",
       "        vertical-align: top;\n",
       "    }\n",
       "\n",
       "    .dataframe thead th {\n",
       "        text-align: right;\n",
       "    }\n",
       "</style>\n",
       "<table border=\"1\" class=\"dataframe\">\n",
       "  <thead>\n",
       "    <tr style=\"text-align: right;\">\n",
       "      <th></th>\n",
       "      <th>code</th>\n",
       "      <th>Clump_Thickness</th>\n",
       "      <th>Cell_Size</th>\n",
       "      <th>Cell_Shape</th>\n",
       "      <th>Marginal_Adhesion</th>\n",
       "      <th>Single_Epithelial_Cell_Size</th>\n",
       "      <th>Bare_Nuclei</th>\n",
       "      <th>Bland_Chromatin</th>\n",
       "      <th>Normal_Nucleoli</th>\n",
       "      <th>Mitoses</th>\n",
       "      <th>Class</th>\n",
       "    </tr>\n",
       "  </thead>\n",
       "  <tbody>\n",
       "    <tr>\n",
       "      <th>0</th>\n",
       "      <td>1000025</td>\n",
       "      <td>5</td>\n",
       "      <td>1</td>\n",
       "      <td>1</td>\n",
       "      <td>1</td>\n",
       "      <td>2</td>\n",
       "      <td>1</td>\n",
       "      <td>3</td>\n",
       "      <td>1</td>\n",
       "      <td>1</td>\n",
       "      <td>0</td>\n",
       "    </tr>\n",
       "    <tr>\n",
       "      <th>1</th>\n",
       "      <td>1002945</td>\n",
       "      <td>5</td>\n",
       "      <td>4</td>\n",
       "      <td>4</td>\n",
       "      <td>5</td>\n",
       "      <td>7</td>\n",
       "      <td>10</td>\n",
       "      <td>3</td>\n",
       "      <td>2</td>\n",
       "      <td>1</td>\n",
       "      <td>0</td>\n",
       "    </tr>\n",
       "    <tr>\n",
       "      <th>2</th>\n",
       "      <td>1015425</td>\n",
       "      <td>3</td>\n",
       "      <td>1</td>\n",
       "      <td>1</td>\n",
       "      <td>1</td>\n",
       "      <td>2</td>\n",
       "      <td>2</td>\n",
       "      <td>3</td>\n",
       "      <td>1</td>\n",
       "      <td>1</td>\n",
       "      <td>0</td>\n",
       "    </tr>\n",
       "    <tr>\n",
       "      <th>3</th>\n",
       "      <td>1016277</td>\n",
       "      <td>6</td>\n",
       "      <td>8</td>\n",
       "      <td>8</td>\n",
       "      <td>1</td>\n",
       "      <td>3</td>\n",
       "      <td>4</td>\n",
       "      <td>3</td>\n",
       "      <td>7</td>\n",
       "      <td>1</td>\n",
       "      <td>0</td>\n",
       "    </tr>\n",
       "    <tr>\n",
       "      <th>4</th>\n",
       "      <td>1017023</td>\n",
       "      <td>4</td>\n",
       "      <td>1</td>\n",
       "      <td>1</td>\n",
       "      <td>3</td>\n",
       "      <td>2</td>\n",
       "      <td>1</td>\n",
       "      <td>3</td>\n",
       "      <td>1</td>\n",
       "      <td>1</td>\n",
       "      <td>0</td>\n",
       "    </tr>\n",
       "  </tbody>\n",
       "</table>\n",
       "</div>"
      ],
      "text/plain": [
       "      code  Clump_Thickness  Cell_Size  Cell_Shape  Marginal_Adhesion  \\\n",
       "0  1000025                5          1           1                  1   \n",
       "1  1002945                5          4           4                  5   \n",
       "2  1015425                3          1           1                  1   \n",
       "3  1016277                6          8           8                  1   \n",
       "4  1017023                4          1           1                  3   \n",
       "\n",
       "   Single_Epithelial_Cell_Size  Bare_Nuclei  Bland_Chromatin  Normal_Nucleoli  \\\n",
       "0                            2            1                3                1   \n",
       "1                            7           10                3                2   \n",
       "2                            2            2                3                1   \n",
       "3                            3            4                3                7   \n",
       "4                            2            1                3                1   \n",
       "\n",
       "   Mitoses  Class  \n",
       "0        1      0  \n",
       "1        1      0  \n",
       "2        1      0  \n",
       "3        1      0  \n",
       "4        1      0  "
      ]
     },
     "execution_count": 1,
     "metadata": {},
     "output_type": "execute_result"
    }
   ],
   "source": [
    "# 분석 데이터 불러와서 데이터 확인\n",
    "import pandas as pd\n",
    "data = pd.read_csv('/Users/yerim/Desktop/빅데이터분석기사/BigData_data_최종본(1022)/breast-cancer-wisconsin.csv')\n",
    "data.head()"
   ]
  },
  {
   "cell_type": "code",
   "execution_count": 8,
   "id": "4f71baac",
   "metadata": {},
   "outputs": [
    {
     "data": {
      "text/plain": [
       "0    444\n",
       "1    239\n",
       "Name: Class, dtype: int64"
      ]
     },
     "execution_count": 8,
     "metadata": {},
     "output_type": "execute_result"
    }
   ],
   "source": [
    "# 레이블 변수(유방암) 비율 확인\n",
    "data['Class'].value_counts()\n",
    "\n"
   ]
  },
  {
   "cell_type": "code",
   "execution_count": 7,
   "id": "f7b04376",
   "metadata": {},
   "outputs": [
    {
     "name": "stdout",
     "output_type": "stream",
     "text": [
      "(683, 11)\n"
     ]
    }
   ],
   "source": [
    "# 행과 열 구조 확인\n",
    "print(data.shape) \n",
    "\n",
    "'''\n",
    "행 : 683\n",
    "열 : 11\n",
    "'''"
   ]
  },
  {
   "cell_type": "markdown",
   "id": "9c327251",
   "metadata": {},
   "source": [
    "### 2.2 특성(x)과 레이블(y) 나누기\n",
    "\n",
    "#### 1) 컬럼 이름으로 나누는 방법\n",
    "#### 2) 컬럼 인덱스(위치값)으로 나누는 방법\n",
    "#### 3) loc으로 나누는 방법\n"
   ]
  },
  {
   "cell_type": "code",
   "execution_count": 10,
   "id": "45fbeb5e",
   "metadata": {},
   "outputs": [],
   "source": [
    "# 방법1 : 컬럼 이름으로 나누는 방법\n",
    "X1 = data[['Clump_Thickness', 'Cell_Size', 'Cell_Shape', 'Marginal_Adhesion',\n",
    "'Single_Epithelial_Cell_Size','Bare_Nuclei','Bland_Chromatin','Normal_Nucleoli','Mitoses']]\n"
   ]
  },
  {
   "cell_type": "code",
   "execution_count": 14,
   "id": "fe7b9c74",
   "metadata": {},
   "outputs": [],
   "source": [
    "# 방법2 : 컬럼 인덱스(위치값)으로 나누는 방법\n",
    "X2 = data[data.columns[1:10]]"
   ]
  },
  {
   "cell_type": "code",
   "execution_count": 15,
   "id": "add2c5e5",
   "metadata": {},
   "outputs": [],
   "source": [
    "# 방법3 : loc로 나누는 방법\n",
    "X3 = data.loc[: , 'Clump_Thickness':'Mitoses']"
   ]
  },
  {
   "cell_type": "code",
   "execution_count": 16,
   "id": "e4e76c17",
   "metadata": {},
   "outputs": [
    {
     "name": "stdout",
     "output_type": "stream",
     "text": [
      "X1:  (683, 9)\n",
      "X2:  (683, 9)\n",
      "X3:  (683, 9)\n"
     ]
    }
   ],
   "source": [
    "print(\"X1: \", X1.shape)\n",
    "print(\"X2: \", X2.shape)\n",
    "print(\"X3: \", X3.shape)"
   ]
  },
  {
   "cell_type": "code",
   "execution_count": 19,
   "id": "0ed6dd6e",
   "metadata": {},
   "outputs": [],
   "source": [
    "# y 레이블\n",
    "Y = data[['Class']]"
   ]
  },
  {
   "cell_type": "code",
   "execution_count": 20,
   "id": "a775cccb",
   "metadata": {},
   "outputs": [],
   "source": [
    "# train-test 데이터셋 나누기\n",
    "from sklearn.model_selection import train_test_split\n",
    "\n",
    "X_train, X_test, Y_train, Y_test = train_test_split(X1,Y,stratify=y,random_state=42)\n"
   ]
  },
  {
   "cell_type": "code",
   "execution_count": 22,
   "id": "a4b548ca",
   "metadata": {},
   "outputs": [
    {
     "name": "stdout",
     "output_type": "stream",
     "text": [
      "Class    0.349609\n",
      "dtype: float64\n",
      "Class    0.350877\n",
      "dtype: float64\n"
     ]
    }
   ],
   "source": [
    "# stratify = y 옵션 확인\n",
    "\n",
    "# Y_train 의 0,1 비율 확인\n",
    "print(Y_train.mean())\n",
    "\n",
    "# Y_test 의 0,1 비율 확인\n",
    "print(Y_test.mean())"
   ]
  },
  {
   "cell_type": "code",
   "execution_count": 28,
   "id": "ebb469ac",
   "metadata": {},
   "outputs": [],
   "source": [
    "# 사이킷런 라이브러리에서 표준화 함수 임포트\n",
    "from sklearn.preprocessing import StandardScaler\n",
    "scaler_standard=StandardScaler() # 생략가능"
   ]
  },
  {
   "cell_type": "code",
   "execution_count": 25,
   "id": "38a6ecd5",
   "metadata": {},
   "outputs": [],
   "source": [
    "# 사이킷런 라이브러리에서 MinMaxScaler 함수 임포트\n",
    "from sklearn.preprocessing import MinMaxScaler\n",
    "scaler_minmax=MinMaxScaler()"
   ]
  },
  {
   "cell_type": "code",
   "execution_count": 26,
   "id": "eadc5b14",
   "metadata": {},
   "outputs": [],
   "source": [
    "# train data의 정규화\n",
    "\n",
    "#fit\n",
    "scaler_minmax.fit(X_train)\n",
    "\n",
    "#transform\n",
    "X_scaled_minmax_train=scaler_minmax.transform(X_train)\n"
   ]
  },
  {
   "cell_type": "code",
   "execution_count": 29,
   "id": "3a8b388c",
   "metadata": {},
   "outputs": [],
   "source": [
    "# standard 정규화\n",
    "\n",
    "#fit\n",
    "scaler_standard.fit(X_train)\n",
    "\n",
    "#transform\n",
    "X_scaled_standard_train=scaler_standard.transform(X_train)"
   ]
  },
  {
   "cell_type": "code",
   "execution_count": 32,
   "id": "9b46dcb4",
   "metadata": {},
   "outputs": [
    {
     "data": {
      "text/html": [
       "<div>\n",
       "<style scoped>\n",
       "    .dataframe tbody tr th:only-of-type {\n",
       "        vertical-align: middle;\n",
       "    }\n",
       "\n",
       "    .dataframe tbody tr th {\n",
       "        vertical-align: top;\n",
       "    }\n",
       "\n",
       "    .dataframe thead th {\n",
       "        text-align: right;\n",
       "    }\n",
       "</style>\n",
       "<table border=\"1\" class=\"dataframe\">\n",
       "  <thead>\n",
       "    <tr style=\"text-align: right;\">\n",
       "      <th></th>\n",
       "      <th>0</th>\n",
       "      <th>1</th>\n",
       "      <th>2</th>\n",
       "      <th>3</th>\n",
       "      <th>4</th>\n",
       "      <th>5</th>\n",
       "      <th>6</th>\n",
       "      <th>7</th>\n",
       "      <th>8</th>\n",
       "    </tr>\n",
       "  </thead>\n",
       "  <tbody>\n",
       "    <tr>\n",
       "      <th>count</th>\n",
       "      <td>512.000000</td>\n",
       "      <td>512.000000</td>\n",
       "      <td>512.000000</td>\n",
       "      <td>512.000000</td>\n",
       "      <td>512.000000</td>\n",
       "      <td>512.000000</td>\n",
       "      <td>512.000000</td>\n",
       "      <td>512.000000</td>\n",
       "      <td>512.000000</td>\n",
       "    </tr>\n",
       "    <tr>\n",
       "      <th>mean</th>\n",
       "      <td>0.372830</td>\n",
       "      <td>0.231988</td>\n",
       "      <td>0.242839</td>\n",
       "      <td>0.205078</td>\n",
       "      <td>0.241319</td>\n",
       "      <td>0.285590</td>\n",
       "      <td>0.269314</td>\n",
       "      <td>0.199002</td>\n",
       "      <td>0.067491</td>\n",
       "    </tr>\n",
       "    <tr>\n",
       "      <th>std</th>\n",
       "      <td>0.317836</td>\n",
       "      <td>0.334781</td>\n",
       "      <td>0.332112</td>\n",
       "      <td>0.319561</td>\n",
       "      <td>0.242541</td>\n",
       "      <td>0.404890</td>\n",
       "      <td>0.265289</td>\n",
       "      <td>0.331503</td>\n",
       "      <td>0.190373</td>\n",
       "    </tr>\n",
       "    <tr>\n",
       "      <th>min</th>\n",
       "      <td>0.000000</td>\n",
       "      <td>0.000000</td>\n",
       "      <td>0.000000</td>\n",
       "      <td>0.000000</td>\n",
       "      <td>0.000000</td>\n",
       "      <td>0.000000</td>\n",
       "      <td>0.000000</td>\n",
       "      <td>0.000000</td>\n",
       "      <td>0.000000</td>\n",
       "    </tr>\n",
       "    <tr>\n",
       "      <th>25%</th>\n",
       "      <td>0.111111</td>\n",
       "      <td>0.000000</td>\n",
       "      <td>0.000000</td>\n",
       "      <td>0.000000</td>\n",
       "      <td>0.111111</td>\n",
       "      <td>0.000000</td>\n",
       "      <td>0.111111</td>\n",
       "      <td>0.000000</td>\n",
       "      <td>0.000000</td>\n",
       "    </tr>\n",
       "    <tr>\n",
       "      <th>50%</th>\n",
       "      <td>0.333333</td>\n",
       "      <td>0.000000</td>\n",
       "      <td>0.000000</td>\n",
       "      <td>0.000000</td>\n",
       "      <td>0.111111</td>\n",
       "      <td>0.000000</td>\n",
       "      <td>0.222222</td>\n",
       "      <td>0.000000</td>\n",
       "      <td>0.000000</td>\n",
       "    </tr>\n",
       "    <tr>\n",
       "      <th>75%</th>\n",
       "      <td>0.555556</td>\n",
       "      <td>0.361111</td>\n",
       "      <td>0.444444</td>\n",
       "      <td>0.333333</td>\n",
       "      <td>0.333333</td>\n",
       "      <td>0.583333</td>\n",
       "      <td>0.444444</td>\n",
       "      <td>0.222222</td>\n",
       "      <td>0.000000</td>\n",
       "    </tr>\n",
       "    <tr>\n",
       "      <th>max</th>\n",
       "      <td>1.000000</td>\n",
       "      <td>1.000000</td>\n",
       "      <td>1.000000</td>\n",
       "      <td>1.000000</td>\n",
       "      <td>1.000000</td>\n",
       "      <td>1.000000</td>\n",
       "      <td>1.000000</td>\n",
       "      <td>1.000000</td>\n",
       "      <td>1.000000</td>\n",
       "    </tr>\n",
       "  </tbody>\n",
       "</table>\n",
       "</div>"
      ],
      "text/plain": [
       "                0           1           2           3           4           5  \\\n",
       "count  512.000000  512.000000  512.000000  512.000000  512.000000  512.000000   \n",
       "mean     0.372830    0.231988    0.242839    0.205078    0.241319    0.285590   \n",
       "std      0.317836    0.334781    0.332112    0.319561    0.242541    0.404890   \n",
       "min      0.000000    0.000000    0.000000    0.000000    0.000000    0.000000   \n",
       "25%      0.111111    0.000000    0.000000    0.000000    0.111111    0.000000   \n",
       "50%      0.333333    0.000000    0.000000    0.000000    0.111111    0.000000   \n",
       "75%      0.555556    0.361111    0.444444    0.333333    0.333333    0.583333   \n",
       "max      1.000000    1.000000    1.000000    1.000000    1.000000    1.000000   \n",
       "\n",
       "                6           7           8  \n",
       "count  512.000000  512.000000  512.000000  \n",
       "mean     0.269314    0.199002    0.067491  \n",
       "std      0.265289    0.331503    0.190373  \n",
       "min      0.000000    0.000000    0.000000  \n",
       "25%      0.111111    0.000000    0.000000  \n",
       "50%      0.222222    0.000000    0.000000  \n",
       "75%      0.444444    0.222222    0.000000  \n",
       "max      1.000000    1.000000    1.000000  "
      ]
     },
     "execution_count": 32,
     "metadata": {},
     "output_type": "execute_result"
    }
   ],
   "source": [
    "# minmax scale 확인\n",
    "pd.DataFrame(X_scaled_minmax_train).describe()"
   ]
  },
  {
   "cell_type": "code",
   "execution_count": 33,
   "id": "5029dae0",
   "metadata": {},
   "outputs": [
    {
     "data": {
      "text/html": [
       "<div>\n",
       "<style scoped>\n",
       "    .dataframe tbody tr th:only-of-type {\n",
       "        vertical-align: middle;\n",
       "    }\n",
       "\n",
       "    .dataframe tbody tr th {\n",
       "        vertical-align: top;\n",
       "    }\n",
       "\n",
       "    .dataframe thead th {\n",
       "        text-align: right;\n",
       "    }\n",
       "</style>\n",
       "<table border=\"1\" class=\"dataframe\">\n",
       "  <thead>\n",
       "    <tr style=\"text-align: right;\">\n",
       "      <th></th>\n",
       "      <th>0</th>\n",
       "      <th>1</th>\n",
       "      <th>2</th>\n",
       "      <th>3</th>\n",
       "      <th>4</th>\n",
       "      <th>5</th>\n",
       "      <th>6</th>\n",
       "      <th>7</th>\n",
       "      <th>8</th>\n",
       "    </tr>\n",
       "  </thead>\n",
       "  <tbody>\n",
       "    <tr>\n",
       "      <th>count</th>\n",
       "      <td>5.120000e+02</td>\n",
       "      <td>5.120000e+02</td>\n",
       "      <td>5.120000e+02</td>\n",
       "      <td>5.120000e+02</td>\n",
       "      <td>5.120000e+02</td>\n",
       "      <td>5.120000e+02</td>\n",
       "      <td>5.120000e+02</td>\n",
       "      <td>5.120000e+02</td>\n",
       "      <td>5.120000e+02</td>\n",
       "    </tr>\n",
       "    <tr>\n",
       "      <th>mean</th>\n",
       "      <td>-1.548241e-16</td>\n",
       "      <td>-1.543904e-16</td>\n",
       "      <td>-1.353084e-16</td>\n",
       "      <td>1.149254e-16</td>\n",
       "      <td>5.767956e-17</td>\n",
       "      <td>1.674008e-16</td>\n",
       "      <td>-2.775558e-17</td>\n",
       "      <td>-3.642919e-17</td>\n",
       "      <td>6.938894e-18</td>\n",
       "    </tr>\n",
       "    <tr>\n",
       "      <th>std</th>\n",
       "      <td>1.000978e+00</td>\n",
       "      <td>1.000978e+00</td>\n",
       "      <td>1.000978e+00</td>\n",
       "      <td>1.000978e+00</td>\n",
       "      <td>1.000978e+00</td>\n",
       "      <td>1.000978e+00</td>\n",
       "      <td>1.000978e+00</td>\n",
       "      <td>1.000978e+00</td>\n",
       "      <td>1.000978e+00</td>\n",
       "    </tr>\n",
       "    <tr>\n",
       "      <th>min</th>\n",
       "      <td>-1.174173e+00</td>\n",
       "      <td>-6.936309e-01</td>\n",
       "      <td>-7.319088e-01</td>\n",
       "      <td>-6.423777e-01</td>\n",
       "      <td>-9.959361e-01</td>\n",
       "      <td>-7.060427e-01</td>\n",
       "      <td>-1.016165e+00</td>\n",
       "      <td>-6.008881e-01</td>\n",
       "      <td>-3.548677e-01</td>\n",
       "    </tr>\n",
       "    <tr>\n",
       "      <th>25%</th>\n",
       "      <td>-8.242452e-01</td>\n",
       "      <td>-6.936309e-01</td>\n",
       "      <td>-7.319088e-01</td>\n",
       "      <td>-6.423777e-01</td>\n",
       "      <td>-5.373756e-01</td>\n",
       "      <td>-7.060427e-01</td>\n",
       "      <td>-5.969255e-01</td>\n",
       "      <td>-6.008881e-01</td>\n",
       "      <td>-3.548677e-01</td>\n",
       "    </tr>\n",
       "    <tr>\n",
       "      <th>50%</th>\n",
       "      <td>-1.243886e-01</td>\n",
       "      <td>-6.936309e-01</td>\n",
       "      <td>-7.319088e-01</td>\n",
       "      <td>-6.423777e-01</td>\n",
       "      <td>-5.373756e-01</td>\n",
       "      <td>-7.060427e-01</td>\n",
       "      <td>-1.776856e-01</td>\n",
       "      <td>-6.008881e-01</td>\n",
       "      <td>-3.548677e-01</td>\n",
       "    </tr>\n",
       "    <tr>\n",
       "      <th>75%</th>\n",
       "      <td>5.754680e-01</td>\n",
       "      <td>3.860715e-01</td>\n",
       "      <td>6.076347e-01</td>\n",
       "      <td>4.017410e-01</td>\n",
       "      <td>3.797454e-01</td>\n",
       "      <td>7.360871e-01</td>\n",
       "      <td>6.607941e-01</td>\n",
       "      <td>7.011454e-02</td>\n",
       "      <td>-3.548677e-01</td>\n",
       "    </tr>\n",
       "    <tr>\n",
       "      <th>max</th>\n",
       "      <td>1.975181e+00</td>\n",
       "      <td>2.296314e+00</td>\n",
       "      <td>2.282064e+00</td>\n",
       "      <td>2.489978e+00</td>\n",
       "      <td>3.131108e+00</td>\n",
       "      <td>1.766180e+00</td>\n",
       "      <td>2.756993e+00</td>\n",
       "      <td>2.418624e+00</td>\n",
       "      <td>4.903108e+00</td>\n",
       "    </tr>\n",
       "  </tbody>\n",
       "</table>\n",
       "</div>"
      ],
      "text/plain": [
       "                  0             1             2             3             4  \\\n",
       "count  5.120000e+02  5.120000e+02  5.120000e+02  5.120000e+02  5.120000e+02   \n",
       "mean  -1.548241e-16 -1.543904e-16 -1.353084e-16  1.149254e-16  5.767956e-17   \n",
       "std    1.000978e+00  1.000978e+00  1.000978e+00  1.000978e+00  1.000978e+00   \n",
       "min   -1.174173e+00 -6.936309e-01 -7.319088e-01 -6.423777e-01 -9.959361e-01   \n",
       "25%   -8.242452e-01 -6.936309e-01 -7.319088e-01 -6.423777e-01 -5.373756e-01   \n",
       "50%   -1.243886e-01 -6.936309e-01 -7.319088e-01 -6.423777e-01 -5.373756e-01   \n",
       "75%    5.754680e-01  3.860715e-01  6.076347e-01  4.017410e-01  3.797454e-01   \n",
       "max    1.975181e+00  2.296314e+00  2.282064e+00  2.489978e+00  3.131108e+00   \n",
       "\n",
       "                  5             6             7             8  \n",
       "count  5.120000e+02  5.120000e+02  5.120000e+02  5.120000e+02  \n",
       "mean   1.674008e-16 -2.775558e-17 -3.642919e-17  6.938894e-18  \n",
       "std    1.000978e+00  1.000978e+00  1.000978e+00  1.000978e+00  \n",
       "min   -7.060427e-01 -1.016165e+00 -6.008881e-01 -3.548677e-01  \n",
       "25%   -7.060427e-01 -5.969255e-01 -6.008881e-01 -3.548677e-01  \n",
       "50%   -7.060427e-01 -1.776856e-01 -6.008881e-01 -3.548677e-01  \n",
       "75%    7.360871e-01  6.607941e-01  7.011454e-02 -3.548677e-01  \n",
       "max    1.766180e+00  2.756993e+00  2.418624e+00  4.903108e+00  "
      ]
     },
     "execution_count": 33,
     "metadata": {},
     "output_type": "execute_result"
    }
   ],
   "source": [
    "# standard 방식 확인\n",
    "pd.DataFrame(X_scaled_standard_train).describe()"
   ]
  },
  {
   "cell_type": "code",
   "execution_count": 35,
   "id": "3746eb67",
   "metadata": {},
   "outputs": [
    {
     "data": {
      "text/html": [
       "<div>\n",
       "<style scoped>\n",
       "    .dataframe tbody tr th:only-of-type {\n",
       "        vertical-align: middle;\n",
       "    }\n",
       "\n",
       "    .dataframe tbody tr th {\n",
       "        vertical-align: top;\n",
       "    }\n",
       "\n",
       "    .dataframe thead th {\n",
       "        text-align: right;\n",
       "    }\n",
       "</style>\n",
       "<table border=\"1\" class=\"dataframe\">\n",
       "  <thead>\n",
       "    <tr style=\"text-align: right;\">\n",
       "      <th></th>\n",
       "      <th>0</th>\n",
       "      <th>1</th>\n",
       "      <th>2</th>\n",
       "      <th>3</th>\n",
       "      <th>4</th>\n",
       "      <th>5</th>\n",
       "      <th>6</th>\n",
       "      <th>7</th>\n",
       "      <th>8</th>\n",
       "    </tr>\n",
       "  </thead>\n",
       "  <tbody>\n",
       "    <tr>\n",
       "      <th>count</th>\n",
       "      <td>171.000000</td>\n",
       "      <td>171.000000</td>\n",
       "      <td>171.000000</td>\n",
       "      <td>171.000000</td>\n",
       "      <td>171.000000</td>\n",
       "      <td>171.000000</td>\n",
       "      <td>171.000000</td>\n",
       "      <td>171.000000</td>\n",
       "      <td>171.000000</td>\n",
       "    </tr>\n",
       "    <tr>\n",
       "      <th>mean</th>\n",
       "      <td>0.121175</td>\n",
       "      <td>0.083483</td>\n",
       "      <td>0.039700</td>\n",
       "      <td>-0.021605</td>\n",
       "      <td>0.114263</td>\n",
       "      <td>-0.028149</td>\n",
       "      <td>0.035612</td>\n",
       "      <td>0.105430</td>\n",
       "      <td>-0.009802</td>\n",
       "    </tr>\n",
       "    <tr>\n",
       "      <th>std</th>\n",
       "      <td>0.941174</td>\n",
       "      <td>1.069038</td>\n",
       "      <td>1.002747</td>\n",
       "      <td>0.987654</td>\n",
       "      <td>1.071204</td>\n",
       "      <td>1.003453</td>\n",
       "      <td>1.103943</td>\n",
       "      <td>1.089918</td>\n",
       "      <td>1.048292</td>\n",
       "    </tr>\n",
       "    <tr>\n",
       "      <th>min</th>\n",
       "      <td>-1.174173</td>\n",
       "      <td>-0.693631</td>\n",
       "      <td>-0.731909</td>\n",
       "      <td>-0.642378</td>\n",
       "      <td>-0.995936</td>\n",
       "      <td>-0.706043</td>\n",
       "      <td>-1.016165</td>\n",
       "      <td>-0.600888</td>\n",
       "      <td>-0.354868</td>\n",
       "    </tr>\n",
       "    <tr>\n",
       "      <th>25%</th>\n",
       "      <td>-0.474317</td>\n",
       "      <td>-0.693631</td>\n",
       "      <td>-0.731909</td>\n",
       "      <td>-0.642378</td>\n",
       "      <td>-0.537376</td>\n",
       "      <td>-0.706043</td>\n",
       "      <td>-1.016165</td>\n",
       "      <td>-0.600888</td>\n",
       "      <td>-0.354868</td>\n",
       "    </tr>\n",
       "    <tr>\n",
       "      <th>50%</th>\n",
       "      <td>0.225540</td>\n",
       "      <td>-0.693631</td>\n",
       "      <td>-0.397023</td>\n",
       "      <td>-0.642378</td>\n",
       "      <td>-0.537376</td>\n",
       "      <td>-0.706043</td>\n",
       "      <td>-0.177686</td>\n",
       "      <td>-0.600888</td>\n",
       "      <td>-0.354868</td>\n",
       "    </tr>\n",
       "    <tr>\n",
       "      <th>75%</th>\n",
       "      <td>0.575468</td>\n",
       "      <td>0.635234</td>\n",
       "      <td>0.607635</td>\n",
       "      <td>0.053701</td>\n",
       "      <td>0.609026</td>\n",
       "      <td>0.392723</td>\n",
       "      <td>0.660794</td>\n",
       "      <td>0.573367</td>\n",
       "      <td>-0.354868</td>\n",
       "    </tr>\n",
       "    <tr>\n",
       "      <th>max</th>\n",
       "      <td>1.975181</td>\n",
       "      <td>2.296314</td>\n",
       "      <td>2.282064</td>\n",
       "      <td>2.489978</td>\n",
       "      <td>3.131108</td>\n",
       "      <td>1.766180</td>\n",
       "      <td>2.756993</td>\n",
       "      <td>2.418624</td>\n",
       "      <td>4.903108</td>\n",
       "    </tr>\n",
       "  </tbody>\n",
       "</table>\n",
       "</div>"
      ],
      "text/plain": [
       "                0           1           2           3           4           5  \\\n",
       "count  171.000000  171.000000  171.000000  171.000000  171.000000  171.000000   \n",
       "mean     0.121175    0.083483    0.039700   -0.021605    0.114263   -0.028149   \n",
       "std      0.941174    1.069038    1.002747    0.987654    1.071204    1.003453   \n",
       "min     -1.174173   -0.693631   -0.731909   -0.642378   -0.995936   -0.706043   \n",
       "25%     -0.474317   -0.693631   -0.731909   -0.642378   -0.537376   -0.706043   \n",
       "50%      0.225540   -0.693631   -0.397023   -0.642378   -0.537376   -0.706043   \n",
       "75%      0.575468    0.635234    0.607635    0.053701    0.609026    0.392723   \n",
       "max      1.975181    2.296314    2.282064    2.489978    3.131108    1.766180   \n",
       "\n",
       "                6           7           8  \n",
       "count  171.000000  171.000000  171.000000  \n",
       "mean     0.035612    0.105430   -0.009802  \n",
       "std      1.103943    1.089918    1.048292  \n",
       "min     -1.016165   -0.600888   -0.354868  \n",
       "25%     -1.016165   -0.600888   -0.354868  \n",
       "50%     -0.177686   -0.600888   -0.354868  \n",
       "75%      0.660794    0.573367   -0.354868  \n",
       "max      2.756993    2.418624    4.903108  "
      ]
     },
     "execution_count": 35,
     "metadata": {},
     "output_type": "execute_result"
    }
   ],
   "source": [
    "# test data 를 standard로 정규화\n",
    "X_scaled_standard_test=scaler_standard.transform(X_test)\n",
    "\n",
    "#X_scaled_standard_test의 describe 확인\n",
    "pd.DataFrame(X_scaled_standard_test).describe()"
   ]
  },
  {
   "cell_type": "code",
   "execution_count": 36,
   "id": "0b19164e",
   "metadata": {},
   "outputs": [
    {
     "data": {
      "text/html": [
       "<div>\n",
       "<style scoped>\n",
       "    .dataframe tbody tr th:only-of-type {\n",
       "        vertical-align: middle;\n",
       "    }\n",
       "\n",
       "    .dataframe tbody tr th {\n",
       "        vertical-align: top;\n",
       "    }\n",
       "\n",
       "    .dataframe thead th {\n",
       "        text-align: right;\n",
       "    }\n",
       "</style>\n",
       "<table border=\"1\" class=\"dataframe\">\n",
       "  <thead>\n",
       "    <tr style=\"text-align: right;\">\n",
       "      <th></th>\n",
       "      <th>0</th>\n",
       "      <th>1</th>\n",
       "      <th>2</th>\n",
       "      <th>3</th>\n",
       "      <th>4</th>\n",
       "      <th>5</th>\n",
       "      <th>6</th>\n",
       "      <th>7</th>\n",
       "      <th>8</th>\n",
       "    </tr>\n",
       "  </thead>\n",
       "  <tbody>\n",
       "    <tr>\n",
       "      <th>count</th>\n",
       "      <td>171.000000</td>\n",
       "      <td>171.000000</td>\n",
       "      <td>171.000000</td>\n",
       "      <td>171.000000</td>\n",
       "      <td>171.000000</td>\n",
       "      <td>171.000000</td>\n",
       "      <td>171.000000</td>\n",
       "      <td>171.000000</td>\n",
       "      <td>171.000000</td>\n",
       "    </tr>\n",
       "    <tr>\n",
       "      <th>mean</th>\n",
       "      <td>0.411306</td>\n",
       "      <td>0.259909</td>\n",
       "      <td>0.256010</td>\n",
       "      <td>0.198181</td>\n",
       "      <td>0.269006</td>\n",
       "      <td>0.274204</td>\n",
       "      <td>0.278752</td>\n",
       "      <td>0.233918</td>\n",
       "      <td>0.065627</td>\n",
       "    </tr>\n",
       "    <tr>\n",
       "      <th>std</th>\n",
       "      <td>0.298847</td>\n",
       "      <td>0.357544</td>\n",
       "      <td>0.332700</td>\n",
       "      <td>0.315307</td>\n",
       "      <td>0.259557</td>\n",
       "      <td>0.405891</td>\n",
       "      <td>0.292578</td>\n",
       "      <td>0.360958</td>\n",
       "      <td>0.199372</td>\n",
       "    </tr>\n",
       "    <tr>\n",
       "      <th>min</th>\n",
       "      <td>0.000000</td>\n",
       "      <td>0.000000</td>\n",
       "      <td>0.000000</td>\n",
       "      <td>0.000000</td>\n",
       "      <td>0.000000</td>\n",
       "      <td>0.000000</td>\n",
       "      <td>0.000000</td>\n",
       "      <td>0.000000</td>\n",
       "      <td>0.000000</td>\n",
       "    </tr>\n",
       "    <tr>\n",
       "      <th>25%</th>\n",
       "      <td>0.222222</td>\n",
       "      <td>0.000000</td>\n",
       "      <td>0.000000</td>\n",
       "      <td>0.000000</td>\n",
       "      <td>0.111111</td>\n",
       "      <td>0.000000</td>\n",
       "      <td>0.000000</td>\n",
       "      <td>0.000000</td>\n",
       "      <td>0.000000</td>\n",
       "    </tr>\n",
       "    <tr>\n",
       "      <th>50%</th>\n",
       "      <td>0.444444</td>\n",
       "      <td>0.000000</td>\n",
       "      <td>0.111111</td>\n",
       "      <td>0.000000</td>\n",
       "      <td>0.111111</td>\n",
       "      <td>0.000000</td>\n",
       "      <td>0.222222</td>\n",
       "      <td>0.000000</td>\n",
       "      <td>0.000000</td>\n",
       "    </tr>\n",
       "    <tr>\n",
       "      <th>75%</th>\n",
       "      <td>0.555556</td>\n",
       "      <td>0.444444</td>\n",
       "      <td>0.444444</td>\n",
       "      <td>0.222222</td>\n",
       "      <td>0.388889</td>\n",
       "      <td>0.444444</td>\n",
       "      <td>0.444444</td>\n",
       "      <td>0.388889</td>\n",
       "      <td>0.000000</td>\n",
       "    </tr>\n",
       "    <tr>\n",
       "      <th>max</th>\n",
       "      <td>1.000000</td>\n",
       "      <td>1.000000</td>\n",
       "      <td>1.000000</td>\n",
       "      <td>1.000000</td>\n",
       "      <td>1.000000</td>\n",
       "      <td>1.000000</td>\n",
       "      <td>1.000000</td>\n",
       "      <td>1.000000</td>\n",
       "      <td>1.000000</td>\n",
       "    </tr>\n",
       "  </tbody>\n",
       "</table>\n",
       "</div>"
      ],
      "text/plain": [
       "                0           1           2           3           4           5  \\\n",
       "count  171.000000  171.000000  171.000000  171.000000  171.000000  171.000000   \n",
       "mean     0.411306    0.259909    0.256010    0.198181    0.269006    0.274204   \n",
       "std      0.298847    0.357544    0.332700    0.315307    0.259557    0.405891   \n",
       "min      0.000000    0.000000    0.000000    0.000000    0.000000    0.000000   \n",
       "25%      0.222222    0.000000    0.000000    0.000000    0.111111    0.000000   \n",
       "50%      0.444444    0.000000    0.111111    0.000000    0.111111    0.000000   \n",
       "75%      0.555556    0.444444    0.444444    0.222222    0.388889    0.444444   \n",
       "max      1.000000    1.000000    1.000000    1.000000    1.000000    1.000000   \n",
       "\n",
       "                6           7           8  \n",
       "count  171.000000  171.000000  171.000000  \n",
       "mean     0.278752    0.233918    0.065627  \n",
       "std      0.292578    0.360958    0.199372  \n",
       "min      0.000000    0.000000    0.000000  \n",
       "25%      0.000000    0.000000    0.000000  \n",
       "50%      0.222222    0.000000    0.000000  \n",
       "75%      0.444444    0.388889    0.000000  \n",
       "max      1.000000    1.000000    1.000000  "
      ]
     },
     "execution_count": 36,
     "metadata": {},
     "output_type": "execute_result"
    }
   ],
   "source": [
    "# test data minmax정규화\n",
    "\n",
    "X_scaled_minmax_test=scaler_minmax.transform(X_test)\n",
    "\n",
    "# X_scaled_minmax_test 기술통계량확인\n",
    "pd.DataFrame(X_scaled_minmax_test).describe()"
   ]
  },
  {
   "cell_type": "code",
   "execution_count": 37,
   "id": "bd4beddf",
   "metadata": {},
   "outputs": [
    {
     "name": "stderr",
     "output_type": "stream",
     "text": [
      "/Users/yerim/opt/anaconda3/lib/python3.8/site-packages/sklearn/utils/validation.py:63: DataConversionWarning: A column-vector y was passed when a 1d array was expected. Please change the shape of y to (n_samples, ), for example using ravel().\n",
      "  return f(*args, **kwargs)\n"
     ]
    },
    {
     "data": {
      "text/plain": [
       "LogisticRegression()"
      ]
     },
     "execution_count": 37,
     "metadata": {},
     "output_type": "execute_result"
    }
   ],
   "source": [
    "# 사이킷러너 라이브러리에서 선형회귀 중 로지스틱회귀 함수 임포트\n",
    "from sklearn.linear_model import LogisticRegression\n",
    "\n",
    "# model 지정\n",
    "model=LogisticRegression() # 생략 가능\n",
    "\n",
    "# model에 데이터 fit\n",
    "model.fit(X_scaled_minmax_train, Y_train)"
   ]
  },
  {
   "cell_type": "code",
   "execution_count": 38,
   "id": "cc41297e",
   "metadata": {},
   "outputs": [],
   "source": [
    "# 예측치 구하기\n",
    "pred_train = model.predict(X_scaled_minmax_train)\n"
   ]
  },
  {
   "cell_type": "code",
   "execution_count": 39,
   "id": "7c32a908",
   "metadata": {},
   "outputs": [
    {
     "data": {
      "text/plain": [
       "0.97265625"
      ]
     },
     "execution_count": 39,
     "metadata": {},
     "output_type": "execute_result"
    }
   ],
   "source": [
    "# 성능 구하기\n",
    "model.score(X_scaled_minmax_train, Y_train)"
   ]
  },
  {
   "cell_type": "code",
   "execution_count": 40,
   "id": "a1503303",
   "metadata": {},
   "outputs": [
    {
     "name": "stderr",
     "output_type": "stream",
     "text": [
      "/Users/yerim/opt/anaconda3/lib/python3.8/site-packages/sklearn/utils/validation.py:63: DataConversionWarning: A column-vector y was passed when a 1d array was expected. Please change the shape of y to (n_samples, ), for example using ravel().\n",
      "  return f(*args, **kwargs)\n"
     ]
    },
    {
     "data": {
      "text/plain": [
       "LogisticRegression()"
      ]
     },
     "execution_count": 40,
     "metadata": {},
     "output_type": "execute_result"
    }
   ],
   "source": [
    "# 사이킷러너 라이브러리에서 선형회귀 중 로지스틱회귀 함수 임포트\n",
    "from sklearn.linear_model import LogisticRegression\n",
    "\n",
    "# model 지정\n",
    "model=LogisticRegression() # 생략 가능\n",
    "\n",
    "# model에 데이터 fit\n",
    "model.fit(X_scaled_minmax_test, Y_test)"
   ]
  },
  {
   "cell_type": "code",
   "execution_count": 41,
   "id": "9e6c0c46",
   "metadata": {},
   "outputs": [],
   "source": [
    "# 예측치 구하기\n",
    "pred_test = model.predict(X_scaled_minmax_train)\n"
   ]
  },
  {
   "cell_type": "code",
   "execution_count": 42,
   "id": "5ea6b15f",
   "metadata": {},
   "outputs": [
    {
     "data": {
      "text/plain": [
       "0.9473684210526315"
      ]
     },
     "execution_count": 42,
     "metadata": {},
     "output_type": "execute_result"
    }
   ],
   "source": [
    "# 성능 구하기\n",
    "model.score(X_scaled_minmax_test, Y_test)"
   ]
  },
  {
   "cell_type": "code",
   "execution_count": null,
   "id": "80934dd8",
   "metadata": {},
   "outputs": [],
   "source": []
  }
 ],
 "metadata": {
  "kernelspec": {
   "display_name": "Python 3",
   "language": "python",
   "name": "python3"
  },
  "language_info": {
   "codemirror_mode": {
    "name": "ipython",
    "version": 3
   },
   "file_extension": ".py",
   "mimetype": "text/x-python",
   "name": "python",
   "nbconvert_exporter": "python",
   "pygments_lexer": "ipython3",
   "version": "3.8.8"
  }
 },
 "nbformat": 4,
 "nbformat_minor": 5
}
