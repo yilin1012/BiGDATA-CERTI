{
 "cells": [
  {
   "cell_type": "markdown",
   "id": "365d1172",
   "metadata": {},
   "source": [
    "# 11월 16일(화) 공부"
   ]
  },
  {
   "cell_type": "code",
   "execution_count": 2,
   "id": "e333cdcf",
   "metadata": {},
   "outputs": [],
   "source": [
    "# numpy\n",
    "import numpy as np"
   ]
  },
  {
   "cell_type": "code",
   "execution_count": 3,
   "id": "bffa0a14",
   "metadata": {},
   "outputs": [
    {
     "name": "stdout",
     "output_type": "stream",
     "text": [
      "[1 2 3 4]\n"
     ]
    }
   ],
   "source": [
    "# numpy 배열 기본\n",
    "v1 = np.array([1,2,3,4])\n",
    "print(v1)"
   ]
  },
  {
   "cell_type": "code",
   "execution_count": 4,
   "id": "6d49ab9f",
   "metadata": {},
   "outputs": [
    {
     "name": "stdout",
     "output_type": "stream",
     "text": [
      "[0 1 2 3 4]\n",
      "[1 3 5 7 9]\n",
      "[1. 3. 5. 7. 9.]\n"
     ]
    }
   ],
   "source": [
    "# 연속되거나 일정한 규칙을 가진 숫자\n",
    "v1 = np.arange(5)\n",
    "print(v1)\n",
    "\n",
    "# 연속되거나 일정한 규칙을 가진 숫자, 데이터 형태 지정\n",
    "v2 = np.arange(1,10,2, dtype=int)\n",
    "print(v2)\n",
    "\n",
    "v3 = np.arange(1,10,2, dtype=float)\n",
    "print(v3)\n"
   ]
  },
  {
   "cell_type": "code",
   "execution_count": 5,
   "id": "f9627bfa",
   "metadata": {},
   "outputs": [
    {
     "name": "stdout",
     "output_type": "stream",
     "text": [
      "[ 1  9 25 49 81]\n",
      "[  1  27 125 343 729]\n"
     ]
    }
   ],
   "source": [
    "# 제곱값 생성\n",
    "v4 = np.arange(1,10,2)**2\n",
    "print(v4)\n",
    "\n",
    "# 세제곱값 생성\n",
    "v5 = np.arange(1,10,2)**3\n",
    "print(v5)"
   ]
  },
  {
   "cell_type": "code",
   "execution_count": 8,
   "id": "290f194e",
   "metadata": {},
   "outputs": [
    {
     "name": "stdout",
     "output_type": "stream",
     "text": [
      "[ 0  1  2  3  4  5  6  7  8  9 10 11]\n",
      "[[ 0  1  2  3  4  5]\n",
      " [ 6  7  8  9 10 11]]\n",
      "[[ 0  2  4  6  8 10]\n",
      " [ 1  3  5  7  9 11]]\n"
     ]
    }
   ],
   "source": [
    "# 행렬만들기\n",
    "v1 = np.arange(12)\n",
    "print(v1)\n",
    "\n",
    "v2 = v1.reshape(2,6)\n",
    "print(v2)\n",
    "\n",
    "v3 = v1.reshape(2,6, order='F') # 값을 열부터 채워 넣음 \n",
    "print(v3)"
   ]
  },
  {
   "cell_type": "code",
   "execution_count": 9,
   "id": "86f1ee0c",
   "metadata": {},
   "outputs": [
    {
     "name": "stdout",
     "output_type": "stream",
     "text": [
      "덧셈: [[2 4]\n",
      " [6 8]]\n",
      "뺄셈: [[0 0]\n",
      " [0 0]]\n",
      "곱셈: [[ 1  4]\n",
      " [ 9 16]]\n",
      "행렬연산: [[ 7 10]\n",
      " [15 22]]\n"
     ]
    }
   ],
   "source": [
    "# 행렬 계산\n",
    "\n",
    "v1 = np.arange(1,5).reshape(2,2)\n",
    "\n",
    "#덧셈\n",
    "print(\"덧셈:\", np.add(v1,v1))\n",
    "\n",
    "#뺄셈\n",
    "print(\"뺄셈:\",np.subtract(v1,v1))\n",
    "\n",
    "#곱셈\n",
    "print(\"곱셈:\",np.multiply(v1,v1))\n",
    "\n",
    "#행렬연산\n",
    "print(\"행렬연산:\",np.dot(v1,v1))"
   ]
  },
  {
   "cell_type": "code",
   "execution_count": 10,
   "id": "48914870",
   "metadata": {},
   "outputs": [
    {
     "name": "stdout",
     "output_type": "stream",
     "text": [
      "[ 0  1  2  3  4  5  6  7  8  9 10 11]\n",
      "[[[ 0  6]\n",
      "  [ 2  8]\n",
      "  [ 4 10]]\n",
      "\n",
      " [[ 1  7]\n",
      "  [ 3  9]\n",
      "  [ 5 11]]]\n"
     ]
    }
   ],
   "source": [
    "# 다차원 행렬 만들기\n",
    "v1 = np.arange(12)\n",
    "print(v1)\n",
    "\n",
    "v2=v1.reshape(2,3,2, order='F')\n",
    "print(v2)"
   ]
  },
  {
   "cell_type": "code",
   "execution_count": 11,
   "id": "628ff7c7",
   "metadata": {},
   "outputs": [
    {
     "name": "stdout",
     "output_type": "stream",
     "text": [
      "[3.5 5.5 7.5 9.5]\n",
      "[[1 2]\n",
      " [3 4]]\n",
      "최대값 :  9.5\n",
      "최소값 :  1\n"
     ]
    }
   ],
   "source": [
    "# 다차원 배열에서 요소의 최대값 및 최소값 반환\n",
    "v3 = np.arange(3.5, 10.5, 2, dtype=float)\n",
    "print(v3)\n",
    "\n",
    "v4 = np.arange(1,5).reshape(2,2)\n",
    "print(v4)\n",
    "\n",
    "# 최대값\n",
    "print(\"최대값 : \", np.amax(v3))\n",
    "\n",
    "# 최소값\n",
    "print(\"최소값 : \", np.amin(v4))\n"
   ]
  },
  {
   "cell_type": "code",
   "execution_count": 12,
   "id": "415aba99",
   "metadata": {},
   "outputs": [
    {
     "name": "stdout",
     "output_type": "stream",
     "text": [
      "[3.5 5.5 7.5 9.5]\n",
      "[[1 2]\n",
      " [3 4]]\n",
      "float64\n",
      "int64\n"
     ]
    }
   ],
   "source": [
    "# 다차원 배열의 데이터 타입 확인\n",
    "v3 = np.arange(3.5, 10.5, 2, dtype=float)\n",
    "print(v3)\n",
    "\n",
    "v4 = np.arange(1,5).reshape(2,2)\n",
    "print(v4)\n",
    "\n",
    "print(v3.dtype)\n",
    "print(v4.dtype)"
   ]
  },
  {
   "cell_type": "code",
   "execution_count": 20,
   "id": "d288c7e2",
   "metadata": {},
   "outputs": [
    {
     "name": "stdout",
     "output_type": "stream",
     "text": [
      "[3.5 5.5 7.5 9.5]\n",
      "[ 0  1  2  3  4  5  6  7  8  9 10 11]\n",
      "[[[ 0  1]\n",
      "  [ 2  3]\n",
      "  [ 4  5]]\n",
      "\n",
      " [[ 6  7]\n",
      "  [ 8  9]\n",
      "  [10 11]]]\n",
      "(4,)\n",
      "(2, 3, 2)\n"
     ]
    }
   ],
   "source": [
    "# 다차원 배열의 행, 열, 차원 확인\n",
    "v3 = np.arange(3.5, 10.5, 2, dtype=float)\n",
    "print(v3)\n",
    "\n",
    "v4 = np.arange(0,12)\n",
    "print(v4)\n",
    "\n",
    "v5=v4.reshape(2,3,2)\n",
    "print(v5)\n",
    "\n",
    "print(v3.shape)\n",
    "print(v5.shape)"
   ]
  },
  {
   "cell_type": "code",
   "execution_count": null,
   "id": "e29c29da",
   "metadata": {},
   "outputs": [],
   "source": []
  }
 ],
 "metadata": {
  "kernelspec": {
   "display_name": "Python 3",
   "language": "python",
   "name": "python3"
  },
  "language_info": {
   "codemirror_mode": {
    "name": "ipython",
    "version": 3
   },
   "file_extension": ".py",
   "mimetype": "text/x-python",
   "name": "python",
   "nbconvert_exporter": "python",
   "pygments_lexer": "ipython3",
   "version": "3.8.8"
  }
 },
 "nbformat": 4,
 "nbformat_minor": 5
}
