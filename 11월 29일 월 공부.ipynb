{
 "cells": [
  {
   "cell_type": "markdown",
   "id": "106645f8",
   "metadata": {},
   "source": [
    "# 11월 29일 월 공부"
   ]
  },
  {
   "cell_type": "code",
   "execution_count": 37,
   "id": "4b85bb44",
   "metadata": {},
   "outputs": [],
   "source": [
    "import warnings\n",
    "warnings.filterwarnings(\"ignore\")"
   ]
  },
  {
   "cell_type": "markdown",
   "id": "6f485250",
   "metadata": {},
   "source": [
    "## K-NN 알고리즘 (2) 회귀"
   ]
  },
  {
   "cell_type": "code",
   "execution_count": 2,
   "id": "e9659a93",
   "metadata": {},
   "outputs": [],
   "source": [
    "import pandas as pd\n",
    "\n",
    "data = pd.read_csv('/Users/yerim/Desktop/빅데이터분석기사/BigData_data_최종본(1022)/house_price.csv' , encoding='utf-8')\n",
    "\n",
    "X = data[data.columns[1:5]]\n",
    "y = data[[\"house_value\"]]"
   ]
  },
  {
   "cell_type": "code",
   "execution_count": 3,
   "id": "06232062",
   "metadata": {},
   "outputs": [],
   "source": [
    "# train-test split\n",
    "from sklearn.model_selection import train_test_split\n",
    "X_train, X_test, y_train, y_test = train_test_split(X,y,random_state=42)"
   ]
  },
  {
   "cell_type": "code",
   "execution_count": 5,
   "id": "d1b176f3",
   "metadata": {},
   "outputs": [],
   "source": [
    "# MinMax정규화\n",
    "from sklearn.preprocessing import MinMaxScaler\n",
    "scaler = MinMaxScaler()\n",
    "scaler.fit(X_train)\n",
    "X_scaled_train = scaler.transform(X_train)\n",
    "X_scaled_test = scaler.transform(X_test)"
   ]
  },
  {
   "cell_type": "code",
   "execution_count": 9,
   "id": "ba30206d",
   "metadata": {},
   "outputs": [
    {
     "name": "stdout",
     "output_type": "stream",
     "text": [
      "훈련 데이터 스코어 :  0.6804607237174459\n",
      "테스트 데이터 스코어 :  0.5541889571372401\n"
     ]
    }
   ],
   "source": [
    "# 기본 모델 적용 - KNeighborsRegressor\n",
    "from sklearn.neighbors import KNeighborsRegressor\n",
    "model = KNeighborsRegressor()\n",
    "model.fit(X_scaled_train,y_train)\n",
    "\n",
    "pred_train = model.predict(X_scaled_train)\n",
    "pred_test = model.predict(X_scaled_test)\n",
    "\n",
    "print(\"훈련 데이터 스코어 : \" , model.score(X_scaled_train, y_train))\n",
    "print(\"테스트 데이터 스코어 : \" , model.score(X_scaled_test, y_test))"
   ]
  },
  {
   "cell_type": "code",
   "execution_count": 11,
   "id": "c0afa360",
   "metadata": {},
   "outputs": [
    {
     "name": "stdout",
     "output_type": "stream",
     "text": [
      "훈련데이터 RMSE :  53952.69804097723\n",
      "테스트데이터 RMSE :  63831.91662964773\n"
     ]
    }
   ],
   "source": [
    "# 회귀모델 평가지표 - RMSE(Root Mean Squared Error)\n",
    "import numpy as np\n",
    "from sklearn.metrics import mean_squared_error\n",
    "MSE_train = mean_squared_error(y_train, pred_train)\n",
    "MSE_test = mean_squared_error(y_test, pred_test)\n",
    "\n",
    "print(\"훈련데이터 RMSE : \" , np.sqrt(MSE_train))\n",
    "print(\"테스트데이터 RMSE : \" , np.sqrt(MSE_test))"
   ]
  },
  {
   "cell_type": "code",
   "execution_count": 17,
   "id": "b7cc0c74",
   "metadata": {},
   "outputs": [
    {
     "name": "stdout",
     "output_type": "stream",
     "text": [
      "Best params :  {'n_neighbors': 11}\n",
      "Best score :  0.5638272489240468\n",
      "Test score :  0.5879583242641135\n"
     ]
    }
   ],
   "source": [
    "# 그리드 서치\n",
    "from sklearn.model_selection import GridSearchCV\n",
    "parameters = {'n_neighbors' : [1,3,5,7,9,11]}\n",
    "grid_search = GridSearchCV(model, parameters, cv=5)\n",
    "grid_search.fit(X_scaled_train, y_train)\n",
    "\n",
    "print(\"Best params : \", grid_search.best_params_)\n",
    "print(\"Best score : \", grid_search.best_score_)\n",
    "print(\"Test score : \", grid_search.score(X_scaled_test, y_test))"
   ]
  },
  {
   "cell_type": "code",
   "execution_count": 18,
   "id": "4c5b3e1f",
   "metadata": {},
   "outputs": [
    {
     "name": "stdout",
     "output_type": "stream",
     "text": [
      "Best params :  {'n_neighbors': 19}\n",
      "Best score :  0.5776685542345874\n",
      "Test score :  0.6004137013563815\n"
     ]
    }
   ],
   "source": [
    "# 랜덤서치\n",
    "from sklearn.model_selection import RandomizedSearchCV\n",
    "from scipy.stats import randint\n",
    "\n",
    "parameters = {'n_neighbors' : randint(low=1, high=20)}\n",
    "random_search = RandomizedSearchCV(model, param_distributions = parameters, cv=5 , n_iter=20)\n",
    "random_search.fit(X_scaled_train, y_train)\n",
    "\n",
    "print(\"Best params : \", random_search.best_params_)\n",
    "print(\"Best score : \" , random_search.best_score_)\n",
    "print(\"Test score : \" , random_search.score(X_scaled_test, y_test))"
   ]
  },
  {
   "cell_type": "markdown",
   "id": "56fe2391",
   "metadata": {},
   "source": [
    "## 3. 나이브베이즈 - (1) 분류"
   ]
  },
  {
   "cell_type": "code",
   "execution_count": 22,
   "id": "6d6020bc",
   "metadata": {},
   "outputs": [
    {
     "name": "stdout",
     "output_type": "stream",
     "text": [
      "<class 'pandas.core.frame.DataFrame'>\n",
      "RangeIndex: 683 entries, 0 to 682\n",
      "Data columns (total 11 columns):\n",
      " #   Column                       Non-Null Count  Dtype\n",
      "---  ------                       --------------  -----\n",
      " 0   code                         683 non-null    int64\n",
      " 1   Clump_Thickness              683 non-null    int64\n",
      " 2   Cell_Size                    683 non-null    int64\n",
      " 3   Cell_Shape                   683 non-null    int64\n",
      " 4   Marginal_Adhesion            683 non-null    int64\n",
      " 5   Single_Epithelial_Cell_Size  683 non-null    int64\n",
      " 6   Bare_Nuclei                  683 non-null    int64\n",
      " 7   Bland_Chromatin              683 non-null    int64\n",
      " 8   Normal_Nucleoli              683 non-null    int64\n",
      " 9   Mitoses                      683 non-null    int64\n",
      " 10  Class                        683 non-null    int64\n",
      "dtypes: int64(11)\n",
      "memory usage: 58.8 KB\n"
     ]
    }
   ],
   "source": [
    "# 데이터 로드\n",
    "import pandas as pd\n",
    "\n",
    "data = pd.read_csv('/Users/yerim/Desktop/빅데이터분석기사/BigData_data_최종본(1022)/breast-cancer-wisconsin.csv' , encoding='utf-8')\n",
    "\n",
    "data.info()"
   ]
  },
  {
   "cell_type": "code",
   "execution_count": 24,
   "id": "8314c5dd",
   "metadata": {},
   "outputs": [],
   "source": [
    "# X 와 Y 나누기\n",
    "X = data[data.columns[1:10]]\n",
    "y = data[['Class']]"
   ]
  },
  {
   "cell_type": "code",
   "execution_count": 25,
   "id": "63f45bd2",
   "metadata": {},
   "outputs": [],
   "source": [
    "# train-test-split\n",
    "from sklearn.model_selection import train_test_split\n",
    "X_train, X_test, y_train, y_test = train_test_split(X,y,stratify=y,random_state=42)"
   ]
  },
  {
   "cell_type": "code",
   "execution_count": 28,
   "id": "ea5a0bb5",
   "metadata": {},
   "outputs": [],
   "source": [
    "# MinMaxScale\n",
    "from sklearn.preprocessing import MinMaxScaler\n",
    "scaler = MinMaxScaler()\n",
    "scaler.fit(X_train)\n",
    "X_scaled_train = scaler.transform(X_train)\n",
    "X_scaled_test = scaler.transform(X_test)"
   ]
  },
  {
   "cell_type": "code",
   "execution_count": 29,
   "id": "5bcdf414",
   "metadata": {},
   "outputs": [
    {
     "name": "stdout",
     "output_type": "stream",
     "text": [
      "훈련데이터 성능 :  0.966796875\n",
      "테스트데이터 성능 :  0.9590643274853801\n"
     ]
    },
    {
     "name": "stderr",
     "output_type": "stream",
     "text": [
      "/Users/yerim/opt/anaconda3/lib/python3.8/site-packages/sklearn/utils/validation.py:63: DataConversionWarning: A column-vector y was passed when a 1d array was expected. Please change the shape of y to (n_samples, ), for example using ravel().\n",
      "  return f(*args, **kwargs)\n"
     ]
    }
   ],
   "source": [
    "# 기본모델적용 나이브베이지 가우시안모델\n",
    "from sklearn.naive_bayes import GaussianNB\n",
    "model = GaussianNB()\n",
    "model.fit(X_scaled_train, y_train)\n",
    "pred_train = model.predict(X_scaled_train)\n",
    "pred_test = model.predict(X_scaled_test)\n",
    "\n",
    "print(\"훈련데이터 성능 : \" , model.score(X_scaled_train, y_train))\n",
    "print(\"테스트데이터 성능 : \" , model.score(X_scaled_test, y_test))"
   ]
  },
  {
   "cell_type": "code",
   "execution_count": 31,
   "id": "bba27091",
   "metadata": {},
   "outputs": [
    {
     "name": "stdout",
     "output_type": "stream",
     "text": [
      "훈련 데이터 오차행렬 : \n",
      " [[319  14]\n",
      " [  3 176]]\n",
      "테스트 데이터 오차행렬 : \n",
      " [[106   5]\n",
      " [  2  58]]\n"
     ]
    }
   ],
   "source": [
    "# 기본모델 - 혼동행렬\n",
    "from sklearn.metrics import confusion_matrix\n",
    "conf_train = confusion_matrix(y_train, pred_train)\n",
    "conf_test = confusion_matrix(y_test, pred_test)\n",
    "\n",
    "print(\"훈련 데이터 오차행렬 : \\n\" , conf_train)\n",
    "print(\"테스트 데이터 오차행렬 : \\n\" , conf_test)"
   ]
  },
  {
   "cell_type": "code",
   "execution_count": 33,
   "id": "0f91bae1",
   "metadata": {},
   "outputs": [
    {
     "name": "stdout",
     "output_type": "stream",
     "text": [
      "훈련 데이터 상세 평가 지표 : \n",
      "               precision    recall  f1-score   support\n",
      "\n",
      "           0       0.99      0.96      0.97       333\n",
      "           1       0.93      0.98      0.95       179\n",
      "\n",
      "    accuracy                           0.97       512\n",
      "   macro avg       0.96      0.97      0.96       512\n",
      "weighted avg       0.97      0.97      0.97       512\n",
      "\n",
      "테스트 데이터 상세 평가 지표 : \n",
      "               precision    recall  f1-score   support\n",
      "\n",
      "           0       0.98      0.95      0.97       111\n",
      "           1       0.92      0.97      0.94        60\n",
      "\n",
      "    accuracy                           0.96       171\n",
      "   macro avg       0.95      0.96      0.96       171\n",
      "weighted avg       0.96      0.96      0.96       171\n",
      "\n"
     ]
    }
   ],
   "source": [
    "# 기본 모델 - 상세 평가 지표\n",
    "from sklearn.metrics import classification_report\n",
    "crf_train = classification_report(y_train, pred_train)\n",
    "crf_test = classification_report(y_test, pred_test)\n",
    "\n",
    "print(\"훈련 데이터 상세 평가 지표 : \\n\", crf_train)\n",
    "print(\"테스트 데이터 상세 평가 지표 : \\n\", crf_test)"
   ]
  },
  {
   "cell_type": "code",
   "execution_count": 38,
   "id": "5cd84134",
   "metadata": {},
   "outputs": [
    {
     "name": "stdout",
     "output_type": "stream",
     "text": [
      "Best params :  {'var_smoothing': 0}\n",
      "Best score :  0.9648772130211307\n",
      "Test score :  0.9590643274853801\n"
     ]
    }
   ],
   "source": [
    "# 그리드 서치\n",
    "from sklearn.model_selection import GridSearchCV\n",
    "parameters = {'var_smoothing' : [0,1,2,3,4,5,6,7,8,9,10]}\n",
    "grid_search = GridSearchCV(model, parameters, cv=5)\n",
    "grid_search.fit(X_scaled_train, y_train)\n",
    "\n",
    "print(\"Best params : \" , grid_search.best_params_)\n",
    "print(\"Best score : \" , grid_search.best_score_)\n",
    "print(\"Test score : \" , grid_search.score(X_scaled_test, y_test))"
   ]
  },
  {
   "cell_type": "code",
   "execution_count": 40,
   "id": "d11135e8",
   "metadata": {},
   "outputs": [
    {
     "name": "stdout",
     "output_type": "stream",
     "text": [
      "Best params :  {'var_smoothing': 0}\n",
      "Best score :  0.9648772130211307\n",
      "Test score :  0.9590643274853801\n"
     ]
    }
   ],
   "source": [
    "# 랜덤서치\n",
    "from sklearn.model_selection import RandomizedSearchCV\n",
    "from scipy.stats import randint\n",
    "\n",
    "parameters = {'var_smoothing' : randint(low=0, high=20)}\n",
    "\n",
    "random_search = RandomizedSearchCV(model, param_distributions=parameters , cv=5, n_iter=100)\n",
    "random_search.fit(X_scaled_train, y_train)\n",
    "\n",
    "print(\"Best params : \" , random_search.best_params_)\n",
    "print(\"Best score : \" , random_search.best_score_)\n",
    "print(\"Test score : \" , random_search.score(X_scaled_test, y_test))"
   ]
  },
  {
   "cell_type": "markdown",
   "id": "0b8d1ec7",
   "metadata": {},
   "source": [
    "## 3. 나이브베이즈 - (2) 회귀"
   ]
  },
  {
   "cell_type": "code",
   "execution_count": 41,
   "id": "3a1ce16e",
   "metadata": {},
   "outputs": [
    {
     "name": "stdout",
     "output_type": "stream",
     "text": [
      "<class 'pandas.core.frame.DataFrame'>\n",
      "RangeIndex: 17689 entries, 0 to 17688\n",
      "Data columns (total 6 columns):\n",
      " #   Column       Non-Null Count  Dtype  \n",
      "---  ------       --------------  -----  \n",
      " 0   housing_age  17689 non-null  int64  \n",
      " 1   income       17689 non-null  float64\n",
      " 2   bedrooms     17689 non-null  float64\n",
      " 3   households   17689 non-null  float64\n",
      " 4   rooms        17689 non-null  float64\n",
      " 5   house_value  17689 non-null  int64  \n",
      "dtypes: float64(4), int64(2)\n",
      "memory usage: 829.3 KB\n"
     ]
    }
   ],
   "source": [
    "# 데이터로드\n",
    "import pandas as pd\n",
    "\n",
    "data = pd.read_csv('/Users/yerim/Desktop/빅데이터분석기사/BigData_data_최종본(1022)/house_price.csv', encoding='utf-8')\n",
    "data.info()"
   ]
  },
  {
   "cell_type": "code",
   "execution_count": 42,
   "id": "d0b551f6",
   "metadata": {},
   "outputs": [],
   "source": [
    "# X 와 Y  나누기\n",
    "X = data[data.columns[0:5]]\n",
    "y = data[['house_value']]"
   ]
  },
  {
   "cell_type": "code",
   "execution_count": 43,
   "id": "0e5840ef",
   "metadata": {},
   "outputs": [],
   "source": [
    "# train-test-split\n",
    "from sklearn.model_selection import train_test_split\n",
    "X_train, X_test, y_train, y_test = train_test_split(X,y,random_state=42)"
   ]
  },
  {
   "cell_type": "code",
   "execution_count": 48,
   "id": "a317b86d",
   "metadata": {},
   "outputs": [],
   "source": [
    "# MinMaxScaler\n",
    "from sklearn.preprocessing import MinMaxScaler\n",
    "scaler = MinMaxScaler()\n",
    "scaler.fit(X_train)\n",
    "X_scaled_train = scaler.transform(X_train)\n",
    "X_scaled_test = scaler.transform(X_test)"
   ]
  },
  {
   "cell_type": "code",
   "execution_count": 49,
   "id": "6a845d92",
   "metadata": {},
   "outputs": [
    {
     "name": "stdout",
     "output_type": "stream",
     "text": [
      "훈련데이터 모델 성능 :  0.5706920449333218\n",
      "테스트데이터 모델 성능 :  0.5826111218474419\n"
     ]
    }
   ],
   "source": [
    "# 기본 모델 적용 - 나이브베이즈 회귀모델 알고리즘은 BayesianRidge\n",
    "from sklearn.linear_model import BayesianRidge\n",
    "model = BayesianRidge()\n",
    "model.fit(X_scaled_train, y_train)\n",
    "\n",
    "pred_train = model.predict(X_scaled_train)\n",
    "pred_test = model.predict(X_scaled_test)\n",
    "\n",
    "print(\"훈련데이터 모델 성능 : \" , model.score(X_scaled_train, y_train))\n",
    "print(\"테스트데이터 모델 성능 : \", model.score(X_scaled_test, y_test))"
   ]
  },
  {
   "cell_type": "code",
   "execution_count": 51,
   "id": "27c039f1",
   "metadata": {},
   "outputs": [
    {
     "name": "stdout",
     "output_type": "stream",
     "text": [
      "훈련 데이터 RMSE오차확인 : 62536.7794\n",
      "테스트 데이터 RMSE오차확인 : 61763.6439\n"
     ]
    }
   ],
   "source": [
    "# 오차 확인 - RMSE\n",
    "from sklearn.metrics import mean_squared_error\n",
    "import numpy as np\n",
    "\n",
    "MSE_train = mean_squared_error(y_train, pred_train)\n",
    "MSE_test = mean_squared_error(y_test, pred_test)\n",
    "print(\"훈련 데이터 RMSE오차확인 : {:.4f}\".format(np.sqrt(MSE_train)))\n",
    "print(\"테스트 데이터 RMSE오차확인 : {:.4f}\".format(np.sqrt(MSE_test)))"
   ]
  },
  {
   "cell_type": "code",
   "execution_count": 53,
   "id": "d593fa89",
   "metadata": {},
   "outputs": [
    {
     "name": "stdout",
     "output_type": "stream",
     "text": [
      "Best Params :  {'alpha_1': 4, 'lambda_1': 1e-06}\n",
      "Best Score :  0.5702758458286125\n",
      "Test Score :  0.5826111202240445\n"
     ]
    }
   ],
   "source": [
    "# 그리드서치\n",
    "from sklearn.model_selection import GridSearchCV\n",
    "parameters = {'alpha_1' : [1e-06, 1e-05, 1e-04, 1e-03, 1e-02, 1e-01, 1, 2, 3, 4] , \n",
    "              'lambda_1': [1e-06, 1e-05, 1e-04, 1e-03, 1e-02, 1e-01, 1, 2, 3, 4]}\n",
    "grid_search = GridSearchCV(model, parameters, cv=5)\n",
    "grid_search.fit(X_scaled_train, y_train)\n",
    "\n",
    "print(\"Best Params : \" , grid_search.best_params_)\n",
    "print(\"Best Score : \" , grid_search.best_score_)\n",
    "print(\"Test Score : \" , grid_search.score(X_scaled_test, y_test))"
   ]
  },
  {
   "cell_type": "code",
   "execution_count": 56,
   "id": "8e8b7e84",
   "metadata": {},
   "outputs": [
    {
     "name": "stdout",
     "output_type": "stream",
     "text": [
      "Best params :  {'alpha_1': 9, 'lambda_1': 0}\n",
      "Best score :  0.5702758458751305\n",
      "Test score :  0.5826111181963927\n"
     ]
    }
   ],
   "source": [
    "# 랜덤서치\n",
    "from sklearn.model_selection import RandomizedSearchCV\n",
    "from scipy.stats import randint\n",
    "\n",
    "parameters = {'alpha_1' : randint(low=1e-06, high =10) , \n",
    "             'lambda_1' : randint(low=1e-06, high=10)}\n",
    "\n",
    "random_search = RandomizedSearchCV(model, param_distributions = parameters, cv=5, n_iter=100)\n",
    "random_search.fit(X_scaled_train, y_train)\n",
    "\n",
    "print(\"Best params : \", random_search.best_params_)\n",
    "print(\"Best score : \", random_search.best_score_)\n",
    "print(\"Test score : \" , random_search.score(X_scaled_test, y_test))"
   ]
  },
  {
   "cell_type": "markdown",
   "id": "4a61651e",
   "metadata": {},
   "source": [
    "## 4. 인공신경망 - (1) 분류"
   ]
  },
  {
   "cell_type": "code",
   "execution_count": 57,
   "id": "26778104",
   "metadata": {},
   "outputs": [
    {
     "name": "stdout",
     "output_type": "stream",
     "text": [
      "<class 'pandas.core.frame.DataFrame'>\n",
      "RangeIndex: 683 entries, 0 to 682\n",
      "Data columns (total 11 columns):\n",
      " #   Column                       Non-Null Count  Dtype\n",
      "---  ------                       --------------  -----\n",
      " 0   code                         683 non-null    int64\n",
      " 1   Clump_Thickness              683 non-null    int64\n",
      " 2   Cell_Size                    683 non-null    int64\n",
      " 3   Cell_Shape                   683 non-null    int64\n",
      " 4   Marginal_Adhesion            683 non-null    int64\n",
      " 5   Single_Epithelial_Cell_Size  683 non-null    int64\n",
      " 6   Bare_Nuclei                  683 non-null    int64\n",
      " 7   Bland_Chromatin              683 non-null    int64\n",
      " 8   Normal_Nucleoli              683 non-null    int64\n",
      " 9   Mitoses                      683 non-null    int64\n",
      " 10  Class                        683 non-null    int64\n",
      "dtypes: int64(11)\n",
      "memory usage: 58.8 KB\n"
     ]
    }
   ],
   "source": [
    "# 데이터 로드\n",
    "import pandas as pd\n",
    "data = pd.read_csv('/Users/yerim/Desktop/빅데이터분석기사/BigData_data_최종본(1022)/breast-cancer-wisconsin.csv', encoding='utf-8')\n",
    "data.info()"
   ]
  },
  {
   "cell_type": "code",
   "execution_count": 59,
   "id": "cb802875",
   "metadata": {},
   "outputs": [],
   "source": [
    "# X 와 Y 나누기\n",
    "X = data.iloc[:,1:10]\n",
    "y = data[['Class']]"
   ]
  },
  {
   "cell_type": "code",
   "execution_count": 61,
   "id": "eddcd8b6",
   "metadata": {},
   "outputs": [],
   "source": [
    "# train-test-split\n",
    "from sklearn.model_selection import train_test_split\n",
    "\n",
    "X_train, X_test, y_train, y_test = train_test_split(X,y,stratify=y,random_state=42)"
   ]
  },
  {
   "cell_type": "code",
   "execution_count": 62,
   "id": "6965b4da",
   "metadata": {},
   "outputs": [],
   "source": [
    "# MinMaxScaler\n",
    "from sklearn.preprocessing import MinMaxScaler\n",
    "scaler = MinMaxScaler()\n",
    "scaler.fit(X_train)\n",
    "X_scaled_train = scaler.transform(X_train)\n",
    "X_scaled_test = scaler.transform(X_test)"
   ]
  },
  {
   "cell_type": "code",
   "execution_count": 65,
   "id": "33cdf5dc",
   "metadata": {},
   "outputs": [
    {
     "name": "stdout",
     "output_type": "stream",
     "text": [
      "훈련 데이터 성능 :  0.974609375\n",
      "테스트 데이터 성능 :  0.9590643274853801\n"
     ]
    }
   ],
   "source": [
    "# 기본 모델 적용하기 - MLPClassifier\n",
    "from sklearn.neural_network import MLPClassifier\n",
    "model = MLPClassifier()\n",
    "model.fit(X_scaled_train, y_train)\n",
    "\n",
    "pred_train = model.predict(X_scaled_train)\n",
    "pred_test = model.predict(X_scaled_test)\n",
    "\n",
    "print(\"훈련 데이터 성능 : \" , model.score(X_scaled_train, y_train))\n",
    "print(\"테스트 데이터 성능 : \" , model.score(X_scaled_test, y_test))"
   ]
  },
  {
   "cell_type": "code",
   "execution_count": 66,
   "id": "a9717fe7",
   "metadata": {},
   "outputs": [
    {
     "name": "stdout",
     "output_type": "stream",
     "text": [
      "훈련데이터 오차행렬 : \n",
      " [[328   5]\n",
      " [  8 171]]\n",
      "테스트데이터 오차행렬 : \n",
      " [[106   5]\n",
      " [  2  58]]\n"
     ]
    }
   ],
   "source": [
    "# 오차행렬 (혼돈행렬) \n",
    "from sklearn.metrics import confusion_matrix\n",
    "\n",
    "conf_train = confusion_matrix(y_train, pred_train)\n",
    "conf_test = confusion_matrix(y_test, pred_test)\n",
    "\n",
    "print(\"훈련데이터 오차행렬 : \\n\" , conf_train)\n",
    "print(\"테스트데이터 오차행렬 : \\n\" , conf_test)"
   ]
  },
  {
   "cell_type": "code",
   "execution_count": 70,
   "id": "e1df60b1",
   "metadata": {},
   "outputs": [
    {
     "name": "stdout",
     "output_type": "stream",
     "text": [
      "훈련데이터 상세 지표 : \n",
      "               precision    recall  f1-score   support\n",
      "\n",
      "           0       0.98      0.98      0.98       333\n",
      "           1       0.97      0.96      0.96       179\n",
      "\n",
      "    accuracy                           0.97       512\n",
      "   macro avg       0.97      0.97      0.97       512\n",
      "weighted avg       0.97      0.97      0.97       512\n",
      "\n",
      "테스트데이터 상세 지표 : \n",
      "               precision    recall  f1-score   support\n",
      "\n",
      "           0       0.98      0.95      0.97       111\n",
      "           1       0.92      0.97      0.94        60\n",
      "\n",
      "    accuracy                           0.96       171\n",
      "   macro avg       0.95      0.96      0.96       171\n",
      "weighted avg       0.96      0.96      0.96       171\n",
      "\n"
     ]
    }
   ],
   "source": [
    "# 상세지표\n",
    "from sklearn.metrics import classification_report\n",
    "\n",
    "crf_train = classification_report(y_train, pred_train)\n",
    "crf_test = classification_report(y_test, pred_test)\n",
    "\n",
    "print(\"훈련데이터 상세 지표 : \\n\" , crf_train)\n",
    "print(\"테스트데이터 상세 지표 : \\n\" , crf_test)"
   ]
  },
  {
   "cell_type": "code",
   "execution_count": 87,
   "id": "b78d6c6b",
   "metadata": {},
   "outputs": [
    {
     "name": "stdout",
     "output_type": "stream",
     "text": [
      "Best params :  {'activation': 'tanh', 'hidden_layer_sizes': 50, 'solver': 'adam'}\n",
      "Best score :  0.9765086617171141\n",
      "Test score :  0.9590643274853801\n"
     ]
    }
   ],
   "source": [
    "# 그리드 서치\n",
    "from sklearn.model_selection import GridSearchCV\n",
    "parameters = {'hidden_layer_sizes' : [10, 30, 50, 100] , 'solver' : ['sdg','adam'], 'activation' : ['tanh','relu']}\n",
    "grid_search = GridSearchCV(MLPClassifier(), parameters, cv=5)\n",
    "grid_search.fit(X_scaled_train, y_train)\n",
    "\n",
    "print(\"Best params : \" , grid_search.best_params_)\n",
    "print(\"Best score : \" , grid_search.best_score_)\n",
    "print(\"Test score : \" , grid_search.score(X_scaled_test, y_test))"
   ]
  },
  {
   "cell_type": "code",
   "execution_count": 88,
   "id": "454fe31b",
   "metadata": {},
   "outputs": [
    {
     "name": "stdout",
     "output_type": "stream",
     "text": [
      "Best params :  {'activation': 'relu', 'hidden_layer_sizes': 11, 'solver': 'adam'}\n",
      "Best score :  0.976546735198934\n",
      "Test score :  0.9590643274853801\n"
     ]
    }
   ],
   "source": [
    "# 랜덤 서치\n",
    "from sklearn.model_selection import RandomizedSearchCV\n",
    "from scipy.stats import randint\n",
    "parameters = {'hidden_layer_sizes' : randint(low=10, high=100), 'solver':['sgd','adam'], 'activation' : ['tanh','relu']}\n",
    "random_search = RandomizedSearchCV(model, param_distributions = parameters , cv=5, n_iter=10)\n",
    "random_search.fit(X_scaled_train, y_train)\n",
    "\n",
    "print(\"Best params : \", random_search.best_params_)\n",
    "print(\"Best score : \" , random_search.best_score_)\n",
    "print(\"Test score : \" , random_search.score(X_scaled_test, y_test))"
   ]
  },
  {
   "cell_type": "markdown",
   "id": "9d906066",
   "metadata": {},
   "source": [
    "## 4. 인공 신경망 - (2) 회귀"
   ]
  },
  {
   "cell_type": "code",
   "execution_count": 89,
   "id": "e4f5ad69",
   "metadata": {},
   "outputs": [
    {
     "name": "stdout",
     "output_type": "stream",
     "text": [
      "<class 'pandas.core.frame.DataFrame'>\n",
      "RangeIndex: 17689 entries, 0 to 17688\n",
      "Data columns (total 6 columns):\n",
      " #   Column       Non-Null Count  Dtype  \n",
      "---  ------       --------------  -----  \n",
      " 0   housing_age  17689 non-null  int64  \n",
      " 1   income       17689 non-null  float64\n",
      " 2   bedrooms     17689 non-null  float64\n",
      " 3   households   17689 non-null  float64\n",
      " 4   rooms        17689 non-null  float64\n",
      " 5   house_value  17689 non-null  int64  \n",
      "dtypes: float64(4), int64(2)\n",
      "memory usage: 829.3 KB\n"
     ]
    }
   ],
   "source": [
    "# 데이터 로드\n",
    "import pandas as pd\n",
    "data = pd.read_csv('/Users/yerim/Desktop/빅데이터분석기사/BigData_data_최종본(1022)/house_price.csv' , encoding='utf-8')\n",
    "data.info()"
   ]
  },
  {
   "cell_type": "code",
   "execution_count": 90,
   "id": "207138ae",
   "metadata": {},
   "outputs": [],
   "source": [
    "# X와 Y나누기\n",
    "X = data.iloc[:,1:5]\n",
    "y = data[['house_value']]"
   ]
  },
  {
   "cell_type": "code",
   "execution_count": 91,
   "id": "8b7a1aea",
   "metadata": {},
   "outputs": [],
   "source": [
    "# train-test-split\n",
    "from sklearn.model_selection import train_test_split\n",
    "X_train, X_test, y_train, y_test = train_test_split(X, y, random_state=42)"
   ]
  },
  {
   "cell_type": "code",
   "execution_count": 93,
   "id": "ec0a6e27",
   "metadata": {},
   "outputs": [],
   "source": [
    "# MinMaxScaler\n",
    "from sklearn.preprocessing import MinMaxScaler\n",
    "scaler = MinMaxScaler()\n",
    "scaler.fit(X_train)\n",
    "X_scaled_train = scaler.transform(X_train)\n",
    "X_scaled_test = scaler.transform(X_test)"
   ]
  },
  {
   "cell_type": "code",
   "execution_count": 94,
   "id": "757ccbec",
   "metadata": {},
   "outputs": [
    {
     "name": "stdout",
     "output_type": "stream",
     "text": [
      "훈련 데이터 성능 :  -2.7305811667662403\n",
      "테스트 데이터 성능 :  -2.688568703466019\n"
     ]
    }
   ],
   "source": [
    "# 기본 모델 적용\n",
    "from sklearn.neural_network import MLPRegressor\n",
    "model = MLPRegressor()\n",
    "model.fit(X_scaled_train, y_train)\n",
    "pred_train = model.predict(X_scaled_train)\n",
    "pred_test = model.predict(X_scaled_test)\n",
    "\n",
    "print(\"훈련 데이터 성능 : \" , model.score(X_scaled_train, y_train))\n",
    "print(\"테스트 데이터 성능 : \" , model.score(X_scaled_test, y_test))"
   ]
  },
  {
   "cell_type": "code",
   "execution_count": 96,
   "id": "9b6f026f",
   "metadata": {},
   "outputs": [
    {
     "name": "stdout",
     "output_type": "stream",
     "text": [
      "훈련 데이터 RMSE :  184348.36520649013\n",
      "테스트 데이터 RMSE :  183607.92071800423\n"
     ]
    }
   ],
   "source": [
    "# 오차 확인 - RMSE\n",
    "import numpy as np\n",
    "from sklearn.metrics import mean_squared_error\n",
    "MSE_train = mean_squared_error(y_train, pred_train)\n",
    "MSE_test = mean_squared_error(y_test, pred_test)\n",
    "\n",
    "print(\"훈련 데이터 RMSE : \" , np.sqrt(MSE_train))\n",
    "print(\"테스트 데이터 RMSE : \" , np.sqrt(MSE_test))"
   ]
  },
  {
   "cell_type": "code",
   "execution_count": 97,
   "id": "df3c3f4c",
   "metadata": {},
   "outputs": [
    {
     "name": "stdout",
     "output_type": "stream",
     "text": [
      "훈련 데이터 점수 :  0.566197903746314\n",
      "테스트 데이터 점수 :  0.5840866843135079\n"
     ]
    }
   ],
   "source": [
    "# 튜닝 모델 \n",
    "## 그리드서치 , 랜덤서치는 \"MLPRegressor\" 모델에 적합하지 않다. -> 파라미터가 너무 많아서 복잡함.\n",
    "# hidden layer 를 깊게 셜정해주면 좋음.\n",
    "# hidden_layer_sizes 쌓는법 : 튜플로 ( n, n , n) -> (64,64,64) : 한 층에 64개 노드씩 3개 층\n",
    "from sklearn.neural_network import MLPRegressor\n",
    "model = MLPRegressor(hidden_layer_sizes=(64,64,64),activation='relu',random_state=1,max_iter=2000)\n",
    "model.fit(X_scaled_train, y_train)\n",
    "pred_train = model.predict(X_scaled_train)\n",
    "pred_test = model.predict(X_scaled_test)\n",
    "\n",
    "print(\"훈련 데이터 점수 : \" , model.score(X_scaled_train, y_train))\n",
    "print(\"테스트 데이터 점수 : \", model.score(X_scaled_test, y_test))"
   ]
  },
  {
   "cell_type": "code",
   "execution_count": 98,
   "id": "1ddbc57f",
   "metadata": {},
   "outputs": [
    {
     "name": "stdout",
     "output_type": "stream",
     "text": [
      "훈련 데이터 MSE :  62863.255358058195\n",
      "테스트 데이터 MSE :  61654.37310884089\n"
     ]
    }
   ],
   "source": [
    "# RMSE\n",
    "import numpy as np\n",
    "from sklearn.metrics import mean_squared_error\n",
    "\n",
    "MSE_train = mean_squared_error(y_train, pred_train)\n",
    "MSE_test = mean_squared_error(y_test, pred_test)\n",
    "\n",
    "print(\"훈련 데이터 MSE : \" , np.sqrt(MSE_train))\n",
    "print(\"테스트 데이터 MSE : \" , np.sqrt(MSE_test))"
   ]
  },
  {
   "cell_type": "markdown",
   "id": "6eef0066",
   "metadata": {},
   "source": [
    "## 5. 서포트벡터머신 - (1)분류"
   ]
  },
  {
   "cell_type": "code",
   "execution_count": 99,
   "id": "11ee3da8",
   "metadata": {},
   "outputs": [
    {
     "name": "stdout",
     "output_type": "stream",
     "text": [
      "<class 'pandas.core.frame.DataFrame'>\n",
      "RangeIndex: 683 entries, 0 to 682\n",
      "Data columns (total 11 columns):\n",
      " #   Column                       Non-Null Count  Dtype\n",
      "---  ------                       --------------  -----\n",
      " 0   code                         683 non-null    int64\n",
      " 1   Clump_Thickness              683 non-null    int64\n",
      " 2   Cell_Size                    683 non-null    int64\n",
      " 3   Cell_Shape                   683 non-null    int64\n",
      " 4   Marginal_Adhesion            683 non-null    int64\n",
      " 5   Single_Epithelial_Cell_Size  683 non-null    int64\n",
      " 6   Bare_Nuclei                  683 non-null    int64\n",
      " 7   Bland_Chromatin              683 non-null    int64\n",
      " 8   Normal_Nucleoli              683 non-null    int64\n",
      " 9   Mitoses                      683 non-null    int64\n",
      " 10  Class                        683 non-null    int64\n",
      "dtypes: int64(11)\n",
      "memory usage: 58.8 KB\n"
     ]
    }
   ],
   "source": [
    "# 데이터임포트\n",
    "import pandas as pd\n",
    "data_1 = pd.read_csv('/Users/yerim/Desktop/빅데이터분석기사/BigData_data_최종본(1022)/breast-cancer-wisconsin.csv', encoding='utf-8')\n",
    "data_1.info()"
   ]
  },
  {
   "cell_type": "code",
   "execution_count": 101,
   "id": "0034e972",
   "metadata": {},
   "outputs": [],
   "source": [
    "# X 와 Y 분류\n",
    "X1 = data_1.iloc[:,1:10]\n",
    "y1 = data_1[['Class']]"
   ]
  },
  {
   "cell_type": "code",
   "execution_count": 102,
   "id": "49d0aea0",
   "metadata": {},
   "outputs": [],
   "source": [
    "# train-test-split\n",
    "from sklearn.model_selection import train_test_split\n",
    "X1_train, X1_test, y1_train, y1_test = train_test_split(X1, y1, stratify=y1, random_state=42)"
   ]
  },
  {
   "cell_type": "code",
   "execution_count": 103,
   "id": "11054ca4",
   "metadata": {},
   "outputs": [],
   "source": [
    "# MinMaxScale\n",
    "from sklearn.preprocessing import MinMaxScaler\n",
    "scaler = MinMaxScaler()\n",
    "scaler.fit(X1_train)\n",
    "X1_scaled_train = scaler.transform(X1_train)\n",
    "X1_scaled_test = scaler.transform(X1_test)"
   ]
  },
  {
   "cell_type": "code",
   "execution_count": 105,
   "id": "1264ce19",
   "metadata": {},
   "outputs": [
    {
     "name": "stdout",
     "output_type": "stream",
     "text": [
      "훈련 데이터 점수 :  0.984375\n",
      "테스트 데이터 점수 :  0.9649122807017544\n"
     ]
    }
   ],
   "source": [
    "# 기본 모델 적용 - SVC\n",
    "from sklearn.svm import SVC\n",
    "model = SVC()\n",
    "model.fit(X1_scaled_train, y1_train)\n",
    "\n",
    "pred_train = model.predict(X1_scaled_train)\n",
    "pred_test = model.predict(X1_scaled_test)\n",
    "\n",
    "print(\"훈련 데이터 점수 : \" , model.score(X1_scaled_train, y1_train))\n",
    "print(\"테스트 데이터 점수 : \" , model.score(X1_scaled_test, y1_test))"
   ]
  },
  {
   "cell_type": "code",
   "execution_count": 107,
   "id": "bc35eb35",
   "metadata": {},
   "outputs": [
    {
     "name": "stdout",
     "output_type": "stream",
     "text": [
      "훈련 데이터 혼돈 행렬 : \n",
      " [[329   4]\n",
      " [  4 175]]\n",
      "테스트 데이터 혼돈 행렬 : \n",
      " [[106   5]\n",
      " [  1  59]]\n"
     ]
    }
   ],
   "source": [
    "# 혼돈행렬\n",
    "from sklearn.metrics import confusion_matrix\n",
    "conf_train = confusion_matrix(y1_train, pred_train)\n",
    "conf_test = confusion_matrix(y1_test, pred_test)\n",
    "\n",
    "print(\"훈련 데이터 혼돈 행렬 : \\n\" , conf_train)\n",
    "print(\"테스트 데이터 혼돈 행렬 : \\n\" , conf_test)"
   ]
  },
  {
   "cell_type": "code",
   "execution_count": 108,
   "id": "d4ae43bb",
   "metadata": {},
   "outputs": [
    {
     "name": "stdout",
     "output_type": "stream",
     "text": [
      "훈련 데이터 상세 지표 : \n",
      "               precision    recall  f1-score   support\n",
      "\n",
      "           0       0.99      0.99      0.99       333\n",
      "           1       0.98      0.98      0.98       179\n",
      "\n",
      "    accuracy                           0.98       512\n",
      "   macro avg       0.98      0.98      0.98       512\n",
      "weighted avg       0.98      0.98      0.98       512\n",
      "\n",
      "테스트 데이터 상세 지표 : \n",
      "               precision    recall  f1-score   support\n",
      "\n",
      "           0       0.99      0.95      0.97       111\n",
      "           1       0.92      0.98      0.95        60\n",
      "\n",
      "    accuracy                           0.96       171\n",
      "   macro avg       0.96      0.97      0.96       171\n",
      "weighted avg       0.97      0.96      0.97       171\n",
      "\n"
     ]
    }
   ],
   "source": [
    "# 상세지표\n",
    "from sklearn.metrics import classification_report\n",
    "cfr_train = classification_report(y1_train, pred_train)\n",
    "cfr_test = classification_report(y1_test, pred_test)\n",
    "\n",
    "print(\"훈련 데이터 상세 지표 : \\n\" , cfr_train )\n",
    "print(\"테스트 데이터 상세 지표 : \\n\" , cfr_test)"
   ]
  },
  {
   "cell_type": "code",
   "execution_count": 112,
   "id": "f0784714",
   "metadata": {},
   "outputs": [
    {
     "name": "stdout",
     "output_type": "stream",
     "text": [
      "Best params :  {'C': 1.0, 'gamma': 0.001, 'kernel': 'linear'}\n",
      "Best score :  0.9745669141442985\n",
      "Test score :  0.9590643274853801\n"
     ]
    }
   ],
   "source": [
    "# 그리드 서치\n",
    "from sklearn.model_selection import GridSearchCV\n",
    "parameters = {'kernel':['rbf','linear'] , \n",
    "             'C':[0.001, 0.01, 0.1, 1.0 , 10, 100],\n",
    "             'gamma' : [0.001, 0.01, 0.1, 1.0 , 10, 100]}\n",
    "grid_search = GridSearchCV(SVC(), parameters, cv=5)\n",
    "grid_search.fit(X1_scaled_train, y1_train)\n",
    "\n",
    "print(\"Best params : \", grid_search.best_params_)\n",
    "print(\"Best score : \" , grid_search.best_score_)\n",
    "print(\"Test score : \", grid_search.score(X1_scaled_test, y1_test))"
   ]
  },
  {
   "cell_type": "code",
   "execution_count": 113,
   "id": "f2c98a28",
   "metadata": {},
   "outputs": [
    {
     "name": "stdout",
     "output_type": "stream",
     "text": [
      "Best params :  {'C': 5, 'gamma': 45, 'kernel': 'linear'}\n",
      "Best score :  0.9765086617171141\n",
      "Test score :  0.9590643274853801\n"
     ]
    }
   ],
   "source": [
    "# 랜덤 서치\n",
    "from sklearn.model_selection import RandomizedSearchCV\n",
    "from scipy.stats import randint\n",
    "parameters = {'kernel' : ['rbf', 'linear'],\n",
    "             'C' : randint(low=0.001 , high=100),\n",
    "             'gamma' : randint(low=0.001, high=100)}\n",
    "random_search = RandomizedSearchCV(SVC(), param_distributions = parameters , cv=5, n_iter=100)\n",
    "random_search.fit(X1_scaled_train, y1_train)\n",
    "\n",
    "print(\"Best params : \" ,random_search.best_params_)\n",
    "print(\"Best score : \" , random_search.best_score_)\n",
    "print(\"Test score : \" , random_search.score(X1_scaled_test, y1_test))"
   ]
  },
  {
   "cell_type": "markdown",
   "id": "cde1fec4",
   "metadata": {},
   "source": [
    "## 5. 서포트벡터머신 - (2)회귀 "
   ]
  },
  {
   "cell_type": "code",
   "execution_count": 114,
   "id": "4c1bba17",
   "metadata": {},
   "outputs": [
    {
     "name": "stdout",
     "output_type": "stream",
     "text": [
      "<class 'pandas.core.frame.DataFrame'>\n",
      "RangeIndex: 17689 entries, 0 to 17688\n",
      "Data columns (total 6 columns):\n",
      " #   Column       Non-Null Count  Dtype  \n",
      "---  ------       --------------  -----  \n",
      " 0   housing_age  17689 non-null  int64  \n",
      " 1   income       17689 non-null  float64\n",
      " 2   bedrooms     17689 non-null  float64\n",
      " 3   households   17689 non-null  float64\n",
      " 4   rooms        17689 non-null  float64\n",
      " 5   house_value  17689 non-null  int64  \n",
      "dtypes: float64(4), int64(2)\n",
      "memory usage: 829.3 KB\n"
     ]
    }
   ],
   "source": [
    "# 데이터 로드\n",
    "import pandas as pd\n",
    "data2 = pd.read_csv('/Users/yerim/Desktop/빅데이터분석기사/BigData_data_최종본(1022)/house_price.csv', encoding='utf-8')\n",
    "data2.info()"
   ]
  },
  {
   "cell_type": "code",
   "execution_count": 115,
   "id": "53665ba3",
   "metadata": {},
   "outputs": [],
   "source": [
    "# X 와 Y 나누기\n",
    "X2 = data.iloc[:,1:5]\n",
    "y2 = data[['house_value']]"
   ]
  },
  {
   "cell_type": "code",
   "execution_count": 116,
   "id": "d3fbe58e",
   "metadata": {},
   "outputs": [],
   "source": [
    "# train_test_split\n",
    "from sklearn.model_selection import train_test_split\n",
    "X2_train, X2_test, y2_train, y2_test = train_test_split(X2, y2, random_state=42)"
   ]
  },
  {
   "cell_type": "code",
   "execution_count": 117,
   "id": "ca0c83e3",
   "metadata": {},
   "outputs": [],
   "source": [
    "# MinMaxScaler\n",
    "from sklearn.preprocessing import MinMaxScaler\n",
    "scaler = MinMaxScaler()\n",
    "scaler.fit(X2_train)\n",
    "\n",
    "X2_scaled_train = scaler.transform(X2_train)\n",
    "X2_scaled_test = scaler.transform(X2_test)"
   ]
  },
  {
   "cell_type": "code",
   "execution_count": 124,
   "id": "1015ee54",
   "metadata": {},
   "outputs": [
    {
     "name": "stdout",
     "output_type": "stream",
     "text": [
      "훈련 데이터 스코어 :  0.45177025652823866\n",
      "테스트 데이터 스코어 :  0.46997708096191404\n"
     ]
    }
   ],
   "source": [
    "# 기본 모델 - SVR\n",
    "from sklearn.svm import SVR\n",
    "model = SVR(kernel='poly')\n",
    "model.fit(X2_scaled_train, y2_train)\n",
    "\n",
    "pred_train = model.predict(X2_scaled_train)\n",
    "pred_test = model.predict(X2_scaled_test)\n",
    "\n",
    "print(\"훈련 데이터 스코어 : \" , model.score(X2_scaled_train , y2_train))\n",
    "print(\"테스트 데이터 스코어 : \" , model.score(X2_scaled_test, y2_test))"
   ]
  },
  {
   "cell_type": "code",
   "execution_count": 125,
   "id": "48768ec8",
   "metadata": {},
   "outputs": [
    {
     "name": "stdout",
     "output_type": "stream",
     "text": [
      "훈련데이터 RMSE :  70669.55244251259\n",
      "테스트데이터 RMSe :  69600.08959938576\n"
     ]
    }
   ],
   "source": [
    "# RMSE \n",
    "import numpy as np\n",
    "from sklearn.metrics import mean_squared_error\n",
    "\n",
    "MSE_train = mean_squared_error(y2_train, pred_train)\n",
    "MSE_test = mean_squared_error(y2_test, pred_test)\n",
    "\n",
    "print(\"훈련데이터 RMSE : \", np.sqrt(MSE_train))\n",
    "print(\"테스트데이터 RMSe : \", np.sqrt(MSE_test))"
   ]
  },
  {
   "cell_type": "code",
   "execution_count": 128,
   "id": "87fe4272",
   "metadata": {},
   "outputs": [
    {
     "name": "stdout",
     "output_type": "stream",
     "text": [
      "Best params :  {'C': 10, 'gamma': 10, 'kernel': 'poly'}\n",
      "Best score :  0.48878076027112094\n",
      "Test score :  0.5092229851181337\n"
     ]
    }
   ],
   "source": [
    "# 그리드서치\n",
    "from sklearn.model_selection import GridSearchCV\n",
    "parameters = {'kernel':['poly'],\n",
    "             'C' : [0.01, 0.1, 1, 10],\n",
    "             'gamma' : [0.01, 0.1, 1, 10]}\n",
    "grid_search = GridSearchCV(model , parameters , cv=5)\n",
    "grid_search.fit(X2_scaled_train, y2_train)\n",
    "\n",
    "print(\"Best params : \" , grid_search.best_params_)\n",
    "print(\"Best score : \" , grid_search.best_score_)\n",
    "print(\"Test score : \" , grid_search.score(X2_scaled_test, y2_test))"
   ]
  },
  {
   "cell_type": "code",
   "execution_count": 129,
   "id": "029f45ed",
   "metadata": {},
   "outputs": [
    {
     "name": "stdout",
     "output_type": "stream",
     "text": [
      "Best params :  {'C': 9, 'gamma': 8, 'kernel': 'poly'}\n",
      "Best score :  0.46459467651190567\n",
      "Test score :  0.4890335953909718\n"
     ]
    }
   ],
   "source": [
    "# 랜덤서치\n",
    "from sklearn.model_selection import RandomizedSearchCV\n",
    "from scipy.stats import randint\n",
    "\n",
    "parameters = {'kernel' : ['poly'],\n",
    "             'C' : randint(low=0.01, high=10),\n",
    "             'gamma' : randint(low=0.01, high=10)}\n",
    "\n",
    "random_search = RandomizedSearchCV(model,param_distributions = parameters, cv=5, n_iter=20)\n",
    "random_search.fit(X2_scaled_train, y2_train)\n",
    "\n",
    "print(\"Best params : \" , random_search.best_params_)\n",
    "print(\"Best score : \", random_search.best_score_)\n",
    "print(\"Test score : \", random_search.score(X2_scaled_test, y2_test))"
   ]
  },
  {
   "cell_type": "markdown",
   "id": "2bd07dda",
   "metadata": {},
   "source": [
    "## 6. 의사결정나무 - (1) 분류"
   ]
  },
  {
   "cell_type": "code",
   "execution_count": 130,
   "id": "b5844706",
   "metadata": {},
   "outputs": [
    {
     "name": "stdout",
     "output_type": "stream",
     "text": [
      "훈련 데이터 점수 :  1.0\n",
      "테스트 데이터 점수 :  0.9532163742690059\n"
     ]
    }
   ],
   "source": [
    "# 모델 사용 - DecisionTreeClassifier\n",
    "\n",
    "from sklearn.tree import DecisionTreeClassifier\n",
    "model = DecisionTreeClassifier()\n",
    "model.fit(X1_scaled_train, y1_train)\n",
    "\n",
    "pred_train = model.predict(X1_scaled_train)\n",
    "pred_test = model.predict(X1_scaled_test)\n",
    "\n",
    "print(\"훈련 데이터 점수 : \" , model.score(X1_scaled_train , y1_train))\n",
    "print(\"테스트 데이터 점수 : \" , model.score(X1_scaled_test, y1_test))"
   ]
  },
  {
   "cell_type": "code",
   "execution_count": 131,
   "id": "2636a9d9",
   "metadata": {},
   "outputs": [
    {
     "name": "stdout",
     "output_type": "stream",
     "text": [
      "훈련데이터 혼돈행렬 : \n",
      " [[333   0]\n",
      " [  0 179]]\n",
      "테스트데이터 혼동행렬 : \n",
      " [[106   5]\n",
      " [  3  57]]\n"
     ]
    }
   ],
   "source": [
    "# 혼돈행렬\n",
    "from sklearn.metrics import confusion_matrix\n",
    "conf_train = confusion_matrix(y1_train , pred_train)\n",
    "conf_test = confusion_matrix(y1_test, pred_test)\n",
    "\n",
    "print(\"훈련데이터 혼돈행렬 : \\n\" , conf_train)\n",
    "print(\"테스트데이터 혼동행렬 : \\n\" , conf_test)"
   ]
  },
  {
   "cell_type": "code",
   "execution_count": 132,
   "id": "676e5733",
   "metadata": {},
   "outputs": [
    {
     "name": "stdout",
     "output_type": "stream",
     "text": [
      "훈련데이테 상세평가지수 : \n",
      "               precision    recall  f1-score   support\n",
      "\n",
      "           0       1.00      1.00      1.00       333\n",
      "           1       1.00      1.00      1.00       179\n",
      "\n",
      "    accuracy                           1.00       512\n",
      "   macro avg       1.00      1.00      1.00       512\n",
      "weighted avg       1.00      1.00      1.00       512\n",
      "\n",
      "테스트데이터 상세평가지수 : \n",
      "               precision    recall  f1-score   support\n",
      "\n",
      "           0       0.97      0.95      0.96       111\n",
      "           1       0.92      0.95      0.93        60\n",
      "\n",
      "    accuracy                           0.95       171\n",
      "   macro avg       0.95      0.95      0.95       171\n",
      "weighted avg       0.95      0.95      0.95       171\n",
      "\n"
     ]
    }
   ],
   "source": [
    "# 상세 평가 지수\n",
    "from sklearn.metrics import classification_report\n",
    "\n",
    "cfr_train = classification_report(y1_train, pred_train)\n",
    "cfr_test = classification_report(y1_test, pred_test)\n",
    "\n",
    "print(\"훈련데이테 상세평가지수 : \\n\" , cfr_train)\n",
    "print(\"테스트데이터 상세평가지수 : \\n\" , cfr_test)"
   ]
  },
  {
   "cell_type": "code",
   "execution_count": 134,
   "id": "b25a8ca3",
   "metadata": {},
   "outputs": [
    {
     "name": "stdout",
     "output_type": "stream",
     "text": [
      "Best Param :  {'max_depth': 14, 'min_samples_leaf': 1}\n",
      "Best score :  0.9667237768893966\n",
      "Test score :  0.9532163742690059\n"
     ]
    }
   ],
   "source": [
    "# 그리드서치\n",
    "from sklearn.model_selection import GridSearchCV\n",
    "parameters = {'max_depth' : range(2,20,2), \n",
    "             'min_samples_leaf' : range(1,50,2)}\n",
    "grid_search = GridSearchCV(model, parameters, cv=5)\n",
    "grid_search.fit(X1_scaled_train, y1_train)\n",
    "\n",
    "print(\"Best Param : \" , grid_search.best_params_)\n",
    "print(\"Best score : \", grid_search.best_score_)\n",
    "print(\"Test score : \", grid_search.score(X1_scaled_test, y1_test))"
   ]
  },
  {
   "cell_type": "code",
   "execution_count": 136,
   "id": "4178f978",
   "metadata": {},
   "outputs": [
    {
     "name": "stdout",
     "output_type": "stream",
     "text": [
      "Best param :  {'max_depth': 2, 'min_samples_leaf': 8}\n",
      "Best score :  0.9472872644203314\n",
      "Test score :  0.935672514619883\n"
     ]
    }
   ],
   "source": [
    "# 랜덤서치\n",
    "from sklearn.model_selection import RandomizedSearchCV \n",
    "from scipy.stats import randint\n",
    "\n",
    "parameters = {'max_depth' : randint(low=1, high=20),\n",
    "             'min_samples_leaf' : randint(low=1, high=50)}\n",
    "\n",
    "random_search = RandomizedSearchCV(model, param_distributions = parameters, cv=5, n_iter=20)\n",
    "random_search.fit(X1_scaled_train, y1_train)\n",
    "\n",
    "print(\"Best param : \", random_search.best_params_)\n",
    "print(\"Best score : \", random_search.best_score_)\n",
    "print(\"Test score : \", random_search.score(X1_scaled_test, y1_test))"
   ]
  },
  {
   "cell_type": "markdown",
   "id": "b4eb88e6",
   "metadata": {},
   "source": [
    "## 6. 의사결정나무 - (2) 회귀"
   ]
  },
  {
   "cell_type": "code",
   "execution_count": 138,
   "id": "a2df12dd",
   "metadata": {},
   "outputs": [
    {
     "name": "stdout",
     "output_type": "stream",
     "text": [
      "훈련 데이터 점수 :  1.0\n",
      "테스트 데이터 점수 :  0.21820975548485466\n"
     ]
    }
   ],
   "source": [
    "# 기본 모델 적용 - DecisionTreeRegressor\n",
    "from sklearn.tree import DecisionTreeRegressor\n",
    "model = DecisionTreeRegressor()\n",
    "model.fit(X2_scaled_train, y2_train)\n",
    "\n",
    "pred_train = model.predict(X2_scaled_train)\n",
    "pred_test = model.predict(X2_scaled_test)\n",
    "\n",
    "print(\"훈련 데이터 점수 : \" , model.score(X2_scaled_train, y2_train))\n",
    "print(\"테스트 데이터 점수 : \" , model.score(X2_scaled_test, y2_test))"
   ]
  },
  {
   "cell_type": "code",
   "execution_count": 139,
   "id": "a8a980ea",
   "metadata": {},
   "outputs": [
    {
     "name": "stdout",
     "output_type": "stream",
     "text": [
      "훈련 데이터 RMSE 0.0\n",
      "테스트 데이터 RMSE 84529.36321500909\n"
     ]
    }
   ],
   "source": [
    "# RMSE\n",
    "from sklearn.metrics import mean_squared_error\n",
    "import numpy as np\n",
    "\n",
    "MSE_train = mean_squared_error(y2_train, pred_train)\n",
    "MSE_test = mean_squared_error(y2_test, pred_test)\n",
    "\n",
    "print(\"훈련 데이터 RMSE\" , np.sqrt(MSE_train))\n",
    "print(\"테스트 데이터 RMSE\" , np.sqrt(MSE_test))"
   ]
  },
  {
   "cell_type": "code",
   "execution_count": 140,
   "id": "450d816b",
   "metadata": {},
   "outputs": [
    {
     "name": "stdout",
     "output_type": "stream",
     "text": [
      "Bsst param :  {'max_depth': 9, 'min_samples_leaf': 49}\n",
      "Best score :  0.558919575352857\n",
      "Test score :  0.5772120054189142\n"
     ]
    }
   ],
   "source": [
    "# 그리드 서치\n",
    "from sklearn.model_selection import GridSearchCV\n",
    "parameters = {'max_depth' : range(1,20,2), \n",
    "             'min_samples_leaf' : range(1,50,2)}\n",
    "\n",
    "grid_search = GridSearchCV(model, parameters , cv=5)\n",
    "grid_search.fit(X2_scaled_train, y2_train)\n",
    "\n",
    "print(\"Bsst param : \" , grid_search.best_params_)\n",
    "print(\"Best score : \" , grid_search.best_score_)\n",
    "print(\"Test score : \" , grid_search.score(X2_scaled_test, y2_test))"
   ]
  },
  {
   "cell_type": "code",
   "execution_count": 143,
   "id": "ccaebcad",
   "metadata": {},
   "outputs": [
    {
     "name": "stdout",
     "output_type": "stream",
     "text": [
      "Best params :  {'max_depth': 10, 'min_samples_leaf': 46}\n",
      "Best score :  0.5579972830847009\n",
      "Test score :  0.5762173631108735\n"
     ]
    }
   ],
   "source": [
    "# 랜덤 서치\n",
    "from sklearn.model_selection import RandomizedSearchCV\n",
    "from scipy.stats import randint\n",
    "parameters = {'max_depth' : randint(1,20,2) , \n",
    "             'min_samples_leaf' : randint(1,50,2)}\n",
    "\n",
    "random_search = RandomizedSearchCV(model, param_distributions = parameters , cv=5, n_iter=20)\n",
    "random_search.fit(X2_scaled_train, y2_train)\n",
    "\n",
    "print(\"Best params : \", random_search.best_params_)\n",
    "print(\"Best score : \" , random_search.best_score_)\n",
    "print(\"Test score : \" , random_search.score(X2_scaled_test, y2_test))"
   ]
  },
  {
   "cell_type": "markdown",
   "id": "b47b8c41",
   "metadata": {},
   "source": []
  }
 ],
 "metadata": {
  "kernelspec": {
   "display_name": "Python 3",
   "language": "python",
   "name": "python3"
  },
  "language_info": {
   "codemirror_mode": {
    "name": "ipython",
    "version": 3
   },
   "file_extension": ".py",
   "mimetype": "text/x-python",
   "name": "python",
   "nbconvert_exporter": "python",
   "pygments_lexer": "ipython3",
   "version": "3.8.8"
  }
 },
 "nbformat": 4,
 "nbformat_minor": 5
}
