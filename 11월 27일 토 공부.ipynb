{
 "cells": [
  {
   "cell_type": "markdown",
   "id": "f8d3340f",
   "metadata": {},
   "source": [
    "# 11월 27일 토 공부"
   ]
  },
  {
   "cell_type": "markdown",
   "id": "a2a7bbc7",
   "metadata": {},
   "source": [
    "# 04. 머신러닝 핵심 알고리즘"
   ]
  },
  {
   "cell_type": "markdown",
   "id": "6b0f057b",
   "metadata": {},
   "source": [
    "## 1. 로지스틱 회귀 모델"
   ]
  },
  {
   "cell_type": "code",
   "execution_count": 1,
   "id": "0f6f7e92",
   "metadata": {},
   "outputs": [],
   "source": [
    "# 분석 데이터 준비\n",
    "import warnings\n",
    "warnings.filterwarnings(\"ignore\")\n",
    "\n",
    "import pandas as pd\n",
    "data = pd.read_csv('/Users/yerim/Desktop/빅데이터분석기사/BigData_data_최종본(1022)/breast-cancer-wisconsin.csv', encoding='utf-8')\n",
    "X = data[data.columns[1:10]]\n",
    "y = data[[\"Class\"]]"
   ]
  },
  {
   "cell_type": "code",
   "execution_count": 2,
   "id": "323442a9",
   "metadata": {},
   "outputs": [],
   "source": [
    "# 데이터 분류\n",
    "from sklearn.model_selection import train_test_split\n",
    "X_train, X_test, y_train, y_test = train_test_split(X,y,stratify=y,random_state=42)"
   ]
  },
  {
   "cell_type": "code",
   "execution_count": 3,
   "id": "a4b54754",
   "metadata": {},
   "outputs": [],
   "source": [
    "# 데이터 정규화\n",
    "from sklearn.preprocessing import MinMaxScaler\n",
    "scaler = MinMaxScaler()\n",
    "scaler.fit(X_train)\n",
    "\n",
    "X_scaled_minmax_train = scaler.transform(X_train)\n",
    "X_scaled_minmax_test = scaler.transform(X_test)"
   ]
  },
  {
   "cell_type": "code",
   "execution_count": 4,
   "id": "46a4fbca",
   "metadata": {},
   "outputs": [
    {
     "name": "stdout",
     "output_type": "stream",
     "text": [
      "훈련데이터 점수(기본 모델 적용, C=1) :  0.97265625\n",
      "테스트데이터 점수(기본 모델 적용, C=1) :  0.9590643274853801\n"
     ]
    }
   ],
   "source": [
    "# 기본 모델 적용 - 로지스틱회귀모델\n",
    "# 하이퍼파라미터 C = 1\n",
    "from sklearn.linear_model import LogisticRegression\n",
    "model=LogisticRegression()\n",
    "model.fit(X_scaled_minmax_train, y_train)\n",
    "\n",
    "pred_train = model.predict(X_scaled_minmax_train)\n",
    "pred_test = model.predict(X_scaled_minmax_test)\n",
    "\n",
    "print(\"훈련데이터 점수(기본 모델 적용, C=1) : \", model.score(X_scaled_minmax_train, y_train))\n",
    "print(\"테스트데이터 점수(기본 모델 적용, C=1) : \", model.score(X_scaled_minmax_test, y_test))"
   ]
  },
  {
   "cell_type": "code",
   "execution_count": 5,
   "id": "b2887af1",
   "metadata": {},
   "outputs": [
    {
     "name": "stdout",
     "output_type": "stream",
     "text": [
      "훈련 데이터 혼동행렬(기본 모델 적용, C=1) : \n",
      " [[328   5]\n",
      " [  9 170]]\n",
      "테스트 데이터 혼동행렬(기본 모델 적용, C=1) : \n",
      " [[106   5]\n",
      " [  2  58]]\n"
     ]
    }
   ],
   "source": [
    "# 기본 모델 성능 분석 - 혼동행렬\n",
    "from sklearn.metrics import confusion_matrix\n",
    "confusion_train = confusion_matrix(y_train, pred_train)\n",
    "confusion_test = confusion_matrix(y_test, pred_test)\n",
    "\n",
    "print(\"훈련 데이터 혼동행렬(기본 모델 적용, C=1) : \\n\" , confusion_train )\n",
    "print(\"테스트 데이터 혼동행렬(기본 모델 적용, C=1) : \\n\", confusion_test )"
   ]
  },
  {
   "cell_type": "code",
   "execution_count": 6,
   "id": "99906aa1",
   "metadata": {},
   "outputs": [
    {
     "name": "stdout",
     "output_type": "stream",
     "text": [
      "훈련 데이터 상세 평가 지표 (기본 모델 적용, C=1) : \n",
      "               precision    recall  f1-score   support\n",
      "\n",
      "           0       0.97      0.98      0.98       333\n",
      "           1       0.97      0.95      0.96       179\n",
      "\n",
      "    accuracy                           0.97       512\n",
      "   macro avg       0.97      0.97      0.97       512\n",
      "weighted avg       0.97      0.97      0.97       512\n",
      "\n",
      "테스트 데이터 상세 평가 지표 (기본 모델 적용, C=1) : \n",
      "               precision    recall  f1-score   support\n",
      "\n",
      "           0       0.98      0.95      0.97       111\n",
      "           1       0.92      0.97      0.94        60\n",
      "\n",
      "    accuracy                           0.96       171\n",
      "   macro avg       0.95      0.96      0.96       171\n",
      "weighted avg       0.96      0.96      0.96       171\n",
      "\n"
     ]
    }
   ],
   "source": [
    "# 기본 모델 성능 분석 - 평가 지표\n",
    "from sklearn.metrics import classification_report\n",
    "cfreport_train = classification_report(y_train, pred_train)\n",
    "cfreport_test = classification_report(y_test, pred_test)\n",
    "\n",
    "print(\"훈련 데이터 상세 평가 지표 (기본 모델 적용, C=1) : \\n\" , cfreport_train )\n",
    "print(\"테스트 데이터 상세 평가 지표 (기본 모델 적용, C=1) : \\n\" , cfreport_test )"
   ]
  },
  {
   "cell_type": "code",
   "execution_count": 7,
   "id": "e9e2a196",
   "metadata": {},
   "outputs": [
    {
     "data": {
      "text/plain": [
       "GridSearchCV(cv=5, estimator=LogisticRegression(),\n",
       "             param_grid={'C': [0.001, 0.01, 0.1, 1.0, 10, 100]})"
      ]
     },
     "execution_count": 7,
     "metadata": {},
     "output_type": "execute_result"
    }
   ],
   "source": [
    "# 파라미터튜닝 - Grid Search\n",
    "from sklearn.model_selection import GridSearchCV\n",
    "parameters = {'C' : [0.001, 0.01, 0.1 , 1.0 , 10, 100]}\n",
    "grid_search = GridSearchCV(model, parameters , cv=5)\n",
    "grid_search.fit(X_scaled_minmax_train, y_train)"
   ]
  },
  {
   "cell_type": "code",
   "execution_count": 8,
   "id": "a5c62327",
   "metadata": {},
   "outputs": [
    {
     "name": "stdout",
     "output_type": "stream",
     "text": [
      "최적의 파라미터 : {'C': 10}\n",
      "최적 훈련데이터 성능 : 0.9726\n",
      "Test data Score : 0.9591\n"
     ]
    }
   ],
   "source": [
    "# GridSearch결과 확인\n",
    "print(\"최적의 파라미터 : {}\".format(grid_search.best_params_))\n",
    "print(\"최적 훈련데이터 성능 : {:.4f}\".format(grid_search.best_score_))\n",
    "print(\"Test data Score : {:.4f}\".format(grid_search.score(X_scaled_minmax_test, y_test)))"
   ]
  },
  {
   "cell_type": "code",
   "execution_count": 12,
   "id": "2e770259",
   "metadata": {},
   "outputs": [
    {
     "data": {
      "text/plain": [
       "RandomizedSearchCV(cv=5, estimator=LogisticRegression(), n_iter=100,\n",
       "                   param_distributions={'C': <scipy.stats._distn_infrastructure.rv_frozen object at 0x7fde334388b0>})"
      ]
     },
     "execution_count": 12,
     "metadata": {},
     "output_type": "execute_result"
    }
   ],
   "source": [
    "# 파라미터 튜닝- random search\n",
    "from sklearn.model_selection import RandomizedSearchCV\n",
    "from scipy.stats import randint\n",
    "parameters = {'C' : randint(low=0.001,high=100)}\n",
    "random_search = RandomizedSearchCV(model, param_distributions=parameters, cv=5, n_iter=100)\n",
    "random_search.fit(X_scaled_minmax_train, y_train)"
   ]
  },
  {
   "cell_type": "code",
   "execution_count": 13,
   "id": "0d0c9206",
   "metadata": {},
   "outputs": [
    {
     "name": "stdout",
     "output_type": "stream",
     "text": [
      "최적의 파라미터 : {'C': 12}\n",
      "최적의 스코어 : 0.9745\n",
      "Test data Score : 0.9591\n"
     ]
    }
   ],
   "source": [
    "# RandomSearch 결과 확인\n",
    "print(\"최적의 파라미터 : {}\".format(random_search.best_params_))\n",
    "print(\"최적의 스코어 : {:.4f}\".format(random_search.best_score_))\n",
    "print(\"Test data Score : {:.4f}\".format(model.score(X_scaled_minmax_test, y_test)))"
   ]
  },
  {
   "cell_type": "markdown",
   "id": "5b200262",
   "metadata": {},
   "source": [
    "## 2. K 최근접 이웃법"
   ]
  },
  {
   "cell_type": "markdown",
   "id": "b0c50576",
   "metadata": {},
   "source": [
    "### 2-1 ) 분류 (Classification)"
   ]
  },
  {
   "cell_type": "code",
   "execution_count": 16,
   "id": "41f09522",
   "metadata": {},
   "outputs": [
    {
     "name": "stdout",
     "output_type": "stream",
     "text": [
      "<class 'pandas.core.frame.DataFrame'>\n",
      "RangeIndex: 683 entries, 0 to 682\n",
      "Data columns (total 11 columns):\n",
      " #   Column                       Non-Null Count  Dtype\n",
      "---  ------                       --------------  -----\n",
      " 0   code                         683 non-null    int64\n",
      " 1   Clump_Thickness              683 non-null    int64\n",
      " 2   Cell_Size                    683 non-null    int64\n",
      " 3   Cell_Shape                   683 non-null    int64\n",
      " 4   Marginal_Adhesion            683 non-null    int64\n",
      " 5   Single_Epithelial_Cell_Size  683 non-null    int64\n",
      " 6   Bare_Nuclei                  683 non-null    int64\n",
      " 7   Bland_Chromatin              683 non-null    int64\n",
      " 8   Normal_Nucleoli              683 non-null    int64\n",
      " 9   Mitoses                      683 non-null    int64\n",
      " 10  Class                        683 non-null    int64\n",
      "dtypes: int64(11)\n",
      "memory usage: 58.8 KB\n"
     ]
    }
   ],
   "source": [
    "# 분석 데이터 준비\n",
    "import warnings\n",
    "warnings.filterwarnings(\"ignore\")\n",
    "\n",
    "import pandas as pd\n",
    "data = pd.read_csv('/Users/yerim/Desktop/빅데이터분석기사/BigData_data_최종본(1022)/breast-cancer-wisconsin.csv', encoding='utf-8')\n",
    "data.head()\n",
    "data.info()"
   ]
  },
  {
   "cell_type": "code",
   "execution_count": 17,
   "id": "89f6af3b",
   "metadata": {},
   "outputs": [],
   "source": [
    "# X 와 y 나누기\n",
    "X = data[data.columns[1:10]]\n",
    "y = data[['Class']]"
   ]
  },
  {
   "cell_type": "code",
   "execution_count": 18,
   "id": "8844bc2e",
   "metadata": {},
   "outputs": [],
   "source": [
    "# train-test-split\n",
    "from sklearn.model_selection import train_test_split\n",
    "X_train, X_test, y_train, y_test = train_test_split(X,y,stratify=y,random_state=42)"
   ]
  },
  {
   "cell_type": "code",
   "execution_count": 19,
   "id": "831b8fb1",
   "metadata": {},
   "outputs": [],
   "source": [
    "# 정규화 하기 - minmax 정규화\n",
    "from sklearn.preprocessing import MinMaxScaler\n",
    "scaler = MinMaxScaler()\n",
    "scaler.fit(X_train)\n",
    "X_scaled_train = scaler.transform(X_train)\n",
    "X_scaled_test = scaler.transform(X_test)"
   ]
  },
  {
   "cell_type": "code",
   "execution_count": 21,
   "id": "c2e9eda1",
   "metadata": {},
   "outputs": [
    {
     "name": "stdout",
     "output_type": "stream",
     "text": [
      "훈련데이터 성능 :  0.984375\n",
      "테스트데이터 성능 :  0.9532163742690059\n"
     ]
    }
   ],
   "source": [
    "# 모델 사용하기 - KNN 알고리즘(분류)\n",
    "from sklearn.neighbors import KNeighborsClassifier\n",
    "model = KNeighborsClassifier()\n",
    "model.fit(X_scaled_train, y_train)\n",
    "\n",
    "pred_train = model.predict(X_scaled_train)\n",
    "print(\"훈련데이터 성능 : \" , model.score(X_scaled_train, y_train))\n",
    "\n",
    "pred_test = model.predict(X_scaled_test)\n",
    "print(\"테스트데이터 성능 : \", model.score(X_scaled_test, y_test))"
   ]
  },
  {
   "cell_type": "code",
   "execution_count": 23,
   "id": "3f01c9c4",
   "metadata": {},
   "outputs": [
    {
     "name": "stdout",
     "output_type": "stream",
     "text": [
      "훈련 데이터 혼동행렬 : \n",
      " [[331   2]\n",
      " [  6 173]]\n",
      "테스트 데이터 혼동행렬 : \n",
      " [[106   5]\n",
      " [  3  57]]\n"
     ]
    }
   ],
   "source": [
    "# 기본 모델의 혼동행렬 확인하기\n",
    "from sklearn.metrics import confusion_matrix\n",
    "\n",
    "confusion_train = confusion_matrix(y_train, pred_train)\n",
    "print(\"훈련 데이터 혼동행렬 : \\n\" , confusion_train)\n",
    "\n",
    "confusion_test = confusion_matrix(y_test, pred_test)\n",
    "print(\"테스트 데이터 혼동행렬 : \\n\" , confusion_test)"
   ]
  },
  {
   "cell_type": "code",
   "execution_count": 25,
   "id": "65b5a8a2",
   "metadata": {},
   "outputs": [
    {
     "name": "stdout",
     "output_type": "stream",
     "text": [
      "훈련 데이터 상세 지표 : \n",
      "                precision    recall  f1-score   support\n",
      "\n",
      "           0       0.98      0.99      0.99       333\n",
      "           1       0.99      0.97      0.98       179\n",
      "\n",
      "    accuracy                           0.98       512\n",
      "   macro avg       0.99      0.98      0.98       512\n",
      "weighted avg       0.98      0.98      0.98       512\n",
      "\n",
      "테스트 데이터 상세 지표 : \n",
      "               precision    recall  f1-score   support\n",
      "\n",
      "           0       0.98      0.95      0.97       111\n",
      "           1       0.92      0.97      0.94        60\n",
      "\n",
      "    accuracy                           0.96       171\n",
      "   macro avg       0.95      0.96      0.96       171\n",
      "weighted avg       0.96      0.96      0.96       171\n",
      "\n"
     ]
    }
   ],
   "source": [
    "# 기본 모델의 상세 지표 확인하기\n",
    "from sklearn.metrics import classification_report\n",
    "\n",
    "cfreport_train = classification_report(y_train, pred_train)\n",
    "print(\"훈련 데이터 상세 지표 : \\n \", cfreport_train)\n",
    "\n",
    "cfreprot_test = classification_report(y_test, pred_test)\n",
    "print(\"테스트 데이터 상세 지표 : \\n\", cfreport_test)"
   ]
  },
  {
   "cell_type": "code",
   "execution_count": 26,
   "id": "af7f621a",
   "metadata": {},
   "outputs": [
    {
     "data": {
      "text/plain": [
       "GridSearchCV(cv=5, estimator=KNeighborsClassifier(),\n",
       "             param_grid={'n_neighbors': [1, 3, 5, 7, 9, 11]})"
      ]
     },
     "execution_count": 26,
     "metadata": {},
     "output_type": "execute_result"
    }
   ],
   "source": [
    "# 파라미터 튜닝 - Grid Search\n",
    "from sklearn.model_selection import GridSearchCV\n",
    "parameters = {'n_neighbors' : [1, 3, 5, 7, 9, 11]}\n",
    "grid_search = GridSearchCV(model, parameters, cv=5)\n",
    "grid_search.fit(X_scaled_train, y_train)"
   ]
  },
  {
   "cell_type": "code",
   "execution_count": 28,
   "id": "195e0879",
   "metadata": {},
   "outputs": [
    {
     "name": "stdout",
     "output_type": "stream",
     "text": [
      "훈련 데이터 가장 좋은 파라미터 :  {'n_neighbors': 3}\n",
      "훈련 데이터 가장 높은 성능 : 0.9824\n",
      "테스트 데이터 점수 : 0.9532\n"
     ]
    }
   ],
   "source": [
    "# Grid Search 결과 보기\n",
    "print(\"훈련 데이터 가장 좋은 파라미터 : \" , grid_search.best_params_)\n",
    "print(\"훈련 데이터 가장 높은 성능 : {:.4f}\".format(grid_search.best_score_))\n",
    "print(\"테스트 데이터 점수 : {:.4f}\".format(model.score(X_scaled_test, y_test)))"
   ]
  },
  {
   "cell_type": "code",
   "execution_count": 31,
   "id": "891435e2",
   "metadata": {},
   "outputs": [
    {
     "data": {
      "text/plain": [
       "RandomizedSearchCV(cv=5, estimator=KNeighborsClassifier(), n_iter=20,\n",
       "                   param_distributions={'n_neighbors': <scipy.stats._distn_infrastructure.rv_frozen object at 0x7fde33553bb0>})"
      ]
     },
     "execution_count": 31,
     "metadata": {},
     "output_type": "execute_result"
    }
   ],
   "source": [
    "# 파라미터 튜닝 - Random Search\n",
    "from sklearn.model_selection import RandomizedSearchCV\n",
    "from scipy.stats import randint\n",
    "parameters = {'n_neighbors' : randint(low=1, high=20)}\n",
    "random_search = RandomizedSearchCV(model, param_distributions=parameters, cv=5, n_iter=20)\n",
    "random_search.fit(X_scaled_train, y_train)"
   ]
  },
  {
   "cell_type": "code",
   "execution_count": 34,
   "id": "e3786bfb",
   "metadata": {},
   "outputs": [
    {
     "name": "stdout",
     "output_type": "stream",
     "text": [
      "훈련 데이터 가장 좋은 파라미터 :  {'n_neighbors': 4}\n",
      "훈련 데이터 가장 좋은 성능 : 0.9804\n",
      "테스트 데이터 성능 : 0.9532\n"
     ]
    }
   ],
   "source": [
    "# Random Search 결과 보기\n",
    "print(\"훈련 데이터 가장 좋은 파라미터 : \", random_search.best_params_)\n",
    "print(\"훈련 데이터 가장 좋은 성능 : {:.4f}\".format(random_search.best_score_))\n",
    "print(\"테스트 데이터 성능 : {:.4f}\".format(model.score(X_scaled_test, y_test)))"
   ]
  },
  {
   "cell_type": "markdown",
   "id": "6351bd6c",
   "metadata": {},
   "source": [
    "### 2-2) 회귀(Regression)"
   ]
  },
  {
   "cell_type": "code",
   "execution_count": 35,
   "id": "0a03ef02",
   "metadata": {},
   "outputs": [],
   "source": [
    "# 분석 데이터 준비\n",
    "import pandas as pd\n",
    "data = pd.read_csv('/Users/yerim/Desktop/빅데이터분석기사/BigData_data_최종본(1022)/house_price.csv', encoding='utf-8')\n",
    "X=data[data.columns[1:5]]\n",
    "y=data[[\"house_value\"]]"
   ]
  },
  {
   "cell_type": "code",
   "execution_count": 36,
   "id": "2f7e3756",
   "metadata": {},
   "outputs": [],
   "source": [
    "# train-test split\n",
    "from sklearn.model_selection import train_test_split\n",
    "X_train , X_test, y_train, y_test = train_test_split(X,y,random_state=42)"
   ]
  },
  {
   "cell_type": "code",
   "execution_count": null,
   "id": "28bfafb4",
   "metadata": {},
   "outputs": [],
   "source": [
    "# MinMax정규화\n",
    "from sklearn.preprocessing import MinMaxScaler\n",
    "scaler = MinMaxScaler()\n",
    "scaler.fit(X_train)\n",
    "X_scaled_train = scaler.transform(X_train)\n",
    "X_scaled_test = scaler.transform(X_test)"
   ]
  }
 ],
 "metadata": {
  "kernelspec": {
   "display_name": "Python 3",
   "language": "python",
   "name": "python3"
  },
  "language_info": {
   "codemirror_mode": {
    "name": "ipython",
    "version": 3
   },
   "file_extension": ".py",
   "mimetype": "text/x-python",
   "name": "python",
   "nbconvert_exporter": "python",
   "pygments_lexer": "ipython3",
   "version": "3.8.8"
  }
 },
 "nbformat": 4,
 "nbformat_minor": 5
}
