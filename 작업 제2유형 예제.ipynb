{
 "cells": [
  {
   "cell_type": "markdown",
   "id": "1a2e2095",
   "metadata": {},
   "source": [
    "## 결측치, 이상치 제거"
   ]
  },
  {
   "cell_type": "code",
   "execution_count": null,
   "id": "c610e524",
   "metadata": {},
   "outputs": [],
   "source": [
    "# 결측치 확인\n",
    "X_train.isnull().sum()\n",
    "\n",
    "# 결측치 처리\n",
    "X_train = X_train.fillna(0)\n",
    "\n",
    "# 결측치 제거 확인\n",
    "X.isnull().sum()"
   ]
  },
  {
   "cell_type": "code",
   "execution_count": null,
   "id": "2f6e32c8",
   "metadata": {},
   "outputs": [],
   "source": [
    "# 결측치 확인\n",
    "X_test.isnull().sum()\n",
    "\n",
    "# 결측치 처리\n",
    "X_test = X_test.fillna(0)\n",
    "\n",
    "# 결측치 제거 확인\n",
    "X.isnull().sum()"
   ]
  },
  {
   "cell_type": "markdown",
   "id": "4aa11546",
   "metadata": {},
   "source": [
    "## 텍스트형 자료 더미 변수화"
   ]
  },
  {
   "cell_type": "code",
   "execution_count": 11,
   "id": "2258bf21",
   "metadata": {},
   "outputs": [
    {
     "ename": "NameError",
     "evalue": "name 'X_train' is not defined",
     "output_type": "error",
     "traceback": [
      "\u001b[0;31m---------------------------------------------------------------------------\u001b[0m",
      "\u001b[0;31mNameError\u001b[0m                                 Traceback (most recent call last)",
      "\u001b[0;32m<ipython-input-11-664eedae94e8>\u001b[0m in \u001b[0;36m<module>\u001b[0;34m\u001b[0m\n\u001b[1;32m      1\u001b[0m \u001b[0;31m# 원핫 인코딩\u001b[0m\u001b[0;34m\u001b[0m\u001b[0;34m\u001b[0m\u001b[0;34m\u001b[0m\u001b[0m\n\u001b[0;32m----> 2\u001b[0;31m \u001b[0mX_train_obj\u001b[0m \u001b[0;34m=\u001b[0m \u001b[0mX_train\u001b[0m\u001b[0;34m[\u001b[0m\u001b[0;34m[\u001b[0m\u001b[0;34m'주구매상품'\u001b[0m\u001b[0;34m]\u001b[0m\u001b[0;34m]\u001b[0m\u001b[0;34m.\u001b[0m\u001b[0mget_dummies\u001b[0m\u001b[0;34m(\u001b[0m\u001b[0;34m)\u001b[0m\u001b[0;34m\u001b[0m\u001b[0;34m\u001b[0m\u001b[0m\n\u001b[0m\u001b[1;32m      3\u001b[0m \u001b[0mX_test_obj\u001b[0m \u001b[0;34m=\u001b[0m \u001b[0mX_test\u001b[0m\u001b[0;34m[\u001b[0m\u001b[0;34m[\u001b[0m\u001b[0;34m'주구매상품'\u001b[0m\u001b[0;34m]\u001b[0m\u001b[0;34m]\u001b[0m\u001b[0;34m.\u001b[0m\u001b[0mget_dummies\u001b[0m\u001b[0;34m(\u001b[0m\u001b[0;34m)\u001b[0m\u001b[0;34m\u001b[0m\u001b[0;34m\u001b[0m\u001b[0m\n\u001b[1;32m      4\u001b[0m \u001b[0mX_train_sto\u001b[0m \u001b[0;34m=\u001b[0m \u001b[0mX_train\u001b[0m\u001b[0;34m[\u001b[0m\u001b[0;34m[\u001b[0m\u001b[0;34m'주구매지점'\u001b[0m\u001b[0;34m]\u001b[0m\u001b[0;34m]\u001b[0m\u001b[0;34m.\u001b[0m\u001b[0mget_dummies\u001b[0m\u001b[0;34m(\u001b[0m\u001b[0;34m)\u001b[0m\u001b[0;34m\u001b[0m\u001b[0;34m\u001b[0m\u001b[0m\n\u001b[1;32m      5\u001b[0m \u001b[0mX_test_obj\u001b[0m \u001b[0;34m=\u001b[0m \u001b[0mX_test\u001b[0m\u001b[0;34m[\u001b[0m\u001b[0;34m[\u001b[0m\u001b[0;34m'주구매지점'\u001b[0m\u001b[0;34m]\u001b[0m\u001b[0;34m]\u001b[0m\u001b[0;34m.\u001b[0m\u001b[0mget_dummies\u001b[0m\u001b[0;34m(\u001b[0m\u001b[0;34m)\u001b[0m\u001b[0;34m\u001b[0m\u001b[0;34m\u001b[0m\u001b[0m\n",
      "\u001b[0;31mNameError\u001b[0m: name 'X_train' is not defined"
     ]
    }
   ],
   "source": [
    "# 원 핫 인코딩\n",
    "X_train_obj = X_train[['주구매상품']].get_dummies()\n",
    "X_test_obj = X_test[['주구매상품']].get_dummies()\n",
    "X_train_sto = X_train[['주구매지점']].get_dummies()\n",
    "X_test_obj = X_test[['주구매지점']].get_dummies()\n",
    "\n",
    "## 원 핫 인코딩시 주의 할 점!!!! \n",
    "## X_train 에 있는 값이 X_test에는 존재하지 않을 수 있다."
   ]
  },
  {
   "cell_type": "markdown",
   "id": "110dcaa8",
   "metadata": {},
   "source": [
    "## 데이터 정규화"
   ]
  },
  {
   "cell_type": "code",
   "execution_count": null,
   "id": "8cc3c006",
   "metadata": {},
   "outputs": [],
   "source": []
  },
  {
   "cell_type": "markdown",
   "id": "d88979da",
   "metadata": {},
   "source": [
    "## train, test data split"
   ]
  },
  {
   "cell_type": "markdown",
   "id": "6b34f0ef",
   "metadata": {},
   "source": [
    "## (자료가 불균형할 때) 오버, 언더 샘플링"
   ]
  },
  {
   "cell_type": "markdown",
   "id": "6934fa7a",
   "metadata": {},
   "source": [
    "## 차원 축소"
   ]
  },
  {
   "cell_type": "markdown",
   "id": "dce6c687",
   "metadata": {},
   "source": [
    "## 모델링"
   ]
  },
  {
   "cell_type": "markdown",
   "id": "fed0b60a",
   "metadata": {},
   "source": [
    "## fit 학습"
   ]
  },
  {
   "cell_type": "markdown",
   "id": "cbd49f1e",
   "metadata": {},
   "source": [
    "## test data set으로 Accuracy score 확인"
   ]
  },
  {
   "cell_type": "markdown",
   "id": "67067973",
   "metadata": {},
   "source": [
    "## 배깅"
   ]
  },
  {
   "cell_type": "markdown",
   "id": "88215331",
   "metadata": {},
   "source": [
    "## 배깅 모형 평가"
   ]
  },
  {
   "cell_type": "markdown",
   "id": "759b2c14",
   "metadata": {},
   "source": [
    "## 최종 모델을 사용해 새로운 데이터셋의 결과 확인"
   ]
  },
  {
   "cell_type": "code",
   "execution_count": null,
   "id": "62d19c63",
   "metadata": {},
   "outputs": [],
   "source": []
  }
 ],
 "metadata": {
  "kernelspec": {
   "display_name": "Python 3",
   "language": "python",
   "name": "python3"
  },
  "language_info": {
   "codemirror_mode": {
    "name": "ipython",
    "version": 3
   },
   "file_extension": ".py",
   "mimetype": "text/x-python",
   "name": "python",
   "nbconvert_exporter": "python",
   "pygments_lexer": "ipython3",
   "version": "3.8.8"
  }
 },
 "nbformat": 4,
 "nbformat_minor": 5
}
